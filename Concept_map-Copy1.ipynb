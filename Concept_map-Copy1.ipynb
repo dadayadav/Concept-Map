{
 "cells": [
  {
   "cell_type": "code",
   "execution_count": 2,
   "metadata": {
    "collapsed": true
   },
   "outputs": [],
   "source": [
    "import pandas as pd\n",
    "import numpy as np\n",
    "import matplotlib.pyplot as plt\n",
    "import nltk\n",
    "from nltk.tokenize import word_tokenize, sent_tokenize\n",
    "from nltk.corpus import stopwords\n",
    "from nltk.stem import WordNetLemmatizer, PorterStemmer\n",
    "from string import punctuation\n",
    "from collections import Counter\n",
    "from collections import OrderedDict\n",
    "from sklearn.feature_extraction.text import TfidfVectorizer\n",
    "from nltk.stem.wordnet import WordNetLemmatizer"
   ]
  },
  {
   "cell_type": "code",
   "execution_count": 3,
   "metadata": {},
   "outputs": [
    {
     "name": "stdout",
     "output_type": "stream",
     "text": [
      "185\n"
     ]
    }
   ],
   "source": [
    "# Data Preprocessing \n",
    "# Remove stopwords\n",
    "stopword = set(stopwords.words('english'))\n",
    "unrelevent = {'we', 'We','have','has','for', 'from', 'they','there','while','the', 'is','both','with','and', 'were', 'but','any','who','ah','80x5', 'e4', 'tff','55pm', }\n",
    "#ab = stopword\n",
    "#unrelevent.append(ab)\n",
    "#print(unrelevent)\n",
    "for i in unrelevent:\n",
    "    stopword.add(i)\n",
    "print(len(stopword))\n",
    "#x_train = data['Brief Description']"
   ]
  },
  {
   "cell_type": "code",
   "execution_count": 4,
   "metadata": {
    "collapsed": true
   },
   "outputs": [],
   "source": [
    "token_pattern=u'(?ui)\\\\b\\\\w*[a-zA-Z][0-9]+\\\\w*\\\\b',"
   ]
  },
  {
   "cell_type": "code",
   "execution_count": 5,
   "metadata": {
    "collapsed": true
   },
   "outputs": [],
   "source": [
    "#vect = TfidfVectorizer(analyzer='word',stop_words = stopword).fit(x_train)"
   ]
  },
  {
   "cell_type": "code",
   "execution_count": 6,
   "metadata": {},
   "outputs": [
    {
     "data": {
      "text/plain": [
       "\"for i in range(len(data)):\\n    #print(data.iloc[i:i+1,0])\\n    a = data['Brief Description'][0]\\n    #data.iloc[i:i+1,0] = sent_tokenize(data.iloc[i:i+1,0])\""
      ]
     },
     "execution_count": 6,
     "metadata": {},
     "output_type": "execute_result"
    }
   ],
   "source": [
    "\"\"\"for i in range(len(data)):\n",
    "    #print(data.iloc[i:i+1,0])\n",
    "    a = data['Brief Description'][0]\n",
    "    #data.iloc[i:i+1,0] = sent_tokenize(data.iloc[i:i+1,0])\"\"\""
   ]
  },
  {
   "cell_type": "code",
   "execution_count": 7,
   "metadata": {
    "collapsed": true
   },
   "outputs": [],
   "source": [
    "from nltk.stem.wordnet import WordNetLemmatizer"
   ]
  },
  {
   "cell_type": "markdown",
   "metadata": {
    "collapsed": true
   },
   "source": [
    "## Concept map for Data for Praveen_csv"
   ]
  },
  {
   "cell_type": "code",
   "execution_count": 8,
   "metadata": {
    "collapsed": true
   },
   "outputs": [],
   "source": [
    "data = pd.read_csv(r'F:\\Winter pack\\Introduction to Game Development\\Project on DA\\Projects\\Project_3(Concept Map)\\Data\\Data for Praveen_csv.csv')"
   ]
  },
  {
   "cell_type": "code",
   "execution_count": 9,
   "metadata": {},
   "outputs": [
    {
     "data": {
      "text/html": [
       "<div>\n",
       "<style>\n",
       "    .dataframe thead tr:only-child th {\n",
       "        text-align: right;\n",
       "    }\n",
       "\n",
       "    .dataframe thead th {\n",
       "        text-align: left;\n",
       "    }\n",
       "\n",
       "    .dataframe tbody tr th {\n",
       "        vertical-align: top;\n",
       "    }\n",
       "</style>\n",
       "<table border=\"1\" class=\"dataframe\">\n",
       "  <thead>\n",
       "    <tr style=\"text-align: right;\">\n",
       "      <th></th>\n",
       "      <th>Brief Description</th>\n",
       "      <th>Investigation Report</th>\n",
       "      <th>Hazardous Element</th>\n",
       "    </tr>\n",
       "  </thead>\n",
       "  <tbody>\n",
       "    <tr>\n",
       "      <th>0</th>\n",
       "      <td>When the process Fan#61 tipped at around 10:30...</td>\n",
       "      <td>time delay between interlock systems. Despite ...</td>\n",
       "      <td>Gas</td>\n",
       "    </tr>\n",
       "    <tr>\n",
       "      <th>1</th>\n",
       "      <td>Huge skirt leakage in vessel #1 after jam fell...</td>\n",
       "      <td>Prior to breakdown on 10th Apr’15 there were e...</td>\n",
       "      <td>Hot metal/ steel/slag</td>\n",
       "    </tr>\n",
       "    <tr>\n",
       "      <th>2</th>\n",
       "      <td>Ladle # 9 Slide gate failed to operate. There ...</td>\n",
       "      <td>malfunction of equipment/machine</td>\n",
       "      <td>Hot metal/ steel/slag</td>\n",
       "    </tr>\n",
       "    <tr>\n",
       "      <th>3</th>\n",
       "      <td>GCM Regulator link came out of its actuator re...</td>\n",
       "      <td>malfunction of equipment, the actuator to be i...</td>\n",
       "      <td>chemical</td>\n",
       "    </tr>\n",
       "    <tr>\n",
       "      <th>4</th>\n",
       "      <td>While opening slide gate of ladle 23 in Caster...</td>\n",
       "      <td>deformation of plate fixing casstte ,improper ...</td>\n",
       "      <td>Hot metal/ steel/slag</td>\n",
       "    </tr>\n",
       "  </tbody>\n",
       "</table>\n",
       "</div>"
      ],
      "text/plain": [
       "                                   Brief Description  \\\n",
       "0  When the process Fan#61 tipped at around 10:30...   \n",
       "1  Huge skirt leakage in vessel #1 after jam fell...   \n",
       "2  Ladle # 9 Slide gate failed to operate. There ...   \n",
       "3  GCM Regulator link came out of its actuator re...   \n",
       "4  While opening slide gate of ladle 23 in Caster...   \n",
       "\n",
       "                                Investigation Report      Hazardous Element  \n",
       "0  time delay between interlock systems. Despite ...                    Gas  \n",
       "1  Prior to breakdown on 10th Apr’15 there were e...  Hot metal/ steel/slag  \n",
       "2                   malfunction of equipment/machine  Hot metal/ steel/slag  \n",
       "3  malfunction of equipment, the actuator to be i...               chemical  \n",
       "4  deformation of plate fixing casstte ,improper ...  Hot metal/ steel/slag  "
      ]
     },
     "execution_count": 9,
     "metadata": {},
     "output_type": "execute_result"
    }
   ],
   "source": [
    "data.head()"
   ]
  },
  {
   "cell_type": "code",
   "execution_count": 9,
   "metadata": {
    "collapsed": true
   },
   "outputs": [],
   "source": [
    "hot_metal_data=pd.DataFrame()\n",
    "brief_dis = []\n",
    "Invest_rep = []\n",
    "for i in range(len(data)):\n",
    "    if data['Hazardous Element'][i]=='Hot metal/ steel/slag':\n",
    "        brief_dis.append(data['Brief Description'][i])\n",
    "    if data['Hazardous Element'][i]=='Hot metal/ steel/slag':\n",
    "        Invest_rep.append(data['Investigation Report'][i])\n",
    "hot_metal_data['Brief Description'] = brief_dis\n",
    "hot_metal_data['Investigation Report'] = Invest_rep"
   ]
  },
  {
   "cell_type": "code",
   "execution_count": 14,
   "metadata": {},
   "outputs": [
    {
     "name": "stdout",
     "output_type": "stream",
     "text": [
      "186\n"
     ]
    }
   ],
   "source": [
    "stopword = set(stopwords.words('english'))\n",
    "unrelevent = {'we', 'We','have','has','for', 'from', 'they','there','while','the', 'is','both','with','and', 'were', 'but','any','who','ah','80x5', 'e4', 'tff','55pm','pm'}\n",
    "for i in unrelevent:\n",
    "    stopword.add(i)\n",
    "print(len(stopword))\n",
    "x_train = hot_metal_data['Brief Description']"
   ]
  },
  {
   "cell_type": "code",
   "execution_count": 15,
   "metadata": {
    "collapsed": true
   },
   "outputs": [],
   "source": [
    "vect = TfidfVectorizer(analyzer='word',token_pattern=u'(?ui)\\\\b\\\\w*[a-z]+\\\\w*\\\\b',stop_words = stopword).fit(x_train)"
   ]
  },
  {
   "cell_type": "code",
   "execution_count": 41,
   "metadata": {},
   "outputs": [
    {
     "name": "stdout",
     "output_type": "stream",
     "text": [
      "['00hrs', '100ltr', '100t', '10hrs', '10pm', '19th', '202t', '20hrs', '20min', '240bar', '25am', '25pm', '25t', '27t', '2nd', '30pm', '37pm', '40t', '50pm', 'adding', 'addition', 'agency', 'al80', 'also', 'appeared', 'approx', 'area', 'arm', 'around', 'asked', 'away', 'b', 'back', 'backup', 'bars', 'bay', 'blank', 'blow', 'bottom', 'brigade', 'bring', 'brought', 'c', 'cable', 'calcium', 'called', 'cap', 'car', 'cast', 'caster', 'casting', 'cc', 'cc2', 'cc3', 'chunk', 'chute', 'circuit', 'clay', 'close', 'closed', 'closing', 'cnc', 'cold', 'coming', 'complete', 'completely', 'completion', 'conditions', 'contaminations', 'control', 'cooled', 'copper', 'cordened', 'could', 'coupled', 'cover', 'crane', 'crew', 'damage', 'damaged', 'de', 'defence', 'destination', 'difficulty', 'discharged', 'diverted', 'done', 'drag', 'drained', 'drastically', 'due', 'dump', 'dumped', 'dumping', 'east', 'ejected', 'emegency', 'emergency', 'emptied', 'emptying', 'end', 'externally', 'failed', 'fall', 'falling', 'fatality', 'fbf', 'feb', 'fell', 'filling', 'finally', 'fire', 'fired', 'firing', 'fixed', 'flow', 'flush', 'found', 'fresh', 'ftc', 'furnace', 'gap', 'gate', 'going', 'got', 'gran', 'granshot', 'ground', 'gs', 'gun', 'handle', 'happened', 'healthiness', 'heat', 'heavy', 'hi', 'hm', 'holding', 'hot', 'house', 'huge', 'hydraulic', 'identified', 'imeediately', 'immedately', 'immediatelt', 'immediately', 'immediatly', 'inba', 'increase', 'initially', 'inspection', 'investigation', 'isolation', 'jam', 'jammed', 'job', 'ladle', 'lalan', 'ld', 'ld2', 'leading', 'leakage', 'leakaged', 'leaked', 'leaking', 'left', 'leg', 'level', 'lf', 'life', 'lift', 'lifted', 'line', 'liquid', 'loco', 'lower', 'luckily', 'lucky', 'machine', 'main', 'maintain', 'maintenance', 'man', 'manual', 'meanwhile', 'mech', 'mecha', 'metal', 'meter', 'middle', 'minerals', 'mins', 'minutes', 'mode', 'molten', 'mouth', 'moved', 'mr', 'mud', 'mukesh', 'next', 'north', 'nozzle', 'observed', 'occurred', 'olp', 'one', 'onto', 'opened', 'opening', 'openingcast', 'operate', 'operator', 'otherwise', 'overflow', 'p', 'pandit', 'part', 'per', 'pit', 'place', 'placed', 'plate', 'plates', 'plug', 'points', 'porous', 'position', 'positioned', 'possibility', 'poured', 'pouring', 'pp', 'ppa', 'press', 'pressed', 'pressure', 'procedure', 'process', 'processing', 'progress', 'proximity', 'puncture', 'punctured', 'put', 'qr', 'qty', 'raised', 'ram', 'ranjan', 'region', 'reladled', 'removal', 'removed', 'reported', 'rest', 'resulted', 'resulting', 'right', 'rightly', 'rotated', 'rotating', 'rotation', 'run', 'runner', 'runner1', 'running', 'safely', 'sampark', 'save', 'saved', 'self', 'sent', 'services', 'shield', 'shift', 'shop', 'shot', 'side', 'since', 'skirt', 'slag', 'slaide', 'slide', 'sms', 'somehow', 'sop', 'south', 'splinters', 'split', 'spout', 'spreads', 'stand', 'standing', 'started', 'std', 'steel', 'stoppage', 'stopped', 'stopper', 'strand', 'stuck', 'successfully', 'sudden', 'suddenly', 'sujit', 'surrounding', 'susil', 'system', 'taken', 'taphole', 'tapping', 'temp', 'tilt', 'tilting', 'time', 'times', 'ton', 'tons', 'took', 'torpedoand', 'towards', 'tp', 'track', 'transferred', 'treatment', 'tricking', 'trickling', 'tried', 'trough', 'tube', 'tundish', 'turret', 'twisted', 'uncontrolled', 'upper', 'v47953', 'valve', 'vertical', 'vessel', 'via', 'waiting', 'wall', 'water', 'well', 'went', 'within', 'work', 'working', 'would', 'zone']\n"
     ]
    }
   ],
   "source": [
    "print(vect.get_feature_names())"
   ]
  },
  {
   "cell_type": "code",
   "execution_count": null,
   "metadata": {
    "collapsed": true
   },
   "outputs": [],
   "source": []
  },
  {
   "cell_type": "code",
   "execution_count": null,
   "metadata": {
    "collapsed": true
   },
   "outputs": [],
   "source": []
  },
  {
   "cell_type": "markdown",
   "metadata": {},
   "source": [
    "#### Upload data"
   ]
  },
  {
   "cell_type": "code",
   "execution_count": 10,
   "metadata": {
    "collapsed": true
   },
   "outputs": [],
   "source": [
    "data = pd.read_csv(r'F:\\Winter pack\\Introduction to Game Development\\Project on DA\\Projects\\Project_3(Concept Map)\\Data\\Hot Metal data for Praveen.csv')\n",
    "data['investigation Report'] = data['Investigation Report'].fillna(\"Nan\", inplace = True)"
   ]
  },
  {
   "cell_type": "code",
   "execution_count": 11,
   "metadata": {},
   "outputs": [
    {
     "data": {
      "text/html": [
       "<div>\n",
       "<style>\n",
       "    .dataframe thead tr:only-child th {\n",
       "        text-align: right;\n",
       "    }\n",
       "\n",
       "    .dataframe thead th {\n",
       "        text-align: left;\n",
       "    }\n",
       "\n",
       "    .dataframe tbody tr th {\n",
       "        vertical-align: top;\n",
       "    }\n",
       "</style>\n",
       "<table border=\"1\" class=\"dataframe\">\n",
       "  <thead>\n",
       "    <tr style=\"text-align: right;\">\n",
       "      <th></th>\n",
       "      <th>Brief Description</th>\n",
       "      <th>Investigation Report</th>\n",
       "      <th>Hazardous Element</th>\n",
       "      <th>Initiating mechanism</th>\n",
       "      <th>Accident/ incident</th>\n",
       "      <th>investigation Report</th>\n",
       "    </tr>\n",
       "  </thead>\n",
       "  <tbody>\n",
       "    <tr>\n",
       "      <th>0</th>\n",
       "      <td>Cast House #2 Main Trough puncher and hot meta...</td>\n",
       "      <td>Metal have passed through the gap between ACCM...</td>\n",
       "      <td>Hot metal/ steel/slag</td>\n",
       "      <td>failure/malfunctioning of equipment</td>\n",
       "      <td>spillage of hazardous material</td>\n",
       "      <td>None</td>\n",
       "    </tr>\n",
       "    <tr>\n",
       "      <th>1</th>\n",
       "      <td>After purging of H.No. T39845 when purging lan...</td>\n",
       "      <td>An investigation was carried out with cross fu...</td>\n",
       "      <td>Hot metal/ steel/slag</td>\n",
       "      <td>failure/malfunctioning of equipment</td>\n",
       "      <td>spillage of hazardous material</td>\n",
       "      <td>None</td>\n",
       "    </tr>\n",
       "    <tr>\n",
       "      <th>2</th>\n",
       "      <td>During Tapping from tap hole no #1, slag was d...</td>\n",
       "      <td>improper work by operator (clay intrapped with...</td>\n",
       "      <td>Hot metal/ steel/slag</td>\n",
       "      <td>improper work by operator/worker</td>\n",
       "      <td>Explosion</td>\n",
       "      <td>None</td>\n",
       "    </tr>\n",
       "    <tr>\n",
       "      <th>3</th>\n",
       "      <td>Huge skirt leakage in vessel #1 after jam fell...</td>\n",
       "      <td>Prior to breakdown on 10th Apr’15 there were e...</td>\n",
       "      <td>Hot metal/ steel/slag</td>\n",
       "      <td>presence of unwanted/flammable material</td>\n",
       "      <td>Leakage of hazardous material</td>\n",
       "      <td>None</td>\n",
       "    </tr>\n",
       "    <tr>\n",
       "      <th>4</th>\n",
       "      <td>Ladle # 9 Slide gate failed to operate. There ...</td>\n",
       "      <td>malfunction of equipment/machine</td>\n",
       "      <td>Hot metal/ steel/slag</td>\n",
       "      <td>failure/malfunctioning of equipment</td>\n",
       "      <td>Leakage of hazardous material</td>\n",
       "      <td>None</td>\n",
       "    </tr>\n",
       "  </tbody>\n",
       "</table>\n",
       "</div>"
      ],
      "text/plain": [
       "                                   Brief Description  \\\n",
       "0  Cast House #2 Main Trough puncher and hot meta...   \n",
       "1  After purging of H.No. T39845 when purging lan...   \n",
       "2  During Tapping from tap hole no #1, slag was d...   \n",
       "3  Huge skirt leakage in vessel #1 after jam fell...   \n",
       "4  Ladle # 9 Slide gate failed to operate. There ...   \n",
       "\n",
       "                                Investigation Report      Hazardous Element  \\\n",
       "0  Metal have passed through the gap between ACCM...  Hot metal/ steel/slag   \n",
       "1  An investigation was carried out with cross fu...  Hot metal/ steel/slag   \n",
       "2  improper work by operator (clay intrapped with...  Hot metal/ steel/slag   \n",
       "3  Prior to breakdown on 10th Apr’15 there were e...  Hot metal/ steel/slag   \n",
       "4                   malfunction of equipment/machine  Hot metal/ steel/slag   \n",
       "\n",
       "                      Initiating mechanism              Accident/ incident  \\\n",
       "0      failure/malfunctioning of equipment  spillage of hazardous material   \n",
       "1      failure/malfunctioning of equipment  spillage of hazardous material   \n",
       "2         improper work by operator/worker                       Explosion   \n",
       "3  presence of unwanted/flammable material   Leakage of hazardous material   \n",
       "4      failure/malfunctioning of equipment   Leakage of hazardous material   \n",
       "\n",
       "  investigation Report  \n",
       "0                 None  \n",
       "1                 None  \n",
       "2                 None  \n",
       "3                 None  \n",
       "4                 None  "
      ]
     },
     "execution_count": 11,
     "metadata": {},
     "output_type": "execute_result"
    }
   ],
   "source": [
    "data.head()"
   ]
  },
  {
   "cell_type": "markdown",
   "metadata": {
    "collapsed": true
   },
   "source": [
    "#### Clean data by hand"
   ]
  },
  {
   "cell_type": "code",
   "execution_count": 12,
   "metadata": {},
   "outputs": [
    {
     "data": {
      "text/plain": [
       "\"for i in range(len(data)):\\n    data['Brief Description'][i] = word_tokenize(data['Brief Description'][i])\\n    data['Investigation Report'][i] = word_tokenize(data['Investigation Report'][i])\""
      ]
     },
     "execution_count": 12,
     "metadata": {},
     "output_type": "execute_result"
    }
   ],
   "source": [
    "'''for i in range(len(data)):\n",
    "    data['Brief Description'][i] = word_tokenize(data['Brief Description'][i])\n",
    "    data['Investigation Report'][i] = word_tokenize(data['Investigation Report'][i])'''"
   ]
  },
  {
   "cell_type": "code",
   "execution_count": 13,
   "metadata": {},
   "outputs": [
    {
     "data": {
      "text/plain": [
       "\"for i in range(len(data)):\\n    a = data['Brief Description'][i]\\n    for j in a:\\n        if j.isalpha():\\n            print(j)\""
      ]
     },
     "execution_count": 13,
     "metadata": {},
     "output_type": "execute_result"
    }
   ],
   "source": [
    "\"\"\"for i in range(len(data)):\n",
    "    a = data['Brief Description'][i]\n",
    "    for j in a:\n",
    "        if j.isalpha():\n",
    "            print(j)\"\"\""
   ]
  },
  {
   "cell_type": "markdown",
   "metadata": {},
   "source": [
    "##### Token Pattern for avoid alphanumeric is  r'\\b[^\\d\\W]+\\b'"
   ]
  },
  {
   "cell_type": "markdown",
   "metadata": {},
   "source": [
    "## TFIDF of Brief Description"
   ]
  },
  {
   "cell_type": "code",
   "execution_count": 14,
   "metadata": {
    "collapsed": true,
    "scrolled": true
   },
   "outputs": [],
   "source": [
    "vect = TfidfVectorizer(analyzer='word',token_pattern=r'\\b[^\\d\\W]+\\b',stop_words = stopword).fit(data['Brief Description'])"
   ]
  },
  {
   "cell_type": "code",
   "execution_count": 16,
   "metadata": {
    "scrolled": true
   },
   "outputs": [
    {
     "data": {
      "text/plain": [
       "1496"
      ]
     },
     "execution_count": 16,
     "metadata": {},
     "output_type": "execute_result"
    }
   ],
   "source": [
    "len(vect.get_feature_names())"
   ]
  },
  {
   "cell_type": "code",
   "execution_count": 2,
   "metadata": {},
   "outputs": [
    {
     "data": {
      "text/plain": [
       "'count = 0\\nfor key,item in vect.vocabulary_.items():\\n    if item > 500:\\n        #print(key, item)\\n        count += 1'"
      ]
     },
     "execution_count": 2,
     "metadata": {},
     "output_type": "execute_result"
    }
   ],
   "source": [
    "'''count = 0\n",
    "for key,item in vect.vocabulary_.items():\n",
    "    if item > 500:\n",
    "        #print(key, item)\n",
    "        count += 1'''"
   ]
  },
  {
   "cell_type": "code",
   "execution_count": 19,
   "metadata": {
    "collapsed": true
   },
   "outputs": [],
   "source": [
    "vector =  vect.fit_transform(data['Brief Description'])"
   ]
  },
  {
   "cell_type": "code",
   "execution_count": 20,
   "metadata": {},
   "outputs": [
    {
     "data": {
      "text/plain": [
       "995"
      ]
     },
     "execution_count": 20,
     "metadata": {},
     "output_type": "execute_result"
    }
   ],
   "source": [
    "count"
   ]
  },
  {
   "cell_type": "code",
   "execution_count": 21,
   "metadata": {},
   "outputs": [
    {
     "name": "stdout",
     "output_type": "stream",
     "text": [
      "(251, 1496)\n"
     ]
    }
   ],
   "source": [
    "print(vector.shape)"
   ]
  },
  {
   "cell_type": "code",
   "execution_count": 22,
   "metadata": {},
   "outputs": [
    {
     "name": "stdout",
     "output_type": "stream",
     "text": [
      "  (182, 0)\t0.2007368911268843\n"
     ]
    }
   ],
   "source": [
    "print(vector[:,21])"
   ]
  },
  {
   "cell_type": "code",
   "execution_count": 23,
   "metadata": {
    "collapsed": true
   },
   "outputs": [],
   "source": [
    "a = []\n",
    "for key, item in vect.vocabulary_.items():\n",
    "    a.append(key)"
   ]
  },
  {
   "cell_type": "code",
   "execution_count": 24,
   "metadata": {
    "collapsed": true
   },
   "outputs": [],
   "source": [
    "frame = pd.DataFrame(vector.toarray(), columns=a)"
   ]
  },
  {
   "cell_type": "code",
   "execution_count": 25,
   "metadata": {
    "collapsed": true
   },
   "outputs": [],
   "source": [
    "v = vector.toarray()"
   ]
  },
  {
   "cell_type": "code",
   "execution_count": 26,
   "metadata": {},
   "outputs": [
    {
     "data": {
      "text/plain": [
       "0.12230228138998314"
      ]
     },
     "execution_count": 26,
     "metadata": {},
     "output_type": "execute_result"
    }
   ],
   "source": [
    "frame.iloc[17,168]"
   ]
  },
  {
   "cell_type": "code",
   "execution_count": 27,
   "metadata": {
    "collapsed": true
   },
   "outputs": [],
   "source": [
    "f = pd.DataFrame(index = a, )"
   ]
  },
  {
   "cell_type": "code",
   "execution_count": 28,
   "metadata": {
    "collapsed": true
   },
   "outputs": [],
   "source": [
    "feature_names = vect.get_feature_names()\n",
    "#this gives you the list of all the tokens or n-grams or words. For the first document in your corpus,\n",
    "doc = vector.shape[0]\n",
    "\n",
    "outer_dict ={}\n",
    "for i in range(doc):\n",
    "    feature_index = vector[i,:].nonzero()[1]\n",
    "    tfidf_scores = zip(feature_index, [vector[i, x] for x in feature_index])\n",
    "    inner_dict = {}\n",
    "    for w, s in [(feature_names[i], s) for (i, s) in tfidf_scores]:\n",
    "        if len(w)>2:\n",
    "            inner_dict[w] = s\n",
    "    outer_dict[i] = inner_dict.items()"
   ]
  },
  {
   "cell_type": "code",
   "execution_count": 29,
   "metadata": {},
   "outputs": [
    {
     "data": {
      "text/plain": [
       "251"
      ]
     },
     "execution_count": 29,
     "metadata": {},
     "output_type": "execute_result"
    }
   ],
   "source": [
    "vector.shape[0]"
   ]
  },
  {
   "cell_type": "code",
   "execution_count": null,
   "metadata": {
    "collapsed": true,
    "scrolled": true
   },
   "outputs": [],
   "source": [
    "count = 0\n",
    "for key,value in outer_dict.items():\n",
    "    a = dict(value)\n",
    "    for k,v in a.items()\n",
    "        count += 1"
   ]
  },
  {
   "cell_type": "code",
   "execution_count": 42,
   "metadata": {},
   "outputs": [
    {
     "data": {
      "text/plain": [
       "dict_items([('cast', 0.21922392668811808), ('house', 0.2774848262609255), ('main', 0.34018793323881513), ('trough', 0.2815126508397807), ('puncher', 0.4582961573170558), ('hot', 0.1706136479242957), ('metal', 0.12192596613464647), ('spilled', 0.3054928558291512), ('railway', 0.4582961573170558), ('track', 0.2270830166359552), ('line', 0.2665099689543565)])"
      ]
     },
     "execution_count": 42,
     "metadata": {},
     "output_type": "execute_result"
    }
   ],
   "source": [
    "outer_dict[0]"
   ]
  },
  {
   "cell_type": "code",
   "execution_count": 43,
   "metadata": {},
   "outputs": [
    {
     "data": {
      "text/plain": [
       "dict_items([('trough', 0.5265775167579596), ('slag', 0.1070110142238576), ('damage', 0.1583209354139735), ('taken', 0.1683479396732058), ('observed', 0.1620890493839614), ('near', 0.1809715925537892), ('dam', 0.2244151260005875), ('happened', 0.1809715925537892), ('property', 0.21211044048587635), ('discharged', 0.2408892500068217), ('service', 0.25181465227018934), ('incident', 0.20228533885295213), ('immediatly', 0.25181465227018934), ('temprature', 0.2857520514499357), ('rised', 0.2857520514499357), ('abnormaly', 0.2857520514499357)])"
      ]
     },
     "execution_count": 43,
     "metadata": {},
     "output_type": "execute_result"
    }
   ],
   "source": [
    "outer_dict[230]"
   ]
  },
  {
   "cell_type": "markdown",
   "metadata": {},
   "source": [
    "# For Investigation Report\n",
    "## TFIDF of Investigation Report"
   ]
  },
  {
   "cell_type": "code",
   "execution_count": 31,
   "metadata": {
    "collapsed": true
   },
   "outputs": [],
   "source": [
    "vect_invest_repo = TfidfVectorizer(analyzer='word',token_pattern=r'\\b[^\\d\\W]+\\b',stop_words = stopword).fit(data['Investigation Report'])"
   ]
  },
  {
   "cell_type": "code",
   "execution_count": 32,
   "metadata": {
    "collapsed": true
   },
   "outputs": [],
   "source": [
    "vector_invest_rep =  vect_invest_repo.fit_transform(data['Investigation Report'])"
   ]
  },
  {
   "cell_type": "code",
   "execution_count": 33,
   "metadata": {
    "collapsed": true
   },
   "outputs": [],
   "source": [
    "feature_names = vect_invest_repo.get_feature_names()\n",
    "#this gives you the list of all the tokens or n-grams or words. For the first document in your corpus,\n",
    "doc_1 = vector_invest_rep.shape[0]\n",
    "\n",
    "outer_dict_invest_rep ={}\n",
    "for i in range(doc_1):\n",
    "    feature_index = vector_invest_rep[i,:].nonzero()[1]\n",
    "    tfidf_scores = zip(feature_index, [vector_invest_rep[i, x] for x in feature_index])\n",
    "    inner_dict = {}\n",
    "    for w, s in [(feature_names[i], s) for (i, s) in tfidf_scores]:\n",
    "        if len(w)>2:\n",
    "            inner_dict[w] = s\n",
    "    outer_dict_invest_rep[i] = inner_dict.items()"
   ]
  },
  {
   "cell_type": "code",
   "execution_count": 34,
   "metadata": {},
   "outputs": [
    {
     "data": {
      "text/plain": [
       "dict_items([('metal', 0.2649211806261284), ('improper', 0.3151407824083403), ('work', 0.2963993434672576), ('operator', 0.25694405902244744), ('clay', 0.5816486203215671), ('intrapped', 0.5816486203215671)])"
      ]
     },
     "execution_count": 34,
     "metadata": {},
     "output_type": "execute_result"
    }
   ],
   "source": [
    "outer_dict_invest_rep[2]"
   ]
  },
  {
   "cell_type": "code",
   "execution_count": 35,
   "metadata": {
    "collapsed": true
   },
   "outputs": [],
   "source": [
    "# brief discription and investigation Report for different Initiating mechanism\n",
    "initia_mec = data['Initiating mechanism'].unique().tolist()"
   ]
  },
  {
   "cell_type": "code",
   "execution_count": 36,
   "metadata": {
    "collapsed": true
   },
   "outputs": [],
   "source": [
    "# find index of brief discription and investigation Report for different initiation mechanism\n",
    "initiation_mec = {}\n",
    "for j in initia_mec:\n",
    "    a = []\n",
    "    for i in range(len(data)):\n",
    "        if data['Initiating mechanism'][i] == j:\n",
    "            a.append(i)\n",
    "    initiation_mec[j] = a"
   ]
  },
  {
   "cell_type": "code",
   "execution_count": 38,
   "metadata": {
    "collapsed": true
   },
   "outputs": [],
   "source": [
    "# Accident/incident \n",
    "accident_feature = data['Accident/ incident'].unique().tolist()"
   ]
  },
  {
   "cell_type": "code",
   "execution_count": 39,
   "metadata": {},
   "outputs": [
    {
     "data": {
      "text/plain": [
       "['spillage of hazardous material',\n",
       " 'Explosion',\n",
       " 'Leakage of hazardous material',\n",
       " 'degradation/breaking of equiptment',\n",
       " 'Fire/ flame generation',\n",
       " 'Overflow of hazardous material',\n",
       " 'dashing/collision',\n",
       " 'splash',\n",
       " 'derailment',\n",
       " 'Splash',\n",
       " 'Disturbance in process parameters/equipment shutdown',\n",
       " 'exposure to toxic gas/ high temperature',\n",
       " 'water logging/flooding situation',\n",
       " 'fall of material',\n",
       " 'explosion']"
      ]
     },
     "execution_count": 39,
     "metadata": {},
     "output_type": "execute_result"
    }
   ],
   "source": [
    "accident_feature"
   ]
  },
  {
   "cell_type": "code",
   "execution_count": 40,
   "metadata": {
    "collapsed": true
   },
   "outputs": [],
   "source": [
    "# initiating mechanism that relate to accident feature\n",
    "acc_index = {}\n",
    "for j in accident_feature:\n",
    "    a ={}\n",
    "    for i in range(len(data)):\n",
    "        if data['Accident/ incident'][i] == j:\n",
    "            b = data['Initiating mechanism'][i]\n",
    "            a[b] = initiation_mec[b]\n",
    "    acc_index[j] = a"
   ]
  },
  {
   "cell_type": "code",
   "execution_count": 64,
   "metadata": {
    "collapsed": true
   },
   "outputs": [],
   "source": [
    "# we try n_gram, max_df, min_df"
   ]
  },
  {
   "cell_type": "code",
   "execution_count": 65,
   "metadata": {
    "collapsed": true
   },
   "outputs": [],
   "source": [
    "vect_min = TfidfVectorizer(analyzer='word',token_pattern=r'\\b[^\\d\\W]+\\b',stop_words = stopword, max_df = 0.01).fit(data['Brief Description'])"
   ]
  },
  {
   "cell_type": "code",
   "execution_count": 67,
   "metadata": {},
   "outputs": [
    {
     "name": "stdout",
     "output_type": "stream",
     "text": [
      "1037\n"
     ]
    }
   ],
   "source": [
    "print(len(vect_min.vocabulary_))"
   ]
  },
  {
   "cell_type": "code",
   "execution_count": 41,
   "metadata": {
    "collapsed": true
   },
   "outputs": [],
   "source": [
    "from nltk.cluster import em\n",
    "from nltk.cluster import KMeansClusterer\n",
    "from sklearn import cluster"
   ]
  },
  {
   "cell_type": "code",
   "execution_count": 42,
   "metadata": {},
   "outputs": [
    {
     "name": "stderr",
     "output_type": "stream",
     "text": [
      "F:\\Anaconda\\lib\\site-packages\\gensim\\utils.py:1209: UserWarning: detected Windows; aliasing chunkize to chunkize_serial\n",
      "  warnings.warn(\"detected Windows; aliasing chunkize to chunkize_serial\")\n"
     ]
    }
   ],
   "source": [
    "from gensim.models import Word2Vec"
   ]
  },
  {
   "cell_type": "markdown",
   "metadata": {},
   "source": [
    "# Working with only brief description"
   ]
  },
  {
   "cell_type": "code",
   "execution_count": 39,
   "metadata": {},
   "outputs": [
    {
     "data": {
      "text/plain": [
       "'brief_d = []\\nfor key, item in outer_dict.items():\\n    b =[]\\n    for i, j in dict(item).items():\\n        b.append(i)\\n    brief_d.append(b)'"
      ]
     },
     "execution_count": 39,
     "metadata": {},
     "output_type": "execute_result"
    }
   ],
   "source": [
    "\"\"\"brief_d = []\n",
    "for key, item in outer_dict.items():\n",
    "    b =[]\n",
    "    for i, j in dict(item).items():\n",
    "        b.append(i)\n",
    "    brief_d.append(b)\"\"\""
   ]
  },
  {
   "cell_type": "code",
   "execution_count": null,
   "metadata": {
    "collapsed": true
   },
   "outputs": [],
   "source": [
    "vect.vocabulary_"
   ]
  },
  {
   "cell_type": "code",
   "execution_count": 41,
   "metadata": {
    "collapsed": true
   },
   "outputs": [],
   "source": [
    "brief_d = []\n",
    "for key, item in vect.vocabulary_.items():\n",
    "    brief_d.append(key)"
   ]
  },
  {
   "cell_type": "code",
   "execution_count": 42,
   "metadata": {
    "collapsed": true
   },
   "outputs": [],
   "source": [
    "model = Word2Vec([brief_d], min_count=1)"
   ]
  },
  {
   "cell_type": "code",
   "execution_count": 43,
   "metadata": {
    "collapsed": true
   },
   "outputs": [],
   "source": [
    "def word_vectoriz(sent, model):\n",
    "    a = model[sent]\n",
    "    return np.asarray(a);"
   ]
  },
  {
   "cell_type": "code",
   "execution_count": 44,
   "metadata": {},
   "outputs": [
    {
     "name": "stderr",
     "output_type": "stream",
     "text": [
      "F:\\Anaconda\\lib\\site-packages\\ipykernel_launcher.py:2: DeprecationWarning: Call to deprecated `__getitem__` (Method will be removed in 4.0.0, use self.wv.__getitem__() instead).\n",
      "  \n"
     ]
    }
   ],
   "source": [
    "X = []\n",
    "for j in brief_d:\n",
    "    X.append(word_vectoriz(j, model))"
   ]
  },
  {
   "cell_type": "code",
   "execution_count": 45,
   "metadata": {
    "collapsed": true
   },
   "outputs": [],
   "source": [
    "NUM_CLUSTERS=12\n",
    "kclusterer = KMeansClusterer(NUM_CLUSTERS, distance=nltk.cluster.util.cosine_distance)\n",
    "assigned_clusters = kclusterer.cluster(X, assign_clusters=True)\n",
    "#print(assigned_clusters)"
   ]
  },
  {
   "cell_type": "code",
   "execution_count": 46,
   "metadata": {},
   "outputs": [
    {
     "data": {
      "text/plain": [
       "1496"
      ]
     },
     "execution_count": 46,
     "metadata": {},
     "output_type": "execute_result"
    }
   ],
   "source": [
    "len(assigned_clusters)"
   ]
  },
  {
   "cell_type": "code",
   "execution_count": 47,
   "metadata": {
    "collapsed": true
   },
   "outputs": [],
   "source": [
    "from sklearn.cluster import KMeans\n",
    "wcss = []\n",
    "for i in range(1,20):\n",
    "    kmeans = KMeans(n_clusters = i, init = 'k-means++', max_iter = 500, n_init = 10, random_state = 0)\n",
    "    kmeans.fit(X)\n",
    "    wcss.append(kmeans.inertia_) # calculate within cluster sum of square "
   ]
  },
  {
   "cell_type": "code",
   "execution_count": 48,
   "metadata": {},
   "outputs": [
    {
     "data": {
      "image/png": "[encoded data removed]",
      "text/plain": [
       "<Figure size 432x288 with 1 Axes>"
      ]
     },
     "metadata": {},
     "output_type": "display_data"
    }
   ],
   "source": [
    "plt.plot(range(1,20), wcss, color = 'b')\n",
    "plt.title('WCSS plot to find no. of cluster')\n",
    "plt.xlabel('Number of clusters')\n",
    "plt.ylabel('WCSS value')\n",
    "plt.show()"
   ]
  },
  {
   "cell_type": "code",
   "execution_count": 49,
   "metadata": {
    "collapsed": true
   },
   "outputs": [],
   "source": [
    "kmeans = KMeans(n_clusters = 12, init = 'k-means++', max_iter = 300, n_init = 10, random_state = 0)\n",
    "y_means = kmeans.fit_predict(X)"
   ]
  },
  {
   "cell_type": "code",
   "execution_count": 50,
   "metadata": {},
   "outputs": [
    {
     "data": {
      "text/plain": [
       "array([11,  3, 10, ...,  0,  9, 11])"
      ]
     },
     "execution_count": 50,
     "metadata": {},
     "output_type": "execute_result"
    }
   ],
   "source": [
    "y_means"
   ]
  },
  {
   "cell_type": "code",
   "execution_count": null,
   "metadata": {
    "collapsed": true
   },
   "outputs": [],
   "source": [
    "'''count = 0\n",
    "print(\"Top terms per cluster:\")\n",
    "print()\n",
    "k = []\n",
    "sorted_index_centroids = kmeans.cluster_centers_.argsort()[:, ::-1]\n",
    "for i in range(10):    \n",
    "    print(\"Cluster %d words:\" % i, end='')     \n",
    "#    for ind in sorted_index_centroids[i, :]:\n",
    "    for key, item in clust_brief.items():\n",
    "        if item == i:\n",
    "            print(' %s' % key, end=',')\n",
    "    print()\n",
    "    print()'''"
   ]
  },
  {
   "cell_type": "code",
   "execution_count": 159,
   "metadata": {},
   "outputs": [
    {
     "name": "stdout",
     "output_type": "stream",
     "text": [
      "Cluster 0 words: \n",
      "Top words: aborted,bag,aside,able,arm,attended,appears,action,around,bar,back,besides,barrier,avoided,approximately,bale,become,badly,ashok,agency,assigned,backside,accept,abnormal,abdur,appeared,accurate,amount,arrest,area,bend,auto,averted,beside,anybody,awdesh,applying,aspect,arcing,activity,areas,applied,alll,apart,bay,aid,assist,asst,bags,automatically,battery,away,beam,al,bars,approx,alam,addition,angle,adding,argon,auxilary,accidentally,beneath,belt,air,abort,asked,bal,bell,available,avoid,aisle,bath,accumulated,adjacent,bed,affected,ankle,base,august,along,also,backup,activated,admitted,aluminium,abnormalities,alerted,b,accumulation,batteries,amiad,added,although,abnormaly,backwashing,backfire,another,became\n",
      "Cluster 1 words: \n",
      "Top words: alll,asked,auto,activated,aluminium,available,abort,although,backfire,aborted,belt,accumulated,badly,auxilary,accumulation,accidentally,ankle,base,bay,attended,approx,apart,addition,another,bag,backup,beam,arrest,aisle,automatically,air,backwashing,agency,bar,appeared,bars,avoided,alam,became,accept,beneath,become,awdesh,bed,added,applied,bath,aspect,angle,admitted,bale,bal,able,adjacent,bell,assigned,anybody,ashok,bend,averted,around,affected,adding,applying,besides,beside,abnormal,back,assist,activity,accurate,along,areas,area,away,battery,batteries,action,abnormaly,august,also,appears,asst,arcing,avoid,amount,barrier,aside,amiad,argon,abnormalities,alerted,al,approximately,arm,bags,b,aid,abdur,backside\n",
      "Cluster 2 words: \n",
      "Top words: argon,added,abnormalities,accumulated,angle,available,backfire,bell,asst,area,appears,adjacent,approx,bay,arcing,al,bale,amiad,bags,bal,assist,backside,another,air,beneath,along,accept,averted,assigned,aside,aspect,awdesh,avoided,bar,bag,aisle,arm,applying,activity,beam,apart,besides,avoid,backwashing,become,automatically,base,auto,adding,august,bath,bend,aluminium,around,ankle,away,activated,ashok,asked,alerted,abdur,back,accidentally,b,affected,accumulation,arrest,anybody,applied,areas,aborted,alll,attended,abnormal,action,batteries,aid,beside,bed,alam,battery,abnormaly,belt,badly,although,approximately,barrier,accurate,amount,backup,auxilary,abort,admitted,addition,also,became,appeared,agency,able,bars\n",
      "Cluster 3 words: \n",
      "Top words: angle,added,available,became,adjacent,belt,bal,beside,approximately,abnormaly,aborted,automatically,although,avoid,b,ashok,auxilary,admitted,bell,asked,abnormal,attended,bars,appears,around,accept,avoided,assigned,applied,amiad,areas,alam,beneath,al,badly,awdesh,away,arm,action,beam,backside,also,bend,bar,alll,accurate,ankle,bags,agency,adding,bed,arrest,base,aisle,batteries,august,back,abort,accumulation,appeared,backfire,averted,anybody,along,bay,besides,another,bath,air,battery,barrier,area,affected,activity,apart,abnormalities,abdur,become,amount,aluminium,aid,activated,backwashing,approx,accidentally,able,aspect,bale,asst,assist,arcing,auto,applying,addition,aside,alerted,argon,accumulated,backup,bag\n",
      "Cluster 4 words: \n",
      "Top words: abnormaly,bag,arrest,accumulation,another,areas,asst,action,also,bed,bell,arm,affected,admitted,accidentally,arcing,automatically,belt,appeared,besides,area,appears,approximately,auxilary,abdur,ashok,avoid,amiad,able,auto,b,activated,bars,bar,awdesh,became,adjacent,air,battery,abnormal,aluminium,abnormalities,alerted,aisle,addition,aborted,assigned,along,beside,activity,adding,alam,backfire,ankle,back,accumulated,accept,agency,aside,bend,although,approx,applied,beneath,bags,around,available,backup,august,away,assist,asked,aspect,amount,aid,avoided,added,accurate,argon,bath,angle,applying,badly,abort,beam,al,averted,batteries,attended,base,bay,anybody,become,bal,alll,backwashing,backside,bale,barrier,apart\n",
      "Cluster 5 words: \n",
      "Top words: anybody,accumulation,alam,backwashing,alerted,amiad,aisle,barrier,around,abdur,applied,beside,awdesh,auto,battery,bell,arrest,affected,another,addition,bale,aborted,argon,b,able,ankle,became,accept,admitted,bend,also,alll,batteries,along,amount,aside,aluminium,base,accidentally,apart,abnormal,bags,belt,appears,adding,activity,asst,averted,bath,backfire,besides,accurate,asked,ashok,abort,beneath,away,action,backside,approx,although,bay,bal,arcing,available,back,badly,air,abnormalities,al,activated,aid,backup,areas,avoided,arm,added,area,aspect,accumulated,attended,abnormaly,appeared,bars,agency,automatically,approximately,adjacent,assigned,august,bar,angle,bed,assist,avoid,become,beam,applying,bag,auxilary\n",
      "Cluster 6 words: \n",
      "Top words: adjacent,auxilary,backup,applying,applied,backfire,abdur,alerted,barrier,activated,aspect,base,avoid,beside,aid,addition,attended,added,activity,aluminium,bag,areas,arrest,argon,bags,asked,bal,accurate,able,assigned,al,avoided,anybody,available,abort,abnormaly,around,awdesh,amount,belt,air,ankle,agency,bend,away,august,alam,abnormalities,beam,assist,became,area,along,affected,beneath,arcing,accept,also,bars,although,aside,approximately,appeared,amiad,backwashing,alll,batteries,adding,auto,b,badly,ashok,bed,accumulated,aborted,accidentally,bar,aisle,averted,become,backside,battery,automatically,back,accumulation,abnormal,angle,arm,asst,bath,approx,apart,another,bay,admitted,action,bale,bell,appears,besides\n",
      "Cluster 7 words: \n",
      "Top words: approximately,assigned,activated,asked,abort,alerted,backup,accumulated,arrest,affected,along,argon,appears,backside,approx,amiad,averted,arcing,automatically,aborted,besides,admitted,became,august,area,applying,abnormalities,bars,b,ashok,batteries,adding,aspect,around,attended,apart,also,auto,assist,aid,areas,accumulation,applied,agency,battery,amount,arm,alll,activity,away,badly,bag,able,base,asst,although,accept,avoid,abdur,barrier,aluminium,abnormaly,avoided,bay,bend,aside,appeared,al,ankle,alam,bal,backfire,action,adjacent,aisle,another,bell,bath,back,available,auxilary,beside,beneath,belt,become,bale,accurate,air,accidentally,awdesh,abnormal,addition,bar,beam,angle,backwashing,anybody,bed,added,bags\n",
      "Cluster 8 words: \n",
      "Top words: august,beam,activity,auxilary,aid,alam,abnormalities,aspect,approximately,beside,argon,aside,action,besides,applying,bed,batteries,backup,backside,alll,ankle,air,adding,abnormaly,averted,backwashing,accumulated,abort,away,bal,affected,bags,accumulation,b,bend,appears,apart,bar,aisle,appeared,accurate,automatically,accidentally,beneath,added,bell,accept,become,amount,battery,another,admitted,badly,abnormal,bale,approx,able,although,avoided,auto,attended,anybody,assist,arm,abdur,around,arcing,bath,activated,bay,addition,back,base,areas,backfire,ashok,avoid,asst,alerted,aborted,belt,bag,barrier,amiad,al,along,became,adjacent,assigned,aluminium,arrest,angle,applied,available,bars,also,asked,area,awdesh,agency\n",
      "Cluster 9 words: \n",
      "Top words: august,abdur,bal,bath,back,backup,appeared,bay,aside,area,aid,adding,bars,apart,aluminium,became,agency,al,addition,bell,abnormaly,assigned,batteries,battery,along,bags,auto,become,activated,areas,backwashing,beam,alll,abnormalities,affected,away,abort,able,backside,action,avoid,amiad,another,base,attended,bag,arm,aborted,beneath,alerted,approx,also,bar,avoided,bale,asst,alam,applied,assist,belt,aspect,ankle,activity,adjacent,accept,barrier,besides,bend,abnormal,averted,around,beside,automatically,badly,angle,accumulation,accumulated,ashok,accidentally,aisle,although,air,argon,bed,applying,admitted,appears,amount,arrest,b,asked,available,anybody,accurate,approximately,arcing,awdesh,auxilary,backfire,added\n",
      "Cluster 10 words: \n",
      "Top words: abnormal,alam,bay,although,aid,avoid,along,arm,became,anybody,amount,al,apart,avoided,barrier,bath,bale,assist,accurate,backwashing,bags,areas,appeared,batteries,applying,approx,angle,also,arcing,aisle,aspect,admitted,ankle,alerted,air,agency,accept,bars,become,another,bend,auxilary,asked,b,beneath,addition,bag,activated,beam,abnormalities,able,approximately,ashok,auto,action,appears,accumulated,aluminium,assigned,argon,averted,beside,affected,back,added,base,awdesh,accidentally,bar,away,adding,applied,battery,accumulation,arrest,attended,activity,bal,besides,backfire,abort,aside,aborted,backside,adjacent,amiad,available,abnormaly,automatically,badly,area,bed,belt,august,around,alll,bell,backup,abdur,asst\n",
      "Cluster 11 words: \n",
      "Top words: bag,also,accurate,bar,along,anybody,averted,alerted,bars,batteries,asst,bath,abnormaly,able,ankle,air,argon,assist,besides,bale,belt,added,backside,area,backup,become,aspect,apart,amount,back,applied,appears,attended,badly,barrier,admitted,beam,auto,agency,bell,aluminium,away,backwashing,automatically,approx,battery,aisle,appeared,another,bed,affected,approximately,adding,accumulated,asked,angle,base,abort,al,b,applying,arcing,bags,bay,accidentally,bend,abdur,backfire,available,although,ashok,arrest,bal,august,awdesh,amiad,aborted,adjacent,alll,areas,accept,auxilary,around,aside,alam,beside,avoid,abnormal,action,assigned,arm,addition,avoided,became,activity,abnormalities,activated,beneath,aid,accumulation\n"
     ]
    }
   ],
   "source": [
    "terms = vect.get_feature_names()\n",
    "order_centroids = kmeans.cluster_centers_.argsort()[:,::-1]\n",
    "for i in range(12):\n",
    "    print( \"Cluster %d words: \" % i)\n",
    "    top_words = [str(terms[term_index]) for term_index in order_centroids[i, :]]\n",
    "    print( \"Top words: %s\" % ','.join(top_words))\n",
    "    "
   ]
  },
  {
   "cell_type": "code",
   "execution_count": null,
   "metadata": {
    "collapsed": true
   },
   "outputs": [],
   "source": [
    "count = 0\n",
    "words = list(model.wv.vocab)\n",
    "for i, word in enumerate(words):  \n",
    "   # print (word + \":\" + str(assigned_clusters[i]))\n",
    "    count += 1"
   ]
  },
  {
   "cell_type": "code",
   "execution_count": 51,
   "metadata": {},
   "outputs": [
    {
     "name": "stdout",
     "output_type": "stream",
     "text": [
      "[nltk_data] Downloading package wordnet to\n",
      "[nltk_data]     C:\\Users\\PRAVEEN\\AppData\\Roaming\\nltk_data...\n",
      "[nltk_data]   Package wordnet is already up-to-date!\n"
     ]
    },
    {
     "data": {
      "text/plain": [
       "True"
      ]
     },
     "execution_count": 51,
     "metadata": {},
     "output_type": "execute_result"
    }
   ],
   "source": [
    "# LDA\n",
    "import gensim\n",
    "from gensim.utils import simple_preprocess\n",
    "from gensim.parsing.preprocessing import STOPWORDS\n",
    "from nltk.stem import WordNetLemmatizer, SnowballStemmer\n",
    "from nltk.stem.porter import *\n",
    "import numpy as np\n",
    "np.random.seed(2018)\n",
    "import nltk\n",
    "nltk.download('wordnet')"
   ]
  },
  {
   "cell_type": "code",
   "execution_count": 52,
   "metadata": {
    "collapsed": true
   },
   "outputs": [],
   "source": [
    "def lemmatize_stemming(text):\n",
    "    return stemmer.stem(WordNetLemmatizer().lemmatize(text, pos='v'))\n",
    "def preprocess(text):\n",
    "    result = []\n",
    "    for token in gensim.utils.simple_preprocess(text):\n",
    "        if token not in gensim.parsing.preprocessing.STOPWORDS and len(token) > 3:\n",
    "            result.append(lemmatize_stemming(token))\n",
    "    return result"
   ]
  },
  {
   "cell_type": "code",
   "execution_count": 53,
   "metadata": {
    "collapsed": true
   },
   "outputs": [],
   "source": [
    "# LSA\n",
    "from sklearn.feature_extraction.text import TfidfVectorizer\n",
    "from sklearn.decomposition import TruncatedSVD\n",
    "from sklearn.pipeline import Pipeline"
   ]
  },
  {
   "cell_type": "code",
   "execution_count": 54,
   "metadata": {
    "collapsed": true
   },
   "outputs": [],
   "source": [
    "# raw documents to tf-idf matrix: \n",
    "vectorizer = TfidfVectorizer(analyzer='word',token_pattern=r'\\b[^\\d\\W]+\\b',stop_words = stopword, \n",
    "                             use_idf=True, \n",
    "                             smooth_idf=True)\n",
    "# SVD to reduce dimensionality: \n",
    "svd_model = TruncatedSVD(n_components=600,algorithm='randomized',n_iter=10)"
   ]
  },
  {
   "cell_type": "code",
   "execution_count": 55,
   "metadata": {
    "collapsed": true
   },
   "outputs": [],
   "source": [
    "# pipeline of tf-idf + SVD, fit to and applied to documents:\n",
    "svd_transformer = Pipeline([('tfidf', vectorizer), \n",
    "                            ('svd', svd_model)])"
   ]
  },
  {
   "cell_type": "code",
   "execution_count": 56,
   "metadata": {},
   "outputs": [
    {
     "name": "stdout",
     "output_type": "stream",
     "text": [
      "186\n"
     ]
    }
   ],
   "source": [
    "stopword = set(stopwords.words('english'))\n",
    "unrelevent = {'we', 'We','have','has','for', 'from', 'they','there','while','the', 'is','both','with','and', 'were', 'but','any','who','ah','80x5', 'e4', 'tff','55pm','pm'}\n",
    "for i in unrelevent:\n",
    "    stopword.add(i)\n",
    "print(len(stopword))\n",
    "x_train = data['Brief Description']"
   ]
  },
  {
   "cell_type": "code",
   "execution_count": 98,
   "metadata": {
    "collapsed": true
   },
   "outputs": [],
   "source": [
    "svd_matrix = svd_transformer.fit_transform(x_train)"
   ]
  },
  {
   "cell_type": "markdown",
   "metadata": {},
   "source": [
    "## LDA approach on Brief Description"
   ]
  },
  {
   "cell_type": "code",
   "execution_count": 213,
   "metadata": {
    "collapsed": true
   },
   "outputs": [],
   "source": [
    "#from gensim.corpora.Dictionary import doc2bow\n",
    "from gensim.corpora import MmCorpus\n",
    "from gensim.models.ldamodel import LdaModel"
   ]
  },
  {
   "cell_type": "code",
   "execution_count": 214,
   "metadata": {
    "collapsed": true
   },
   "outputs": [],
   "source": [
    "import gensim\n",
    "from gensim.utils import simple_preprocess\n",
    "from gensim.parsing.preprocessing import STOPWORDS\n",
    "from nltk.stem import WordNetLemmatizer, SnowballStemmer\n",
    "from nltk.stem.porter import *\n",
    "import numpy as np\n",
    "np.random.seed(2018)\n",
    "import nltk\n",
    "from nltk import PorterStemmer"
   ]
  },
  {
   "cell_type": "code",
   "execution_count": 216,
   "metadata": {
    "collapsed": true
   },
   "outputs": [],
   "source": [
    "#documents = data_copy"
   ]
  },
  {
   "cell_type": "code",
   "execution_count": 217,
   "metadata": {
    "collapsed": true
   },
   "outputs": [],
   "source": [
    "#documents_w = documents.str.split()"
   ]
  },
  {
   "cell_type": "code",
   "execution_count": 218,
   "metadata": {
    "collapsed": true
   },
   "outputs": [],
   "source": [
    "proceed_data = []\n",
    "for k,v in outer_dict.items():\n",
    "    proceed_data.append(v)"
   ]
  },
  {
   "cell_type": "code",
   "execution_count": 219,
   "metadata": {
    "collapsed": true
   },
   "outputs": [],
   "source": [
    "k = 0\n",
    "two = []\n",
    "while(k<len(proceed_data)):\n",
    "    one = []\n",
    "    for i,j in dict(proceed_data[k]).items():\n",
    "        one.append(i)\n",
    "    two.append(one)\n",
    "    k += 1    "
   ]
  },
  {
   "cell_type": "code",
   "execution_count": 220,
   "metadata": {
    "collapsed": true
   },
   "outputs": [],
   "source": [
    "processed_docs = two"
   ]
  },
  {
   "cell_type": "code",
   "execution_count": 221,
   "metadata": {
    "collapsed": true
   },
   "outputs": [],
   "source": [
    "dictionary = gensim.corpora.Dictionary(processed_docs)"
   ]
  },
  {
   "cell_type": "code",
   "execution_count": 222,
   "metadata": {
    "collapsed": true
   },
   "outputs": [],
   "source": [
    "dictionary.filter_extremes(no_below=15, no_above=0.5, keep_n=100000)"
   ]
  },
  {
   "cell_type": "code",
   "execution_count": 223,
   "metadata": {},
   "outputs": [
    {
     "data": {
      "text/plain": [
       "[(0, 1), (1, 1), (2, 1), (3, 1), (4, 1), (5, 1)]"
      ]
     },
     "execution_count": 223,
     "metadata": {},
     "output_type": "execute_result"
    }
   ],
   "source": [
    "bow_corpus = [dictionary.doc2bow(doc) for doc in processed_docs]\n",
    "bow_corpus[0]"
   ]
  },
  {
   "cell_type": "code",
   "execution_count": 224,
   "metadata": {},
   "outputs": [
    {
     "data": {
      "text/plain": [
       "[(6, 1), (7, 1)]"
      ]
     },
     "execution_count": 224,
     "metadata": {},
     "output_type": "execute_result"
    }
   ],
   "source": [
    "dictionary.doc2bow(processed_docs[1])"
   ]
  },
  {
   "cell_type": "code",
   "execution_count": 225,
   "metadata": {},
   "outputs": [
    {
     "name": "stdout",
     "output_type": "stream",
     "text": [
      "[(0, 0.3431722564134677),\n",
      " (1, 0.223805356610678),\n",
      " (2, 0.4888469203216999),\n",
      " (3, 0.46108005893358),\n",
      " (4, 0.362615067591124),\n",
      " (5, 0.49908731228326886)]\n"
     ]
    }
   ],
   "source": [
    "from gensim import corpora, models\n",
    "tfidf = models.TfidfModel(bow_corpus)\n",
    "corpus_tfidf = tfidf[bow_corpus]\n",
    "from pprint import pprint\n",
    "for doc in corpus_tfidf:\n",
    "    pprint(doc)\n",
    "    break"
   ]
  },
  {
   "cell_type": "code",
   "execution_count": 226,
   "metadata": {},
   "outputs": [
    {
     "name": "stdout",
     "output_type": "stream",
     "text": [
      "Topic: 0 \n",
      "Words: 0.131*\"hot\" + 0.130*\"pit\" + 0.114*\"torpedo\" + 0.062*\"ladle\" + 0.045*\"casting\" + 0.043*\"steel\" + 0.038*\"placed\" + 0.034*\"car\" + 0.034*\"track\" + 0.031*\"tilting\"\n",
      "Topic: 1 \n",
      "Words: 0.053*\"spillage\" + 0.052*\"ladle\" + 0.052*\"hot\" + 0.052*\"car\" + 0.049*\"injury\" + 0.045*\"pit\" + 0.041*\"due\" + 0.040*\"operator\" + 0.040*\"got\" + 0.037*\"crane\"\n",
      "Topic: 2 \n",
      "Words: 0.129*\"slag\" + 0.062*\"ladle\" + 0.057*\"hot\" + 0.043*\"charging\" + 0.043*\"car\" + 0.035*\"steel\" + 0.034*\"tapping\" + 0.032*\"got\" + 0.032*\"vessel\" + 0.031*\"runner\"\n",
      "Topic: 3 \n",
      "Words: 0.092*\"hot\" + 0.082*\"slag\" + 0.066*\"track\" + 0.051*\"cast\" + 0.046*\"line\" + 0.043*\"vessel\" + 0.038*\"trough\" + 0.034*\"closed\" + 0.033*\"house\" + 0.032*\"charging\"\n",
      "Topic: 4 \n",
      "Words: 0.063*\"ladle\" + 0.053*\"fire\" + 0.041*\"casting\" + 0.036*\"immediately\" + 0.035*\"turret\" + 0.034*\"slag\" + 0.033*\"around\" + 0.033*\"emergency\" + 0.033*\"caster\" + 0.032*\"area\"\n",
      "Topic: 5 \n",
      "Words: 0.063*\"cast\" + 0.043*\"got\" + 0.041*\"hot\" + 0.040*\"started\" + 0.036*\"closed\" + 0.035*\"stopped\" + 0.034*\"immediately\" + 0.032*\"casting\" + 0.030*\"runner\" + 0.029*\"side\"\n",
      "Topic: 6 \n",
      "Words: 0.085*\"spillage\" + 0.071*\"due\" + 0.068*\"got\" + 0.064*\"ladle\" + 0.044*\"inside\" + 0.043*\"damaged\" + 0.037*\"operator\" + 0.034*\"near\" + 0.030*\"time\" + 0.029*\"emergency\"\n",
      "Topic: 7 \n",
      "Words: 0.059*\"tap\" + 0.059*\"hole\" + 0.044*\"ladle\" + 0.043*\"due\" + 0.043*\"cast\" + 0.042*\"opened\" + 0.034*\"hot\" + 0.033*\"towards\" + 0.033*\"torpedo\" + 0.033*\"area\"\n",
      "Topic: 8 \n",
      "Words: 0.049*\"position\" + 0.045*\"ladle\" + 0.042*\"due\" + 0.038*\"damaged\" + 0.037*\"around\" + 0.037*\"crane\" + 0.035*\"turret\" + 0.034*\"operator\" + 0.031*\"emergency\" + 0.029*\"slide\"\n",
      "Topic: 9 \n",
      "Words: 0.090*\"ladle\" + 0.082*\"steel\" + 0.065*\"vessel\" + 0.049*\"car\" + 0.049*\"fell\" + 0.044*\"crane\" + 0.041*\"slag\" + 0.034*\"tapping\" + 0.032*\"damage\" + 0.030*\"gate\"\n"
     ]
    }
   ],
   "source": [
    "lda_model = gensim.models.LdaMulticore(bow_corpus, num_topics=10, id2word=dictionary, passes=2, workers=2)\n",
    "for idx, topic in lda_model.print_topics(-1):\n",
    "    print('Topic: {} \\nWords: {}'.format(idx, topic))"
   ]
  },
  {
   "cell_type": "code",
   "execution_count": 69,
   "metadata": {
    "collapsed": true
   },
   "outputs": [],
   "source": [
    "brief_d_lda = {}\n",
    "for idx, topic in lda_model.print_topics(-1):\n",
    "    #print('Topic: {} \\nWords: {}'.format(idx, topic))\n",
    "    brief_d_lda[idx] = topic"
   ]
  },
  {
   "cell_type": "code",
   "execution_count": 70,
   "metadata": {},
   "outputs": [
    {
     "name": "stdout",
     "output_type": "stream",
     "text": [
      "Topic: 0 Word: 0.059*\"casting\" + 0.058*\"placed\" + 0.047*\"started\" + 0.040*\"pot\" + 0.038*\"track\" + 0.034*\"line\" + 0.032*\"stopped\" + 0.031*\"taken\" + 0.030*\"side\" + 0.027*\"pit\"\n",
      "Topic: 1 Word: 0.048*\"closed\" + 0.046*\"trough\" + 0.045*\"due\" + 0.039*\"slag\" + 0.038*\"runner\" + 0.035*\"spillage\" + 0.035*\"hot\" + 0.034*\"tilting\" + 0.033*\"cast\" + 0.031*\"inside\"\n",
      "Topic: 2 Word: 0.102*\"charging\" + 0.076*\"crane\" + 0.072*\"vessel\" + 0.068*\"started\" + 0.043*\"hot\" + 0.042*\"around\" + 0.036*\"torpedo\" + 0.036*\"flow\" + 0.032*\"opened\" + 0.030*\"tap\"\n",
      "Topic: 3 Word: 0.057*\"line\" + 0.053*\"house\" + 0.043*\"slag\" + 0.042*\"track\" + 0.041*\"pot\" + 0.040*\"hot\" + 0.038*\"cast\" + 0.035*\"spillage\" + 0.035*\"got\" + 0.032*\"hole\"\n",
      "Topic: 4 Word: 0.082*\"water\" + 0.063*\"inside\" + 0.058*\"damage\" + 0.045*\"could\" + 0.042*\"operator\" + 0.042*\"slag\" + 0.040*\"leakage\" + 0.032*\"crane\" + 0.031*\"runner\" + 0.028*\"fell\"\n",
      "Topic: 5 Word: 0.035*\"emergency\" + 0.034*\"immediately\" + 0.030*\"heat\" + 0.030*\"got\" + 0.030*\"found\" + 0.030*\"tapping\" + 0.029*\"tilting\" + 0.029*\"tundish\" + 0.029*\"liquid\" + 0.027*\"closed\"\n",
      "Topic: 6 Word: 0.065*\"steel\" + 0.055*\"ladle\" + 0.045*\"bay\" + 0.043*\"car\" + 0.041*\"crane\" + 0.038*\"torpedo\" + 0.038*\"occurred\" + 0.037*\"hot\" + 0.035*\"pit\" + 0.031*\"charging\"\n",
      "Topic: 7 Word: 0.046*\"vessel\" + 0.046*\"tundish\" + 0.044*\"position\" + 0.042*\"caster\" + 0.042*\"damage\" + 0.037*\"steel\" + 0.036*\"liquid\" + 0.034*\"pit\" + 0.031*\"car\" + 0.029*\"around\"\n",
      "Topic: 8 Word: 0.049*\"moved\" + 0.038*\"slide\" + 0.037*\"gate\" + 0.036*\"turret\" + 0.034*\"casting\" + 0.034*\"towards\" + 0.033*\"emergency\" + 0.033*\"ladle\" + 0.032*\"operator\" + 0.031*\"damaged\"\n",
      "Topic: 9 Word: 0.091*\"slag\" + 0.047*\"happened\" + 0.046*\"pit\" + 0.045*\"area\" + 0.041*\"fire\" + 0.037*\"around\" + 0.035*\"hot\" + 0.035*\"tap\" + 0.030*\"heat\" + 0.029*\"ladle\"\n"
     ]
    }
   ],
   "source": [
    "lda_model_tfidf = gensim.models.LdaMulticore(corpus_tfidf, num_topics=10, id2word=dictionary, passes=2, workers=4)\n",
    "for idx, topic in lda_model_tfidf.print_topics(-1):\n",
    "    print('Topic: {} Word: {}'.format(idx, topic))"
   ]
  },
  {
   "cell_type": "code",
   "execution_count": 144,
   "metadata": {
    "collapsed": true
   },
   "outputs": [],
   "source": [
    "brief_d_lda_tfidf = {}\n",
    "for idx, topic in lda_model_tfidf.print_topics(-1):\n",
    "    #print('Topic: {} \\nWords: {}'.format(idx, topic))\n",
    "    brief_d_lda_tfidf[idx] = topic"
   ]
  },
  {
   "cell_type": "code",
   "execution_count": 227,
   "metadata": {},
   "outputs": [
    {
     "name": "stdout",
     "output_type": "stream",
     "text": [
      "Topic: 0 \n",
      "Words: 0.019*\"line\" + 0.019*\"casting\" + 0.018*\"happened\" + 0.018*\"stopped\" + 0.018*\"started\" + 0.018*\"occurred\" + 0.017*\"house\" + 0.017*\"placed\" + 0.017*\"caster\" + 0.017*\"car\"\n",
      "Topic: 1 \n",
      "Words: 0.018*\"trough\" + 0.018*\"closed\" + 0.018*\"ladle\" + 0.018*\"inside\" + 0.017*\"flow\" + 0.017*\"injury\" + 0.017*\"steel\" + 0.017*\"line\" + 0.017*\"leakage\" + 0.017*\"placed\"\n",
      "Topic: 2 \n",
      "Words: 0.019*\"charging\" + 0.018*\"tundish\" + 0.018*\"around\" + 0.018*\"cast\" + 0.018*\"tap\" + 0.018*\"filled\" + 0.017*\"found\" + 0.017*\"fire\" + 0.017*\"observed\" + 0.017*\"emergency\"\n",
      "Topic: 3 \n",
      "Words: 0.019*\"damage\" + 0.018*\"spillage\" + 0.018*\"house\" + 0.018*\"turret\" + 0.017*\"ladle\" + 0.017*\"trough\" + 0.017*\"track\" + 0.017*\"tap\" + 0.017*\"immediately\" + 0.017*\"happened\"\n",
      "Topic: 4 \n",
      "Words: 0.019*\"opened\" + 0.018*\"flow\" + 0.018*\"could\" + 0.018*\"side\" + 0.018*\"fell\" + 0.017*\"bay\" + 0.017*\"track\" + 0.017*\"house\" + 0.017*\"caster\" + 0.017*\"immediately\"\n",
      "Topic: 5 \n",
      "Words: 0.020*\"found\" + 0.019*\"tilting\" + 0.019*\"steel\" + 0.018*\"gate\" + 0.018*\"immediately\" + 0.017*\"spillage\" + 0.017*\"tundish\" + 0.017*\"leakage\" + 0.017*\"damaged\" + 0.017*\"cast\"\n",
      "Topic: 6 \n",
      "Words: 0.019*\"placed\" + 0.018*\"water\" + 0.018*\"steel\" + 0.017*\"caster\" + 0.017*\"due\" + 0.017*\"tundish\" + 0.017*\"pit\" + 0.017*\"occurred\" + 0.017*\"time\" + 0.017*\"towards\"\n",
      "Topic: 7 \n",
      "Words: 0.019*\"tundish\" + 0.019*\"side\" + 0.018*\"taken\" + 0.018*\"moved\" + 0.018*\"ladle\" + 0.018*\"caster\" + 0.017*\"started\" + 0.017*\"fell\" + 0.017*\"torpedo\" + 0.017*\"tap\"\n",
      "Topic: 8 \n",
      "Words: 0.019*\"emergency\" + 0.018*\"cast\" + 0.018*\"near\" + 0.018*\"moved\" + 0.018*\"fire\" + 0.017*\"immediately\" + 0.017*\"got\" + 0.017*\"time\" + 0.017*\"operator\" + 0.017*\"damaged\"\n",
      "Topic: 9 \n",
      "Words: 0.019*\"happened\" + 0.019*\"opened\" + 0.018*\"ladle\" + 0.018*\"around\" + 0.018*\"area\" + 0.018*\"operator\" + 0.018*\"damage\" + 0.017*\"tilting\" + 0.017*\"slag\" + 0.017*\"emergency\"\n"
     ]
    }
   ],
   "source": [
    "lda_model = gensim.models.LdaMulticore(num_topics=10, id2word=dictionary, passes=2, workers=2)\n",
    "for idx, topic in lda_model.print_topics(-1):\n",
    "    print('Topic: {} \\nWords: {}'.format(idx, topic))"
   ]
  },
  {
   "cell_type": "code",
   "execution_count": 228,
   "metadata": {
    "collapsed": true
   },
   "outputs": [],
   "source": [
    "brief_d_lda_2 = {}\n",
    "for idx, topic in lda_model.print_topics(-1):\n",
    "    #print('Topic: {} \\nWords: {}'.format(idx, topic))\n",
    "    brief_d_lda_2[idx] = topic"
   ]
  },
  {
   "cell_type": "markdown",
   "metadata": {},
   "source": [
    "## K_means on Brief Description"
   ]
  },
  {
   "cell_type": "code",
   "execution_count": null,
   "metadata": {
    "collapsed": true
   },
   "outputs": [],
   "source": [
    "from __future__ import print_function\n",
    "\n",
    "print(\"Top terms per cluster:\")\n",
    "print()\n",
    "#sort cluster centers by proximity to centroid\n",
    "order_centroids = kmeans.cluster_centers_.argsort()[:, ::-1] \n",
    "\n",
    "for i in range(12):\n",
    "    print(\"Cluster %d words:\" % i, end='')\n",
    "    \n",
    "    for ind in order_centroids[i, :20] #replace 6 with n words per cluster\n",
    "        print(' %s' % vocab_frame.ix[terms[ind].split(' ')].values.tolist()[0][0].encode('utf-8', 'ignore'), end=',')\n",
    "    print() #add whitespace\n",
    "    print() #add whitespace\n",
    "    \n",
    "    print(\"Cluster %d titles:\" % i, end='')\n",
    "    for title in frame.ix[i]['title'].values.tolist():\n",
    "        print(' %s,' % title, end='')\n",
    "    print() #add whitespace\n",
    "    print() #add whitespace\n",
    "    \n",
    "print()\n",
    "print()"
   ]
  },
  {
   "cell_type": "code",
   "execution_count": 76,
   "metadata": {
    "collapsed": true
   },
   "outputs": [],
   "source": [
    "order_centroids = kmeans.cluster_centers_.argsort()[:, ::-1]"
   ]
  },
  {
   "cell_type": "code",
   "execution_count": 77,
   "metadata": {},
   "outputs": [
    {
     "data": {
      "text/plain": [
       "(10, 100)"
      ]
     },
     "execution_count": 77,
     "metadata": {},
     "output_type": "execute_result"
    }
   ],
   "source": [
    "order_centroids.shape"
   ]
  },
  {
   "cell_type": "code",
   "execution_count": 75,
   "metadata": {
    "collapsed": true
   },
   "outputs": [],
   "source": [
    "kmeans = KMeans(n_clusters = 10, init = 'k-means++', max_iter = 300, n_init = 10, random_state = 0)\n",
    "y_means = kmeans.fit_predict(X)"
   ]
  },
  {
   "cell_type": "code",
   "execution_count": 78,
   "metadata": {},
   "outputs": [
    {
     "data": {
      "text/plain": [
       "array([8, 2, 6, ..., 2, 2, 9])"
      ]
     },
     "execution_count": 78,
     "metadata": {},
     "output_type": "execute_result"
    }
   ],
   "source": [
    "y_means"
   ]
  },
  {
   "cell_type": "code",
   "execution_count": null,
   "metadata": {
    "collapsed": true
   },
   "outputs": [],
   "source": [
    "'''for i in range(12):\n",
    "    print(\"Cluster %d words:\" % i, end='')\n",
    "    \n",
    "    for ind in order_centroids[i, :6]: #replace 6 with n words per cluster\n",
    "        print(' %s' % vocab_frame.ix[terms[ind].split(' ')].values.tolist()[0][0].encode('utf-8', 'ignore'), end=',')\n",
    "    print() #add whitespace\n",
    "    print() #add whitespace\n",
    "'''"
   ]
  },
  {
   "cell_type": "code",
   "execution_count": 79,
   "metadata": {},
   "outputs": [
    {
     "name": "stdout",
     "output_type": "stream",
     "text": [
      "Cluster 0 words: \n",
      "Top words: around,asst,b,awdesh,averted,aid,approximately,become,abnormaly,another,also,battery,beneath,accidentally,away,ankle,aspect,backfire,al,barrier\n",
      "Cluster 1 words: \n",
      "Top words: aborted,approx,belt,accumulation,abnormal,bal,bars,bend,adding,arrest,argon,bar,angle,also,beam,aisle,appeared,applying,bale,another\n",
      "Cluster 2 words: \n",
      "Top words: beam,available,ankle,avoid,action,bath,august,bell,aspect,accidentally,able,activity,angle,arm,amount,assist,around,beside,backside,asked\n",
      "Cluster 3 words: \n",
      "Top words: avoided,batteries,abnormal,al,backup,besides,bay,base,bath,bar,agency,addition,b,appeared,backwashing,air,approximately,applying,abort,aid\n",
      "Cluster 4 words: \n",
      "Top words: arrest,assigned,angle,apart,aside,area,ashok,bar,assist,along,agency,backside,besides,beside,backfire,battery,automatically,badly,base,awdesh\n",
      "Cluster 5 words: \n",
      "Top words: aluminium,barrier,applied,alam,accumulated,backwashing,al,ankle,battery,activated,besides,abnormaly,avoid,abnormalities,back,bags,asst,beneath,bars,along\n",
      "Cluster 6 words: \n",
      "Top words: averted,battery,adding,admitted,bell,auto,apart,accurate,although,base,abnormal,backfire,alll,argon,around,abort,ankle,amiad,accumulation,ashok\n",
      "Cluster 7 words: \n",
      "Top words: affected,argon,approximately,attended,adjacent,admitted,added,adding,also,activity,beneath,amiad,bend,auto,away,beam,bath,auxilary,aisle,became\n",
      "Cluster 8 words: \n",
      "Top words: arm,ankle,anybody,ashok,bars,bay,affected,backfire,avoided,backup,automatically,avoid,bale,addition,beneath,aisle,become,asked,air,bag\n",
      "Cluster 9 words: \n",
      "Top words: bed,bal,able,automatically,approximately,areas,backside,became,accidentally,accept,air,action,backup,badly,besides,available,alerted,aisle,bend,anybody\n"
     ]
    }
   ],
   "source": [
    "terms = vect.get_feature_names()\n",
    "order_centroids = kmeans.cluster_centers_.argsort()[:,::-1]\n",
    "brief_d_kmeans = {}\n",
    "for i in range(10):\n",
    "    print( \"Cluster %d words: \" % i)\n",
    "    top_words = [str(terms[term_index]) for term_index in order_centroids[i, :20]]\n",
    "    print( \"Top words: %s\" % ','.join(top_words))\n",
    "    brief_d_kmeans[i] = top_words"
   ]
  },
  {
   "cell_type": "markdown",
   "metadata": {},
   "source": [
    "# Work on investigation report"
   ]
  },
  {
   "cell_type": "code",
   "execution_count": null,
   "metadata": {
    "collapsed": true
   },
   "outputs": [],
   "source": [
    "vect_invest_repo.vocabulary_"
   ]
  },
  {
   "cell_type": "code",
   "execution_count": 80,
   "metadata": {},
   "outputs": [
    {
     "name": "stdout",
     "output_type": "stream",
     "text": [
      "1164\n"
     ]
    }
   ],
   "source": [
    "invest_r = []\n",
    "for key, item in vect_invest_repo.vocabulary_.items():\n",
    "    invest_r.append(key)\n",
    "print(len(invest_r))"
   ]
  },
  {
   "cell_type": "markdown",
   "metadata": {},
   "source": [
    "## K means on investigation report"
   ]
  },
  {
   "cell_type": "code",
   "execution_count": 81,
   "metadata": {
    "collapsed": true
   },
   "outputs": [],
   "source": [
    "model = Word2Vec([invest_r], min_count=1)"
   ]
  },
  {
   "cell_type": "code",
   "execution_count": 82,
   "metadata": {
    "collapsed": true
   },
   "outputs": [],
   "source": [
    "def word_vectoriz(sent, model):\n",
    "    a = model[sent]\n",
    "    return np.asarray(a);"
   ]
  },
  {
   "cell_type": "code",
   "execution_count": 83,
   "metadata": {},
   "outputs": [
    {
     "name": "stderr",
     "output_type": "stream",
     "text": [
      "F:\\Anaconda\\lib\\site-packages\\ipykernel_launcher.py:2: DeprecationWarning: Call to deprecated `__getitem__` (Method will be removed in 4.0.0, use self.wv.__getitem__() instead).\n",
      "  \n"
     ]
    }
   ],
   "source": [
    "Y = []\n",
    "for j in invest_r:\n",
    "    Y.append(word_vectoriz(j, model))"
   ]
  },
  {
   "cell_type": "code",
   "execution_count": 84,
   "metadata": {
    "collapsed": true
   },
   "outputs": [],
   "source": [
    "NUM_CLUSTERS=10\n",
    "kclusterer = KMeansClusterer(NUM_CLUSTERS, distance=nltk.cluster.util.cosine_distance)\n",
    "assigned_clusters_invest = kclusterer.cluster(Y, assign_clusters=True)\n",
    "#print(assigned_clusters)"
   ]
  },
  {
   "cell_type": "code",
   "execution_count": 85,
   "metadata": {},
   "outputs": [
    {
     "data": {
      "image/png": "[encoded data removed]",
      "text/plain": [
       "<Figure size 432x288 with 1 Axes>"
      ]
     },
     "metadata": {},
     "output_type": "display_data"
    }
   ],
   "source": [
    "from sklearn.cluster import KMeans\n",
    "wcss = []\n",
    "for i in range(1,20):\n",
    "    kmeans_invest = KMeans(n_clusters = i, init = 'k-means++', max_iter = 500, n_init = 10, random_state = 0)\n",
    "    kmeans_invest.fit(Y)\n",
    "    wcss.append(kmeans_invest.inertia_) # calculate within cluster sum of square \n",
    "\n",
    "plt.plot(range(1,20), wcss, color = 'b')\n",
    "plt.title('WCSS plot to find no. of cluster')\n",
    "plt.xlabel('Number of clusters')\n",
    "plt.ylabel('WCSS value')\n",
    "plt.show()"
   ]
  },
  {
   "cell_type": "code",
   "execution_count": 86,
   "metadata": {},
   "outputs": [
    {
     "name": "stdout",
     "output_type": "stream",
     "text": [
      "[7 7 0 ... 9 5 9]\n",
      "Cluster 0 words: \n",
      "Top words: assumed,adequate,big,bag,attributed,board,accordingly,addition,adjusted,automatically,allignment,available,around,accepted,area,al,absence,availability,blocked,advance\n",
      "Cluster 1 words: \n",
      "Top words: barrier,affected,bolt,appropriate,blocking,badly,adequate,additional,bar,accumulated,along,arrangement,alignment,blowpipe,already,adjusted,away,analyser,board,application\n",
      "Cluster 2 words: \n",
      "Top words: activation,backup,amount,bleaching,badly,alumina,agency,apply,blocking,blot,analysis,adequate,blast,bolts,blocked,avoid,bags,arm,actuated,back\n",
      "Cluster 3 words: \n",
      "Top words: better,adjusted,blot,asc,bleaching,activity,assurance,also,blown,accident,allignment,backsplash,accepted,blocked,auto,bed,attentive,additional,barrier,baf\n",
      "Cluster 4 words: \n",
      "Top words: appropriate,april,arrangement,big,although,alarms,absence,baf,auto,badly,blowpipe,activity,accordingly,arrest,alley,accumulated,barrication,alumina,adding,blocked\n",
      "Cluster 5 words: \n",
      "Top words: actuated,b,addes,apr,addition,badly,already,asc,alley,arrested,arrangement,analysis,amount,accident,attributed,assemble,able,auto,affected,around\n",
      "Cluster 6 words: \n",
      "Top words: blocking,advance,abnormal,beyond,although,bar,always,analyzing,aging,available,actuated,bed,blocked,analyser,away,additional,apr,april,block,bags\n",
      "Cluster 7 words: \n",
      "Top words: assemble,accepted,agency,accumulated,added,adequately,backlash,analyzing,alarm,abnormal,activation,accumulation,although,along,blowpipe,always,angle,action,blast,better\n",
      "Cluster 8 words: \n",
      "Top words: also,beyond,availability,amount,attentive,attributed,bleaching,angle,absence,accmon,block,assumed,board,al,backlash,alumina,already,barrication,accident,aging\n",
      "Cluster 9 words: \n",
      "Top words: arm,assurance,attentive,aluminium,angle,april,auto,alley,backsplash,able,allignment,bag,avoid,apply,barrier,accurate,back,arrest,addition,application\n"
     ]
    }
   ],
   "source": [
    "kmeans_invest = KMeans(n_clusters = 10, init = 'k-means++', max_iter = 300, n_init = 10, random_state = 0)\n",
    "y_means = kmeans_invest.fit_predict(Y)\n",
    "\n",
    "print(y_means)\n",
    "'''\n",
    "for i in range(12):\n",
    "    print(\"Cluster %d words:\" % i, end='')\n",
    "    \n",
    "    for ind in order_centroids[i, :6]: #replace 6 with n words per cluster\n",
    "        print(' %s' % vocab_frame.ix[terms[ind].split(' ')].values.tolist()[0][0].encode('utf-8', 'ignore'), end=',')\n",
    "    print() #add whitespace\n",
    "    print() #add whitespace\n",
    "'''\n",
    "\n",
    "invest_kmeans = {}\n",
    "terms = vect_invest_repo.get_feature_names()\n",
    "order_centroids = kmeans_invest.cluster_centers_.argsort()[:,::-1]\n",
    "for i in range(10):\n",
    "    print( \"Cluster %d words: \" % i)\n",
    "    top_words = [str(terms[term_index]) for term_index in order_centroids[i, :20]]\n",
    "    print( \"Top words: %s\" % ','.join(top_words))\n",
    "    invest_kmeans[i] = top_words\n",
    "    \n",
    "    "
   ]
  },
  {
   "cell_type": "markdown",
   "metadata": {},
   "source": [
    "## LDA on investigation report"
   ]
  },
  {
   "cell_type": "code",
   "execution_count": 149,
   "metadata": {
    "collapsed": true
   },
   "outputs": [],
   "source": [
    "#from gensim.corpora.Dictionary import doc2bow\n",
    "from gensim.corpora import MmCorpus\n",
    "from gensim.models.ldamodel import LdaModel\n",
    "\n",
    "import gensim\n",
    "from gensim.utils import simple_preprocess\n",
    "from gensim.parsing.preprocessing import STOPWORDS\n",
    "from nltk.stem import WordNetLemmatizer, SnowballStemmer\n",
    "from nltk.stem.porter import *\n",
    "import numpy as np\n",
    "np.random.seed(2018)\n",
    "import nltk\n",
    "from nltk import PorterStemmer"
   ]
  },
  {
   "cell_type": "code",
   "execution_count": 160,
   "metadata": {
    "collapsed": true
   },
   "outputs": [],
   "source": [
    "proceed_data_invest = []\n",
    "for k,v in outer_dict_invest_rep.items():\n",
    "    proceed_data_invest.append(v)\n",
    "\n",
    "k = 0\n",
    "two = []\n",
    "while(k<len(proceed_data_invest)):\n",
    "    one = []\n",
    "    for i,j in dict(proceed_data_invest[k]).items():\n",
    "        one.append(i)\n",
    "    two.append(one)\n",
    "    k += 1    \n",
    "processed_docs_invest = two"
   ]
  },
  {
   "cell_type": "code",
   "execution_count": 196,
   "metadata": {
    "collapsed": true
   },
   "outputs": [],
   "source": [
    "dictionary = gensim.corpora.Dictionary(processed_docs_invest)"
   ]
  },
  {
   "cell_type": "code",
   "execution_count": 197,
   "metadata": {
    "collapsed": true
   },
   "outputs": [],
   "source": [
    "dictionary.filter_extremes(no_below=15, no_above=0.5, keep_n=100000)"
   ]
  },
  {
   "cell_type": "code",
   "execution_count": 198,
   "metadata": {
    "collapsed": true
   },
   "outputs": [],
   "source": [
    "bow_corpus = [dictionary.doc2bow(doc) for doc in processed_docs]"
   ]
  },
  {
   "cell_type": "code",
   "execution_count": 199,
   "metadata": {},
   "outputs": [
    {
     "data": {
      "text/plain": [
       "[(6, 1)]"
      ]
     },
     "execution_count": 199,
     "metadata": {},
     "output_type": "execute_result"
    }
   ],
   "source": [
    "bow_corpus[1]"
   ]
  },
  {
   "cell_type": "code",
   "execution_count": 200,
   "metadata": {},
   "outputs": [
    {
     "data": {
      "text/plain": [
       "[(6, 1)]"
      ]
     },
     "execution_count": 200,
     "metadata": {},
     "output_type": "execute_result"
    }
   ],
   "source": [
    "dictionary.doc2bow(processed_docs[1])"
   ]
  },
  {
   "cell_type": "code",
   "execution_count": 201,
   "metadata": {},
   "outputs": [
    {
     "name": "stdout",
     "output_type": "stream",
     "text": [
      "[(0, 1.0)]\n"
     ]
    }
   ],
   "source": [
    "from gensim import corpora, models\n",
    "tfidf = models.TfidfModel(bow_corpus)\n",
    "corpus_tfidf = tfidf[bow_corpus]\n",
    "from pprint import pprint\n",
    "for doc in corpus_tfidf:\n",
    "    pprint(doc)\n",
    "    break"
   ]
  },
  {
   "cell_type": "code",
   "execution_count": 202,
   "metadata": {},
   "outputs": [
    {
     "name": "stdout",
     "output_type": "stream",
     "text": [
      "Topic: 0 \n",
      "Words: 0.467*\"ladle\" + 0.411*\"metal\" + 0.034*\"operator\" + 0.030*\"work\" + 0.027*\"due\" + 0.009*\"water\" + 0.008*\"slag\" + 0.007*\"equipment\" + 0.001*\"sop\" + 0.001*\"maintenance\"\n",
      "Topic: 1 \n",
      "Words: 0.763*\"ladle\" + 0.069*\"slag\" + 0.059*\"operator\" + 0.030*\"metal\" + 0.021*\"due\" + 0.021*\"water\" + 0.004*\"equipment\" + 0.004*\"work\" + 0.004*\"maintenance\" + 0.004*\"sop\"\n",
      "Topic: 2 \n",
      "Words: 0.455*\"water\" + 0.203*\"slag\" + 0.141*\"metal\" + 0.072*\"due\" + 0.064*\"operator\" + 0.030*\"sop\" + 0.013*\"ladle\" + 0.003*\"equipment\" + 0.003*\"maintenance\" + 0.003*\"work\"\n",
      "Topic: 3 \n",
      "Words: 0.388*\"operator\" + 0.240*\"metal\" + 0.171*\"ladle\" + 0.162*\"slag\" + 0.019*\"due\" + 0.006*\"work\" + 0.001*\"water\" + 0.001*\"equipment\" + 0.001*\"maintenance\" + 0.001*\"sop\"\n",
      "Topic: 4 \n",
      "Words: 0.617*\"metal\" + 0.106*\"due\" + 0.090*\"ladle\" + 0.051*\"operator\" + 0.012*\"slag\" + 0.012*\"water\" + 0.012*\"equipment\" + 0.012*\"work\" + 0.012*\"maintenance\" + 0.012*\"sop\"\n",
      "Topic: 5 \n",
      "Words: 0.555*\"metal\" + 0.192*\"due\" + 0.098*\"ladle\" + 0.053*\"equipment\" + 0.049*\"slag\" + 0.023*\"operator\" + 0.020*\"sop\" + 0.004*\"water\" + 0.001*\"work\" + 0.001*\"maintenance\"\n",
      "Topic: 6 \n",
      "Words: 0.660*\"slag\" + 0.233*\"ladle\" + 0.047*\"operator\" + 0.040*\"metal\" + 0.002*\"due\" + 0.002*\"water\" + 0.002*\"equipment\" + 0.002*\"work\" + 0.002*\"maintenance\" + 0.002*\"sop\"\n",
      "Topic: 7 \n",
      "Words: 0.229*\"ladle\" + 0.055*\"metal\" + 0.055*\"slag\" + 0.055*\"operator\" + 0.055*\"due\" + 0.055*\"water\" + 0.055*\"equipment\" + 0.055*\"work\" + 0.055*\"sop\" + 0.055*\"maintenance\"\n",
      "Topic: 8 \n",
      "Words: 0.868*\"due\" + 0.078*\"metal\" + 0.004*\"slag\" + 0.004*\"ladle\" + 0.004*\"operator\" + 0.004*\"water\" + 0.004*\"equipment\" + 0.004*\"work\" + 0.004*\"maintenance\" + 0.004*\"sop\"\n",
      "Topic: 9 \n",
      "Words: 0.336*\"slag\" + 0.305*\"metal\" + 0.169*\"due\" + 0.044*\"maintenance\" + 0.041*\"operator\" + 0.040*\"work\" + 0.025*\"water\" + 0.024*\"ladle\" + 0.002*\"equipment\" + 0.002*\"sop\"\n"
     ]
    }
   ],
   "source": [
    "lda_model = gensim.models.LdaMulticore(bow_corpus, num_topics=10, id2word=dictionary, passes=2, workers=2)\n",
    "for idx, topic in lda_model.print_topics(-1):\n",
    "    print('Topic: {} \\nWords: {}'.format(idx, topic))"
   ]
  },
  {
   "cell_type": "code",
   "execution_count": 203,
   "metadata": {
    "collapsed": true
   },
   "outputs": [],
   "source": [
    "invest_lda = {}\n",
    "for idx, topic in lda_model.print_topics(-1):\n",
    "    #print('Topic: {} \\nWords: {}'.format(idx, topic))\n",
    "    invest_lda[idx] = topic"
   ]
  },
  {
   "cell_type": "code",
   "execution_count": 204,
   "metadata": {},
   "outputs": [
    {
     "data": {
      "text/plain": [
       "{0: '0.467*\"ladle\" + 0.411*\"metal\" + 0.034*\"operator\" + 0.030*\"work\" + 0.027*\"due\" + 0.009*\"water\" + 0.008*\"slag\" + 0.007*\"equipment\" + 0.001*\"sop\" + 0.001*\"maintenance\"',\n",
       " 1: '0.763*\"ladle\" + 0.069*\"slag\" + 0.059*\"operator\" + 0.030*\"metal\" + 0.021*\"due\" + 0.021*\"water\" + 0.004*\"equipment\" + 0.004*\"work\" + 0.004*\"maintenance\" + 0.004*\"sop\"',\n",
       " 2: '0.455*\"water\" + 0.203*\"slag\" + 0.141*\"metal\" + 0.072*\"due\" + 0.064*\"operator\" + 0.030*\"sop\" + 0.013*\"ladle\" + 0.003*\"equipment\" + 0.003*\"maintenance\" + 0.003*\"work\"',\n",
       " 3: '0.388*\"operator\" + 0.240*\"metal\" + 0.171*\"ladle\" + 0.162*\"slag\" + 0.019*\"due\" + 0.006*\"work\" + 0.001*\"water\" + 0.001*\"equipment\" + 0.001*\"maintenance\" + 0.001*\"sop\"',\n",
       " 4: '0.617*\"metal\" + 0.106*\"due\" + 0.090*\"ladle\" + 0.051*\"operator\" + 0.012*\"slag\" + 0.012*\"water\" + 0.012*\"equipment\" + 0.012*\"work\" + 0.012*\"maintenance\" + 0.012*\"sop\"',\n",
       " 5: '0.555*\"metal\" + 0.192*\"due\" + 0.098*\"ladle\" + 0.053*\"equipment\" + 0.049*\"slag\" + 0.023*\"operator\" + 0.020*\"sop\" + 0.004*\"water\" + 0.001*\"work\" + 0.001*\"maintenance\"',\n",
       " 6: '0.660*\"slag\" + 0.233*\"ladle\" + 0.047*\"operator\" + 0.040*\"metal\" + 0.002*\"due\" + 0.002*\"water\" + 0.002*\"equipment\" + 0.002*\"work\" + 0.002*\"maintenance\" + 0.002*\"sop\"',\n",
       " 7: '0.229*\"ladle\" + 0.055*\"metal\" + 0.055*\"slag\" + 0.055*\"operator\" + 0.055*\"due\" + 0.055*\"water\" + 0.055*\"equipment\" + 0.055*\"work\" + 0.055*\"sop\" + 0.055*\"maintenance\"',\n",
       " 8: '0.868*\"due\" + 0.078*\"metal\" + 0.004*\"slag\" + 0.004*\"ladle\" + 0.004*\"operator\" + 0.004*\"water\" + 0.004*\"equipment\" + 0.004*\"work\" + 0.004*\"maintenance\" + 0.004*\"sop\"',\n",
       " 9: '0.336*\"slag\" + 0.305*\"metal\" + 0.169*\"due\" + 0.044*\"maintenance\" + 0.041*\"operator\" + 0.040*\"work\" + 0.025*\"water\" + 0.024*\"ladle\" + 0.002*\"equipment\" + 0.002*\"sop\"'}"
      ]
     },
     "execution_count": 204,
     "metadata": {},
     "output_type": "execute_result"
    }
   ],
   "source": [
    "invest_lda"
   ]
  },
  {
   "cell_type": "code",
   "execution_count": 205,
   "metadata": {},
   "outputs": [
    {
     "name": "stdout",
     "output_type": "stream",
     "text": [
      "Topic: 0 Word: 0.534*\"ladle\" + 0.348*\"metal\" + 0.040*\"due\" + 0.017*\"equipment\" + 0.016*\"slag\" + 0.004*\"operator\" + 0.004*\"water\" + 0.004*\"work\" + 0.004*\"sop\" + 0.004*\"maintenance\"\n",
      "Topic: 1 Word: 0.662*\"metal\" + 0.076*\"slag\" + 0.052*\"ladle\" + 0.047*\"maintenance\" + 0.047*\"water\" + 0.044*\"work\" + 0.028*\"due\" + 0.024*\"operator\" + 0.003*\"equipment\" + 0.003*\"sop\"\n",
      "Topic: 2 Word: 0.583*\"due\" + 0.144*\"metal\" + 0.099*\"ladle\" + 0.081*\"slag\" + 0.068*\"operator\" + 0.007*\"equipment\" + 0.007*\"water\" + 0.002*\"work\" + 0.002*\"sop\" + 0.002*\"maintenance\"\n",
      "Topic: 3 Word: 0.330*\"ladle\" + 0.291*\"metal\" + 0.130*\"due\" + 0.084*\"slag\" + 0.083*\"water\" + 0.008*\"operator\" + 0.008*\"equipment\" + 0.008*\"work\" + 0.008*\"sop\" + 0.008*\"maintenance\"\n",
      "Topic: 4 Word: 0.875*\"slag\" + 0.040*\"metal\" + 0.025*\"operator\" + 0.014*\"due\" + 0.011*\"water\" + 0.003*\"ladle\" + 0.003*\"equipment\" + 0.003*\"work\" + 0.003*\"sop\" + 0.003*\"maintenance\"\n",
      "Topic: 5 Word: 0.581*\"operator\" + 0.147*\"slag\" + 0.112*\"ladle\" + 0.097*\"metal\" + 0.023*\"work\" + 0.008*\"sop\" + 0.008*\"due\" + 0.007*\"equipment\" + 0.002*\"water\" + 0.002*\"maintenance\"\n",
      "Topic: 6 Word: 0.646*\"water\" + 0.113*\"slag\" + 0.100*\"ladle\" + 0.062*\"metal\" + 0.020*\"equipment\" + 0.013*\"due\" + 0.005*\"operator\" + 0.005*\"work\" + 0.005*\"sop\" + 0.005*\"maintenance\"\n",
      "Topic: 7 Word: 0.578*\"metal\" + 0.257*\"ladle\" + 0.039*\"slag\" + 0.035*\"operator\" + 0.035*\"due\" + 0.021*\"water\" + 0.004*\"equipment\" + 0.004*\"work\" + 0.004*\"sop\" + 0.004*\"maintenance\"\n",
      "Topic: 8 Word: 0.405*\"ladle\" + 0.295*\"slag\" + 0.201*\"metal\" + 0.057*\"sop\" + 0.009*\"work\" + 0.006*\"water\" + 0.005*\"operator\" + 0.005*\"due\" + 0.002*\"equipment\" + 0.002*\"maintenance\"\n",
      "Topic: 9 Word: 0.594*\"ladle\" + 0.170*\"equipment\" + 0.065*\"work\" + 0.054*\"metal\" + 0.054*\"operator\" + 0.019*\"slag\" + 0.012*\"due\" + 0.004*\"water\" + 0.004*\"sop\" + 0.004*\"maintenance\"\n"
     ]
    }
   ],
   "source": [
    "lda_model_tfidf = gensim.models.LdaMulticore(corpus_tfidf, num_topics=10, id2word=dictionary, passes=2, workers=4)\n",
    "for idx, topic in lda_model_tfidf.print_topics(-1):\n",
    "    print('Topic: {} Word: {}'.format(idx, topic))"
   ]
  },
  {
   "cell_type": "code",
   "execution_count": 206,
   "metadata": {
    "collapsed": true
   },
   "outputs": [],
   "source": [
    "invest_lda_tfidf = {}\n",
    "for idx, topic in lda_model_tfidf.print_topics(-1):\n",
    "    #print('Topic: {} Word: {}'.format(idx, topic))\n",
    "    invest_lda_tfidf[idx] = topic"
   ]
  },
  {
   "cell_type": "code",
   "execution_count": 207,
   "metadata": {},
   "outputs": [
    {
     "data": {
      "text/plain": [
       "{0: '0.534*\"ladle\" + 0.348*\"metal\" + 0.040*\"due\" + 0.017*\"equipment\" + 0.016*\"slag\" + 0.004*\"operator\" + 0.004*\"water\" + 0.004*\"work\" + 0.004*\"sop\" + 0.004*\"maintenance\"',\n",
       " 1: '0.662*\"metal\" + 0.076*\"slag\" + 0.052*\"ladle\" + 0.047*\"maintenance\" + 0.047*\"water\" + 0.044*\"work\" + 0.028*\"due\" + 0.024*\"operator\" + 0.003*\"equipment\" + 0.003*\"sop\"',\n",
       " 2: '0.583*\"due\" + 0.144*\"metal\" + 0.099*\"ladle\" + 0.081*\"slag\" + 0.068*\"operator\" + 0.007*\"equipment\" + 0.007*\"water\" + 0.002*\"work\" + 0.002*\"sop\" + 0.002*\"maintenance\"',\n",
       " 3: '0.330*\"ladle\" + 0.291*\"metal\" + 0.130*\"due\" + 0.084*\"slag\" + 0.083*\"water\" + 0.008*\"operator\" + 0.008*\"equipment\" + 0.008*\"work\" + 0.008*\"sop\" + 0.008*\"maintenance\"',\n",
       " 4: '0.875*\"slag\" + 0.040*\"metal\" + 0.025*\"operator\" + 0.014*\"due\" + 0.011*\"water\" + 0.003*\"ladle\" + 0.003*\"equipment\" + 0.003*\"work\" + 0.003*\"sop\" + 0.003*\"maintenance\"',\n",
       " 5: '0.581*\"operator\" + 0.147*\"slag\" + 0.112*\"ladle\" + 0.097*\"metal\" + 0.023*\"work\" + 0.008*\"sop\" + 0.008*\"due\" + 0.007*\"equipment\" + 0.002*\"water\" + 0.002*\"maintenance\"',\n",
       " 6: '0.646*\"water\" + 0.113*\"slag\" + 0.100*\"ladle\" + 0.062*\"metal\" + 0.020*\"equipment\" + 0.013*\"due\" + 0.005*\"operator\" + 0.005*\"work\" + 0.005*\"sop\" + 0.005*\"maintenance\"',\n",
       " 7: '0.578*\"metal\" + 0.257*\"ladle\" + 0.039*\"slag\" + 0.035*\"operator\" + 0.035*\"due\" + 0.021*\"water\" + 0.004*\"equipment\" + 0.004*\"work\" + 0.004*\"sop\" + 0.004*\"maintenance\"',\n",
       " 8: '0.405*\"ladle\" + 0.295*\"slag\" + 0.201*\"metal\" + 0.057*\"sop\" + 0.009*\"work\" + 0.006*\"water\" + 0.005*\"operator\" + 0.005*\"due\" + 0.002*\"equipment\" + 0.002*\"maintenance\"',\n",
       " 9: '0.594*\"ladle\" + 0.170*\"equipment\" + 0.065*\"work\" + 0.054*\"metal\" + 0.054*\"operator\" + 0.019*\"slag\" + 0.012*\"due\" + 0.004*\"water\" + 0.004*\"sop\" + 0.004*\"maintenance\"'}"
      ]
     },
     "execution_count": 207,
     "metadata": {},
     "output_type": "execute_result"
    }
   ],
   "source": [
    "invest_lda_tfidf"
   ]
  },
  {
   "cell_type": "code",
   "execution_count": 208,
   "metadata": {},
   "outputs": [
    {
     "name": "stdout",
     "output_type": "stream",
     "text": [
      "Topic: 0 \n",
      "Words: 0.078*\"ladle\" + 0.074*\"operator\" + 0.074*\"due\" + 0.073*\"improper\" + 0.071*\"maintenance\" + 0.067*\"sop\" + 0.065*\"slag\" + 0.064*\"inadequate\" + 0.064*\"work\" + 0.063*\"equipment\"\n",
      "Topic: 1 \n",
      "Words: 0.074*\"work\" + 0.073*\"worker\" + 0.073*\"improper\" + 0.070*\"metal\" + 0.067*\"operator\" + 0.066*\"poor\" + 0.066*\"slag\" + 0.065*\"due\" + 0.065*\"water\" + 0.065*\"equipment\"\n",
      "Topic: 2 \n",
      "Words: 0.080*\"equipment\" + 0.074*\"work\" + 0.072*\"improper\" + 0.071*\"slag\" + 0.070*\"sop\" + 0.069*\"water\" + 0.069*\"ladle\" + 0.066*\"worker\" + 0.066*\"operator\" + 0.064*\"maintenance\"\n",
      "Topic: 3 \n",
      "Words: 0.078*\"ladle\" + 0.072*\"maintenance\" + 0.072*\"equipment\" + 0.071*\"nan\" + 0.070*\"operator\" + 0.069*\"metal\" + 0.069*\"sop\" + 0.069*\"water\" + 0.067*\"work\" + 0.066*\"worker\"\n",
      "Topic: 4 \n",
      "Words: 0.072*\"maintenance\" + 0.071*\"nan\" + 0.071*\"sop\" + 0.070*\"due\" + 0.069*\"improper\" + 0.069*\"poor\" + 0.068*\"inadequate\" + 0.068*\"operator\" + 0.068*\"equipment\" + 0.067*\"slag\"\n",
      "Topic: 5 \n",
      "Words: 0.085*\"work\" + 0.081*\"operator\" + 0.075*\"water\" + 0.072*\"nan\" + 0.068*\"due\" + 0.067*\"inadequate\" + 0.066*\"poor\" + 0.064*\"maintenance\" + 0.063*\"equipment\" + 0.063*\"slag\"\n",
      "Topic: 6 \n",
      "Words: 0.075*\"slag\" + 0.073*\"worker\" + 0.073*\"inadequate\" + 0.071*\"water\" + 0.071*\"ladle\" + 0.070*\"sop\" + 0.069*\"improper\" + 0.066*\"due\" + 0.064*\"equipment\" + 0.064*\"poor\"\n",
      "Topic: 7 \n",
      "Words: 0.078*\"improper\" + 0.074*\"worker\" + 0.070*\"slag\" + 0.070*\"metal\" + 0.068*\"inadequate\" + 0.067*\"ladle\" + 0.067*\"sop\" + 0.067*\"operator\" + 0.066*\"water\" + 0.065*\"due\"\n",
      "Topic: 8 \n",
      "Words: 0.077*\"maintenance\" + 0.073*\"water\" + 0.072*\"worker\" + 0.071*\"sop\" + 0.070*\"operator\" + 0.068*\"nan\" + 0.068*\"equipment\" + 0.067*\"ladle\" + 0.067*\"poor\" + 0.066*\"work\"\n",
      "Topic: 9 \n",
      "Words: 0.078*\"metal\" + 0.075*\"operator\" + 0.072*\"poor\" + 0.072*\"equipment\" + 0.072*\"sop\" + 0.070*\"worker\" + 0.069*\"improper\" + 0.067*\"ladle\" + 0.066*\"water\" + 0.064*\"inadequate\"\n"
     ]
    }
   ],
   "source": [
    "lda_model = gensim.models.LdaMulticore(num_topics=10, id2word=dictionary, passes=2, workers=2)\n",
    "for idx, topic in lda_model.print_topics(-1):\n",
    "    print('Topic: {} \\nWords: {}'.format(idx, topic))"
   ]
  },
  {
   "cell_type": "code",
   "execution_count": 209,
   "metadata": {
    "collapsed": true
   },
   "outputs": [],
   "source": [
    "invest_lda_2 = {}\n",
    "for idx, topic in lda_model.print_topics(-1):\n",
    "    #print('Topic: {} Word: {}'.format(idx, topic))\n",
    "    invest_lda_2[idx] = topic"
   ]
  },
  {
   "cell_type": "markdown",
   "metadata": {},
   "source": [
    "# Report Analysis"
   ]
  },
  {
   "cell_type": "markdown",
   "metadata": {},
   "source": [
    "## Tfidf "
   ]
  },
  {
   "cell_type": "code",
   "execution_count": 1,
   "metadata": {},
   "outputs": [],
   "source": [
    "# Brief_d\n",
    "          #print(outer_dict)\n",
    "# invest_rep\n",
    "        #print(outer_dict_invest_rep)"
   ]
  },
  {
   "cell_type": "markdown",
   "metadata": {},
   "source": [
    "## LDA"
   ]
  },
  {
   "cell_type": "code",
   "execution_count": 181,
   "metadata": {},
   "outputs": [
    {
     "name": "stdout",
     "output_type": "stream",
     "text": [
      "{0: '0.131*\"hot\" + 0.130*\"pit\" + 0.114*\"torpedo\" + 0.062*\"ladle\" + 0.045*\"casting\" + 0.043*\"steel\" + 0.038*\"placed\" + 0.034*\"car\" + 0.034*\"track\" + 0.031*\"tilting\"', 1: '0.053*\"spillage\" + 0.052*\"ladle\" + 0.052*\"hot\" + 0.052*\"car\" + 0.049*\"injury\" + 0.045*\"pit\" + 0.041*\"due\" + 0.040*\"operator\" + 0.040*\"got\" + 0.037*\"crane\"', 2: '0.129*\"slag\" + 0.062*\"ladle\" + 0.057*\"hot\" + 0.043*\"charging\" + 0.043*\"car\" + 0.035*\"steel\" + 0.034*\"tapping\" + 0.032*\"got\" + 0.032*\"vessel\" + 0.031*\"runner\"', 3: '0.092*\"hot\" + 0.082*\"slag\" + 0.066*\"track\" + 0.051*\"cast\" + 0.046*\"line\" + 0.043*\"vessel\" + 0.038*\"trough\" + 0.034*\"closed\" + 0.033*\"house\" + 0.032*\"charging\"', 4: '0.063*\"ladle\" + 0.053*\"fire\" + 0.041*\"casting\" + 0.036*\"immediately\" + 0.035*\"turret\" + 0.034*\"slag\" + 0.033*\"around\" + 0.033*\"emergency\" + 0.033*\"caster\" + 0.032*\"area\"', 5: '0.063*\"cast\" + 0.043*\"got\" + 0.041*\"hot\" + 0.040*\"started\" + 0.036*\"closed\" + 0.035*\"stopped\" + 0.034*\"immediately\" + 0.032*\"casting\" + 0.030*\"runner\" + 0.029*\"side\"', 6: '0.085*\"spillage\" + 0.071*\"due\" + 0.068*\"got\" + 0.064*\"ladle\" + 0.044*\"inside\" + 0.043*\"damaged\" + 0.037*\"operator\" + 0.034*\"near\" + 0.030*\"time\" + 0.029*\"emergency\"', 7: '0.059*\"tap\" + 0.059*\"hole\" + 0.044*\"ladle\" + 0.043*\"due\" + 0.043*\"cast\" + 0.042*\"opened\" + 0.034*\"hot\" + 0.033*\"towards\" + 0.033*\"torpedo\" + 0.033*\"area\"', 8: '0.049*\"position\" + 0.045*\"ladle\" + 0.042*\"due\" + 0.038*\"damaged\" + 0.037*\"around\" + 0.037*\"crane\" + 0.035*\"turret\" + 0.034*\"operator\" + 0.031*\"emergency\" + 0.029*\"slide\"', 9: '0.090*\"ladle\" + 0.082*\"steel\" + 0.065*\"vessel\" + 0.049*\"car\" + 0.049*\"fell\" + 0.044*\"crane\" + 0.041*\"slag\" + 0.034*\"tapping\" + 0.032*\"damage\" + 0.030*\"gate\"'}\n",
      "{0: '0.059*\"casting\" + 0.058*\"placed\" + 0.047*\"started\" + 0.040*\"pot\" + 0.038*\"track\" + 0.034*\"line\" + 0.032*\"stopped\" + 0.031*\"taken\" + 0.030*\"side\" + 0.027*\"pit\"', 1: '0.048*\"closed\" + 0.046*\"trough\" + 0.045*\"due\" + 0.039*\"slag\" + 0.038*\"runner\" + 0.035*\"spillage\" + 0.035*\"hot\" + 0.034*\"tilting\" + 0.033*\"cast\" + 0.031*\"inside\"', 2: '0.102*\"charging\" + 0.076*\"crane\" + 0.072*\"vessel\" + 0.068*\"started\" + 0.043*\"hot\" + 0.042*\"around\" + 0.036*\"torpedo\" + 0.036*\"flow\" + 0.032*\"opened\" + 0.030*\"tap\"', 3: '0.057*\"line\" + 0.053*\"house\" + 0.043*\"slag\" + 0.042*\"track\" + 0.041*\"pot\" + 0.040*\"hot\" + 0.038*\"cast\" + 0.035*\"spillage\" + 0.035*\"got\" + 0.032*\"hole\"', 4: '0.082*\"water\" + 0.063*\"inside\" + 0.058*\"damage\" + 0.045*\"could\" + 0.042*\"operator\" + 0.042*\"slag\" + 0.040*\"leakage\" + 0.032*\"crane\" + 0.031*\"runner\" + 0.028*\"fell\"', 5: '0.035*\"emergency\" + 0.034*\"immediately\" + 0.030*\"heat\" + 0.030*\"got\" + 0.030*\"found\" + 0.030*\"tapping\" + 0.029*\"tilting\" + 0.029*\"tundish\" + 0.029*\"liquid\" + 0.027*\"closed\"', 6: '0.065*\"steel\" + 0.055*\"ladle\" + 0.045*\"bay\" + 0.043*\"car\" + 0.041*\"crane\" + 0.038*\"torpedo\" + 0.038*\"occurred\" + 0.037*\"hot\" + 0.035*\"pit\" + 0.031*\"charging\"', 7: '0.046*\"vessel\" + 0.046*\"tundish\" + 0.044*\"position\" + 0.042*\"caster\" + 0.042*\"damage\" + 0.037*\"steel\" + 0.036*\"liquid\" + 0.034*\"pit\" + 0.031*\"car\" + 0.029*\"around\"', 8: '0.049*\"moved\" + 0.038*\"slide\" + 0.037*\"gate\" + 0.036*\"turret\" + 0.034*\"casting\" + 0.034*\"towards\" + 0.033*\"emergency\" + 0.033*\"ladle\" + 0.032*\"operator\" + 0.031*\"damaged\"', 9: '0.091*\"slag\" + 0.047*\"happened\" + 0.046*\"pit\" + 0.045*\"area\" + 0.041*\"fire\" + 0.037*\"around\" + 0.035*\"hot\" + 0.035*\"tap\" + 0.030*\"heat\" + 0.029*\"ladle\"'}\n",
      "{0: '0.195*\"metal\" + 0.195*\"due\" + 0.047*\"slag\" + 0.047*\"ladle\" + 0.047*\"operator\" + 0.047*\"water\" + 0.047*\"equipment\" + 0.047*\"work\" + 0.047*\"sop\" + 0.047*\"maintenance\"', 1: '0.516*\"due\" + 0.325*\"metal\" + 0.051*\"operator\" + 0.049*\"water\" + 0.025*\"ladle\" + 0.010*\"equipment\" + 0.005*\"slag\" + 0.002*\"work\" + 0.002*\"sop\" + 0.002*\"maintenance\"', 2: '0.210*\"slag\" + 0.147*\"metal\" + 0.147*\"operator\" + 0.084*\"ladle\" + 0.084*\"due\" + 0.084*\"water\" + 0.084*\"equipment\" + 0.020*\"work\" + 0.020*\"sop\" + 0.020*\"maintenance\"', 3: '0.493*\"operator\" + 0.231*\"metal\" + 0.210*\"due\" + 0.031*\"ladle\" + 0.003*\"slag\" + 0.003*\"water\" + 0.003*\"equipment\" + 0.003*\"work\" + 0.003*\"sop\" + 0.003*\"maintenance\"', 4: '0.432*\"water\" + 0.202*\"slag\" + 0.114*\"due\" + 0.109*\"metal\" + 0.048*\"maintenance\" + 0.041*\"ladle\" + 0.031*\"operator\" + 0.003*\"sop\" + 0.003*\"equipment\" + 0.003*\"work\"', 5: '0.632*\"metal\" + 0.178*\"due\" + 0.136*\"equipment\" + 0.004*\"ladle\" + 0.004*\"slag\" + 0.004*\"operator\" + 0.004*\"water\" + 0.004*\"sop\" + 0.004*\"work\" + 0.004*\"maintenance\"', 6: '0.707*\"slag\" + 0.108*\"operator\" + 0.070*\"metal\" + 0.035*\"ladle\" + 0.028*\"sop\" + 0.028*\"equipment\" + 0.012*\"work\" + 0.002*\"due\" + 0.002*\"water\" + 0.002*\"maintenance\"', 7: '0.307*\"slag\" + 0.219*\"metal\" + 0.214*\"due\" + 0.113*\"ladle\" + 0.046*\"water\" + 0.035*\"work\" + 0.027*\"operator\" + 0.013*\"maintenance\" + 0.008*\"sop\" + 0.008*\"equipment\"', 8: '0.502*\"metal\" + 0.334*\"ladle\" + 0.075*\"operator\" + 0.042*\"due\" + 0.023*\"slag\" + 0.017*\"work\" + 0.003*\"water\" + 0.001*\"equipment\" + 0.001*\"sop\" + 0.001*\"maintenance\"', 9: '0.679*\"ladle\" + 0.117*\"metal\" + 0.080*\"slag\" + 0.042*\"due\" + 0.034*\"operator\" + 0.022*\"sop\" + 0.010*\"equipment\" + 0.002*\"water\" + 0.002*\"work\" + 0.002*\"maintenance\"'}\n",
      "{0: '0.517*\"due\" + 0.170*\"metal\" + 0.090*\"slag\" + 0.073*\"ladle\" + 0.059*\"work\" + 0.041*\"operator\" + 0.025*\"maintenance\" + 0.012*\"water\" + 0.002*\"equipment\" + 0.002*\"sop\"', 1: '0.487*\"operator\" + 0.189*\"slag\" + 0.100*\"due\" + 0.091*\"water\" + 0.089*\"metal\" + 0.016*\"ladle\" + 0.003*\"work\" + 0.003*\"equipment\" + 0.003*\"sop\" + 0.003*\"maintenance\"', 2: '0.423*\"water\" + 0.195*\"slag\" + 0.097*\"sop\" + 0.095*\"metal\" + 0.069*\"ladle\" + 0.067*\"operator\" + 0.015*\"work\" + 0.010*\"due\" + 0.004*\"equipment\" + 0.004*\"maintenance\"', 3: '0.435*\"ladle\" + 0.356*\"metal\" + 0.095*\"water\" + 0.028*\"operator\" + 0.023*\"slag\" + 0.017*\"due\" + 0.015*\"work\" + 0.004*\"equipment\" + 0.004*\"sop\" + 0.004*\"maintenance\"', 4: '0.273*\"metal\" + 0.241*\"due\" + 0.204*\"slag\" + 0.146*\"ladle\" + 0.012*\"operator\" + 0.012*\"water\" + 0.012*\"equipment\" + 0.012*\"work\" + 0.012*\"sop\" + 0.012*\"maintenance\"', 5: '0.954*\"metal\" + 0.003*\"ladle\" + 0.003*\"slag\" + 0.003*\"due\" + 0.003*\"operator\" + 0.003*\"water\" + 0.003*\"equipment\" + 0.003*\"work\" + 0.003*\"sop\" + 0.003*\"maintenance\"', 6: '0.534*\"equipment\" + 0.235*\"ladle\" + 0.083*\"slag\" + 0.012*\"metal\" + 0.012*\"due\" + 0.012*\"operator\" + 0.012*\"water\" + 0.012*\"sop\" + 0.012*\"work\" + 0.012*\"maintenance\"', 7: '0.309*\"ladle\" + 0.296*\"operator\" + 0.174*\"due\" + 0.098*\"metal\" + 0.050*\"slag\" + 0.029*\"equipment\" + 0.009*\"work\" + 0.009*\"maintenance\" + 0.008*\"sop\" + 0.006*\"water\"', 8: '0.843*\"slag\" + 0.101*\"metal\" + 0.013*\"ladle\" + 0.010*\"operator\" + 0.003*\"due\" + 0.003*\"water\" + 0.003*\"equipment\" + 0.003*\"work\" + 0.003*\"sop\" + 0.003*\"maintenance\"', 9: '0.614*\"ladle\" + 0.222*\"metal\" + 0.138*\"slag\" + 0.006*\"operator\" + 0.002*\"due\" + 0.002*\"water\" + 0.002*\"equipment\" + 0.002*\"work\" + 0.002*\"sop\" + 0.002*\"maintenance\"'}\n"
     ]
    }
   ],
   "source": [
    "# Brief_d\n",
    "print(brief_d_lda)\n",
    "print(brief_d_lda_tfidf)\n",
    "\n",
    "#invest_ Report\n",
    "print(invest_lda)\n",
    "print(invest_lda_tfidf)"
   ]
  },
  {
   "cell_type": "markdown",
   "metadata": {},
   "source": [
    "## k-means"
   ]
  },
  {
   "cell_type": "code",
   "execution_count": 103,
   "metadata": {},
   "outputs": [
    {
     "name": "stdout",
     "output_type": "stream",
     "text": [
      "{0: ['around', 'asst', 'b', 'awdesh', 'averted', 'aid', 'approximately', 'become', 'abnormaly', 'another', 'also', 'battery', 'beneath', 'accidentally', 'away', 'ankle', 'aspect', 'backfire', 'al', 'barrier'], 1: ['aborted', 'approx', 'belt', 'accumulation', 'abnormal', 'bal', 'bars', 'bend', 'adding', 'arrest', 'argon', 'bar', 'angle', 'also', 'beam', 'aisle', 'appeared', 'applying', 'bale', 'another'], 2: ['beam', 'available', 'ankle', 'avoid', 'action', 'bath', 'august', 'bell', 'aspect', 'accidentally', 'able', 'activity', 'angle', 'arm', 'amount', 'assist', 'around', 'beside', 'backside', 'asked'], 3: ['avoided', 'batteries', 'abnormal', 'al', 'backup', 'besides', 'bay', 'base', 'bath', 'bar', 'agency', 'addition', 'b', 'appeared', 'backwashing', 'air', 'approximately', 'applying', 'abort', 'aid'], 4: ['arrest', 'assigned', 'angle', 'apart', 'aside', 'area', 'ashok', 'bar', 'assist', 'along', 'agency', 'backside', 'besides', 'beside', 'backfire', 'battery', 'automatically', 'badly', 'base', 'awdesh'], 5: ['aluminium', 'barrier', 'applied', 'alam', 'accumulated', 'backwashing', 'al', 'ankle', 'battery', 'activated', 'besides', 'abnormaly', 'avoid', 'abnormalities', 'back', 'bags', 'asst', 'beneath', 'bars', 'along'], 6: ['averted', 'battery', 'adding', 'admitted', 'bell', 'auto', 'apart', 'accurate', 'although', 'base', 'abnormal', 'backfire', 'alll', 'argon', 'around', 'abort', 'ankle', 'amiad', 'accumulation', 'ashok'], 7: ['affected', 'argon', 'approximately', 'attended', 'adjacent', 'admitted', 'added', 'adding', 'also', 'activity', 'beneath', 'amiad', 'bend', 'auto', 'away', 'beam', 'bath', 'auxilary', 'aisle', 'became'], 8: ['arm', 'ankle', 'anybody', 'ashok', 'bars', 'bay', 'affected', 'backfire', 'avoided', 'backup', 'automatically', 'avoid', 'bale', 'addition', 'beneath', 'aisle', 'become', 'asked', 'air', 'bag'], 9: ['bed', 'bal', 'able', 'automatically', 'approximately', 'areas', 'backside', 'became', 'accidentally', 'accept', 'air', 'action', 'backup', 'badly', 'besides', 'available', 'alerted', 'aisle', 'bend', 'anybody']}\n",
      "{0: ['assumed', 'adequate', 'big', 'bag', 'attributed', 'board', 'accordingly', 'addition', 'adjusted', 'automatically', 'allignment', 'available', 'around', 'accepted', 'area', 'al', 'absence', 'availability', 'blocked', 'advance'], 1: ['barrier', 'affected', 'bolt', 'appropriate', 'blocking', 'badly', 'adequate', 'additional', 'bar', 'accumulated', 'along', 'arrangement', 'alignment', 'blowpipe', 'already', 'adjusted', 'away', 'analyser', 'board', 'application'], 2: ['activation', 'backup', 'amount', 'bleaching', 'badly', 'alumina', 'agency', 'apply', 'blocking', 'blot', 'analysis', 'adequate', 'blast', 'bolts', 'blocked', 'avoid', 'bags', 'arm', 'actuated', 'back'], 3: ['better', 'adjusted', 'blot', 'asc', 'bleaching', 'activity', 'assurance', 'also', 'blown', 'accident', 'allignment', 'backsplash', 'accepted', 'blocked', 'auto', 'bed', 'attentive', 'additional', 'barrier', 'baf'], 4: ['appropriate', 'april', 'arrangement', 'big', 'although', 'alarms', 'absence', 'baf', 'auto', 'badly', 'blowpipe', 'activity', 'accordingly', 'arrest', 'alley', 'accumulated', 'barrication', 'alumina', 'adding', 'blocked'], 5: ['actuated', 'b', 'addes', 'apr', 'addition', 'badly', 'already', 'asc', 'alley', 'arrested', 'arrangement', 'analysis', 'amount', 'accident', 'attributed', 'assemble', 'able', 'auto', 'affected', 'around'], 6: ['blocking', 'advance', 'abnormal', 'beyond', 'although', 'bar', 'always', 'analyzing', 'aging', 'available', 'actuated', 'bed', 'blocked', 'analyser', 'away', 'additional', 'apr', 'april', 'block', 'bags'], 7: ['assemble', 'accepted', 'agency', 'accumulated', 'added', 'adequately', 'backlash', 'analyzing', 'alarm', 'abnormal', 'activation', 'accumulation', 'although', 'along', 'blowpipe', 'always', 'angle', 'action', 'blast', 'better'], 8: ['also', 'beyond', 'availability', 'amount', 'attentive', 'attributed', 'bleaching', 'angle', 'absence', 'accmon', 'block', 'assumed', 'board', 'al', 'backlash', 'alumina', 'already', 'barrication', 'accident', 'aging'], 9: ['arm', 'assurance', 'attentive', 'aluminium', 'angle', 'april', 'auto', 'alley', 'backsplash', 'able', 'allignment', 'bag', 'avoid', 'apply', 'barrier', 'accurate', 'back', 'arrest', 'addition', 'application']}\n"
     ]
    }
   ],
   "source": [
    "# Brief_d\n",
    "print(brief_d_kmeans)\n",
    "# Invest_repo\n",
    "print(invest_kmeans)"
   ]
  },
  {
   "cell_type": "markdown",
   "metadata": {
    "collapsed": true
   },
   "source": [
    "### Making Data file"
   ]
  },
  {
   "cell_type": "code",
   "execution_count": 116,
   "metadata": {
    "collapsed": true
   },
   "outputs": [],
   "source": [
    "df_for_brief_d_kmeans = pd.DataFrame()"
   ]
  },
  {
   "cell_type": "code",
   "execution_count": 211,
   "metadata": {
    "collapsed": true
   },
   "outputs": [],
   "source": [
    "for key, value in brief_d_kmeans.items():\n",
    "    df_for_brief_d_kmeans[key] = value"
   ]
  },
  {
   "cell_type": "code",
   "execution_count": 212,
   "metadata": {},
   "outputs": [
    {
     "data": {
      "text/html": [
       "<div>\n",
       "<style>\n",
       "    .dataframe thead tr:only-child th {\n",
       "        text-align: right;\n",
       "    }\n",
       "\n",
       "    .dataframe thead th {\n",
       "        text-align: left;\n",
       "    }\n",
       "\n",
       "    .dataframe tbody tr th {\n",
       "        vertical-align: top;\n",
       "    }\n",
       "</style>\n",
       "<table border=\"1\" class=\"dataframe\">\n",
       "  <thead>\n",
       "    <tr style=\"text-align: right;\">\n",
       "      <th></th>\n",
       "      <th>0</th>\n",
       "      <th>1</th>\n",
       "      <th>2</th>\n",
       "      <th>3</th>\n",
       "      <th>4</th>\n",
       "      <th>5</th>\n",
       "      <th>6</th>\n",
       "      <th>7</th>\n",
       "      <th>8</th>\n",
       "      <th>9</th>\n",
       "    </tr>\n",
       "  </thead>\n",
       "  <tbody>\n",
       "    <tr>\n",
       "      <th>0</th>\n",
       "      <td>around</td>\n",
       "      <td>aborted</td>\n",
       "      <td>beam</td>\n",
       "      <td>avoided</td>\n",
       "      <td>arrest</td>\n",
       "      <td>aluminium</td>\n",
       "      <td>averted</td>\n",
       "      <td>affected</td>\n",
       "      <td>arm</td>\n",
       "      <td>bed</td>\n",
       "    </tr>\n",
       "    <tr>\n",
       "      <th>1</th>\n",
       "      <td>asst</td>\n",
       "      <td>approx</td>\n",
       "      <td>available</td>\n",
       "      <td>batteries</td>\n",
       "      <td>assigned</td>\n",
       "      <td>barrier</td>\n",
       "      <td>battery</td>\n",
       "      <td>argon</td>\n",
       "      <td>ankle</td>\n",
       "      <td>bal</td>\n",
       "    </tr>\n",
       "    <tr>\n",
       "      <th>2</th>\n",
       "      <td>b</td>\n",
       "      <td>belt</td>\n",
       "      <td>ankle</td>\n",
       "      <td>abnormal</td>\n",
       "      <td>angle</td>\n",
       "      <td>applied</td>\n",
       "      <td>adding</td>\n",
       "      <td>approximately</td>\n",
       "      <td>anybody</td>\n",
       "      <td>able</td>\n",
       "    </tr>\n",
       "    <tr>\n",
       "      <th>3</th>\n",
       "      <td>awdesh</td>\n",
       "      <td>accumulation</td>\n",
       "      <td>avoid</td>\n",
       "      <td>al</td>\n",
       "      <td>apart</td>\n",
       "      <td>alam</td>\n",
       "      <td>admitted</td>\n",
       "      <td>attended</td>\n",
       "      <td>ashok</td>\n",
       "      <td>automatically</td>\n",
       "    </tr>\n",
       "    <tr>\n",
       "      <th>4</th>\n",
       "      <td>averted</td>\n",
       "      <td>abnormal</td>\n",
       "      <td>action</td>\n",
       "      <td>backup</td>\n",
       "      <td>aside</td>\n",
       "      <td>accumulated</td>\n",
       "      <td>bell</td>\n",
       "      <td>adjacent</td>\n",
       "      <td>bars</td>\n",
       "      <td>approximately</td>\n",
       "    </tr>\n",
       "    <tr>\n",
       "      <th>5</th>\n",
       "      <td>aid</td>\n",
       "      <td>bal</td>\n",
       "      <td>bath</td>\n",
       "      <td>besides</td>\n",
       "      <td>area</td>\n",
       "      <td>backwashing</td>\n",
       "      <td>auto</td>\n",
       "      <td>admitted</td>\n",
       "      <td>bay</td>\n",
       "      <td>areas</td>\n",
       "    </tr>\n",
       "    <tr>\n",
       "      <th>6</th>\n",
       "      <td>approximately</td>\n",
       "      <td>bars</td>\n",
       "      <td>august</td>\n",
       "      <td>bay</td>\n",
       "      <td>ashok</td>\n",
       "      <td>al</td>\n",
       "      <td>apart</td>\n",
       "      <td>added</td>\n",
       "      <td>affected</td>\n",
       "      <td>backside</td>\n",
       "    </tr>\n",
       "    <tr>\n",
       "      <th>7</th>\n",
       "      <td>become</td>\n",
       "      <td>bend</td>\n",
       "      <td>bell</td>\n",
       "      <td>base</td>\n",
       "      <td>bar</td>\n",
       "      <td>ankle</td>\n",
       "      <td>accurate</td>\n",
       "      <td>adding</td>\n",
       "      <td>backfire</td>\n",
       "      <td>became</td>\n",
       "    </tr>\n",
       "    <tr>\n",
       "      <th>8</th>\n",
       "      <td>abnormaly</td>\n",
       "      <td>adding</td>\n",
       "      <td>aspect</td>\n",
       "      <td>bath</td>\n",
       "      <td>assist</td>\n",
       "      <td>battery</td>\n",
       "      <td>although</td>\n",
       "      <td>also</td>\n",
       "      <td>avoided</td>\n",
       "      <td>accidentally</td>\n",
       "    </tr>\n",
       "    <tr>\n",
       "      <th>9</th>\n",
       "      <td>another</td>\n",
       "      <td>arrest</td>\n",
       "      <td>accidentally</td>\n",
       "      <td>bar</td>\n",
       "      <td>along</td>\n",
       "      <td>activated</td>\n",
       "      <td>base</td>\n",
       "      <td>activity</td>\n",
       "      <td>backup</td>\n",
       "      <td>accept</td>\n",
       "    </tr>\n",
       "    <tr>\n",
       "      <th>10</th>\n",
       "      <td>also</td>\n",
       "      <td>argon</td>\n",
       "      <td>able</td>\n",
       "      <td>agency</td>\n",
       "      <td>agency</td>\n",
       "      <td>besides</td>\n",
       "      <td>abnormal</td>\n",
       "      <td>beneath</td>\n",
       "      <td>automatically</td>\n",
       "      <td>air</td>\n",
       "    </tr>\n",
       "    <tr>\n",
       "      <th>11</th>\n",
       "      <td>battery</td>\n",
       "      <td>bar</td>\n",
       "      <td>activity</td>\n",
       "      <td>addition</td>\n",
       "      <td>backside</td>\n",
       "      <td>abnormaly</td>\n",
       "      <td>backfire</td>\n",
       "      <td>amiad</td>\n",
       "      <td>avoid</td>\n",
       "      <td>action</td>\n",
       "    </tr>\n",
       "    <tr>\n",
       "      <th>12</th>\n",
       "      <td>beneath</td>\n",
       "      <td>angle</td>\n",
       "      <td>angle</td>\n",
       "      <td>b</td>\n",
       "      <td>besides</td>\n",
       "      <td>avoid</td>\n",
       "      <td>alll</td>\n",
       "      <td>bend</td>\n",
       "      <td>bale</td>\n",
       "      <td>backup</td>\n",
       "    </tr>\n",
       "    <tr>\n",
       "      <th>13</th>\n",
       "      <td>accidentally</td>\n",
       "      <td>also</td>\n",
       "      <td>arm</td>\n",
       "      <td>appeared</td>\n",
       "      <td>beside</td>\n",
       "      <td>abnormalities</td>\n",
       "      <td>argon</td>\n",
       "      <td>auto</td>\n",
       "      <td>addition</td>\n",
       "      <td>badly</td>\n",
       "    </tr>\n",
       "    <tr>\n",
       "      <th>14</th>\n",
       "      <td>away</td>\n",
       "      <td>beam</td>\n",
       "      <td>amount</td>\n",
       "      <td>backwashing</td>\n",
       "      <td>backfire</td>\n",
       "      <td>back</td>\n",
       "      <td>around</td>\n",
       "      <td>away</td>\n",
       "      <td>beneath</td>\n",
       "      <td>besides</td>\n",
       "    </tr>\n",
       "    <tr>\n",
       "      <th>15</th>\n",
       "      <td>ankle</td>\n",
       "      <td>aisle</td>\n",
       "      <td>assist</td>\n",
       "      <td>air</td>\n",
       "      <td>battery</td>\n",
       "      <td>bags</td>\n",
       "      <td>abort</td>\n",
       "      <td>beam</td>\n",
       "      <td>aisle</td>\n",
       "      <td>available</td>\n",
       "    </tr>\n",
       "    <tr>\n",
       "      <th>16</th>\n",
       "      <td>aspect</td>\n",
       "      <td>appeared</td>\n",
       "      <td>around</td>\n",
       "      <td>approximately</td>\n",
       "      <td>automatically</td>\n",
       "      <td>asst</td>\n",
       "      <td>ankle</td>\n",
       "      <td>bath</td>\n",
       "      <td>become</td>\n",
       "      <td>alerted</td>\n",
       "    </tr>\n",
       "    <tr>\n",
       "      <th>17</th>\n",
       "      <td>backfire</td>\n",
       "      <td>applying</td>\n",
       "      <td>beside</td>\n",
       "      <td>applying</td>\n",
       "      <td>badly</td>\n",
       "      <td>beneath</td>\n",
       "      <td>amiad</td>\n",
       "      <td>auxilary</td>\n",
       "      <td>asked</td>\n",
       "      <td>aisle</td>\n",
       "    </tr>\n",
       "    <tr>\n",
       "      <th>18</th>\n",
       "      <td>al</td>\n",
       "      <td>bale</td>\n",
       "      <td>backside</td>\n",
       "      <td>abort</td>\n",
       "      <td>base</td>\n",
       "      <td>bars</td>\n",
       "      <td>accumulation</td>\n",
       "      <td>aisle</td>\n",
       "      <td>air</td>\n",
       "      <td>bend</td>\n",
       "    </tr>\n",
       "    <tr>\n",
       "      <th>19</th>\n",
       "      <td>barrier</td>\n",
       "      <td>another</td>\n",
       "      <td>asked</td>\n",
       "      <td>aid</td>\n",
       "      <td>awdesh</td>\n",
       "      <td>along</td>\n",
       "      <td>ashok</td>\n",
       "      <td>became</td>\n",
       "      <td>bag</td>\n",
       "      <td>anybody</td>\n",
       "    </tr>\n",
       "  </tbody>\n",
       "</table>\n",
       "</div>"
      ],
      "text/plain": [
       "                0             1             2              3              4  \\\n",
       "0          around       aborted          beam        avoided         arrest   \n",
       "1            asst        approx     available      batteries       assigned   \n",
       "2               b          belt         ankle       abnormal          angle   \n",
       "3          awdesh  accumulation         avoid             al          apart   \n",
       "4         averted      abnormal        action         backup          aside   \n",
       "5             aid           bal          bath        besides           area   \n",
       "6   approximately          bars        august            bay          ashok   \n",
       "7          become          bend          bell           base            bar   \n",
       "8       abnormaly        adding        aspect           bath         assist   \n",
       "9         another        arrest  accidentally            bar          along   \n",
       "10           also         argon          able         agency         agency   \n",
       "11        battery           bar      activity       addition       backside   \n",
       "12        beneath         angle         angle              b        besides   \n",
       "13   accidentally          also           arm       appeared         beside   \n",
       "14           away          beam        amount    backwashing       backfire   \n",
       "15          ankle         aisle        assist            air        battery   \n",
       "16         aspect      appeared        around  approximately  automatically   \n",
       "17       backfire      applying        beside       applying          badly   \n",
       "18             al          bale      backside          abort           base   \n",
       "19        barrier       another         asked            aid         awdesh   \n",
       "\n",
       "                5             6              7              8              9  \n",
       "0       aluminium       averted       affected            arm            bed  \n",
       "1         barrier       battery          argon          ankle            bal  \n",
       "2         applied        adding  approximately        anybody           able  \n",
       "3            alam      admitted       attended          ashok  automatically  \n",
       "4     accumulated          bell       adjacent           bars  approximately  \n",
       "5     backwashing          auto       admitted            bay          areas  \n",
       "6              al         apart          added       affected       backside  \n",
       "7           ankle      accurate         adding       backfire         became  \n",
       "8         battery      although           also        avoided   accidentally  \n",
       "9       activated          base       activity         backup         accept  \n",
       "10        besides      abnormal        beneath  automatically            air  \n",
       "11      abnormaly      backfire          amiad          avoid         action  \n",
       "12          avoid          alll           bend           bale         backup  \n",
       "13  abnormalities         argon           auto       addition          badly  \n",
       "14           back        around           away        beneath        besides  \n",
       "15           bags         abort           beam          aisle      available  \n",
       "16           asst         ankle           bath         become        alerted  \n",
       "17        beneath         amiad       auxilary          asked          aisle  \n",
       "18           bars  accumulation          aisle            air           bend  \n",
       "19          along         ashok         became            bag        anybody  "
      ]
     },
     "execution_count": 212,
     "metadata": {},
     "output_type": "execute_result"
    }
   ],
   "source": [
    "df_for_brief_d_kmeans"
   ]
  },
  {
   "cell_type": "code",
   "execution_count": 119,
   "metadata": {
    "collapsed": true
   },
   "outputs": [],
   "source": [
    "df_for_invest_kmeans = pd.DataFrame()\n",
    "for key, value in invest_kmeans.items():\n",
    "    df_for_invest_kmeans[key] = value"
   ]
  },
  {
   "cell_type": "code",
   "execution_count": 120,
   "metadata": {},
   "outputs": [
    {
     "data": {
      "text/html": [
       "<div>\n",
       "<style>\n",
       "    .dataframe thead tr:only-child th {\n",
       "        text-align: right;\n",
       "    }\n",
       "\n",
       "    .dataframe thead th {\n",
       "        text-align: left;\n",
       "    }\n",
       "\n",
       "    .dataframe tbody tr th {\n",
       "        vertical-align: top;\n",
       "    }\n",
       "</style>\n",
       "<table border=\"1\" class=\"dataframe\">\n",
       "  <thead>\n",
       "    <tr style=\"text-align: right;\">\n",
       "      <th></th>\n",
       "      <th>0</th>\n",
       "      <th>1</th>\n",
       "      <th>2</th>\n",
       "      <th>3</th>\n",
       "      <th>4</th>\n",
       "      <th>5</th>\n",
       "      <th>6</th>\n",
       "      <th>7</th>\n",
       "      <th>8</th>\n",
       "      <th>9</th>\n",
       "    </tr>\n",
       "  </thead>\n",
       "  <tbody>\n",
       "    <tr>\n",
       "      <th>0</th>\n",
       "      <td>assumed</td>\n",
       "      <td>barrier</td>\n",
       "      <td>activation</td>\n",
       "      <td>better</td>\n",
       "      <td>appropriate</td>\n",
       "      <td>actuated</td>\n",
       "      <td>blocking</td>\n",
       "      <td>assemble</td>\n",
       "      <td>also</td>\n",
       "      <td>arm</td>\n",
       "    </tr>\n",
       "    <tr>\n",
       "      <th>1</th>\n",
       "      <td>adequate</td>\n",
       "      <td>affected</td>\n",
       "      <td>backup</td>\n",
       "      <td>adjusted</td>\n",
       "      <td>april</td>\n",
       "      <td>b</td>\n",
       "      <td>advance</td>\n",
       "      <td>accepted</td>\n",
       "      <td>beyond</td>\n",
       "      <td>assurance</td>\n",
       "    </tr>\n",
       "    <tr>\n",
       "      <th>2</th>\n",
       "      <td>big</td>\n",
       "      <td>bolt</td>\n",
       "      <td>amount</td>\n",
       "      <td>blot</td>\n",
       "      <td>arrangement</td>\n",
       "      <td>addes</td>\n",
       "      <td>abnormal</td>\n",
       "      <td>agency</td>\n",
       "      <td>availability</td>\n",
       "      <td>attentive</td>\n",
       "    </tr>\n",
       "    <tr>\n",
       "      <th>3</th>\n",
       "      <td>bag</td>\n",
       "      <td>appropriate</td>\n",
       "      <td>bleaching</td>\n",
       "      <td>asc</td>\n",
       "      <td>big</td>\n",
       "      <td>apr</td>\n",
       "      <td>beyond</td>\n",
       "      <td>accumulated</td>\n",
       "      <td>amount</td>\n",
       "      <td>aluminium</td>\n",
       "    </tr>\n",
       "    <tr>\n",
       "      <th>4</th>\n",
       "      <td>attributed</td>\n",
       "      <td>blocking</td>\n",
       "      <td>badly</td>\n",
       "      <td>bleaching</td>\n",
       "      <td>although</td>\n",
       "      <td>addition</td>\n",
       "      <td>although</td>\n",
       "      <td>added</td>\n",
       "      <td>attentive</td>\n",
       "      <td>angle</td>\n",
       "    </tr>\n",
       "    <tr>\n",
       "      <th>5</th>\n",
       "      <td>board</td>\n",
       "      <td>badly</td>\n",
       "      <td>alumina</td>\n",
       "      <td>activity</td>\n",
       "      <td>alarms</td>\n",
       "      <td>badly</td>\n",
       "      <td>bar</td>\n",
       "      <td>adequately</td>\n",
       "      <td>attributed</td>\n",
       "      <td>april</td>\n",
       "    </tr>\n",
       "    <tr>\n",
       "      <th>6</th>\n",
       "      <td>accordingly</td>\n",
       "      <td>adequate</td>\n",
       "      <td>agency</td>\n",
       "      <td>assurance</td>\n",
       "      <td>absence</td>\n",
       "      <td>already</td>\n",
       "      <td>always</td>\n",
       "      <td>backlash</td>\n",
       "      <td>bleaching</td>\n",
       "      <td>auto</td>\n",
       "    </tr>\n",
       "    <tr>\n",
       "      <th>7</th>\n",
       "      <td>addition</td>\n",
       "      <td>additional</td>\n",
       "      <td>apply</td>\n",
       "      <td>also</td>\n",
       "      <td>baf</td>\n",
       "      <td>asc</td>\n",
       "      <td>analyzing</td>\n",
       "      <td>analyzing</td>\n",
       "      <td>angle</td>\n",
       "      <td>alley</td>\n",
       "    </tr>\n",
       "    <tr>\n",
       "      <th>8</th>\n",
       "      <td>adjusted</td>\n",
       "      <td>bar</td>\n",
       "      <td>blocking</td>\n",
       "      <td>blown</td>\n",
       "      <td>auto</td>\n",
       "      <td>alley</td>\n",
       "      <td>aging</td>\n",
       "      <td>alarm</td>\n",
       "      <td>absence</td>\n",
       "      <td>backsplash</td>\n",
       "    </tr>\n",
       "    <tr>\n",
       "      <th>9</th>\n",
       "      <td>automatically</td>\n",
       "      <td>accumulated</td>\n",
       "      <td>blot</td>\n",
       "      <td>accident</td>\n",
       "      <td>badly</td>\n",
       "      <td>arrested</td>\n",
       "      <td>available</td>\n",
       "      <td>abnormal</td>\n",
       "      <td>accmon</td>\n",
       "      <td>able</td>\n",
       "    </tr>\n",
       "    <tr>\n",
       "      <th>10</th>\n",
       "      <td>allignment</td>\n",
       "      <td>along</td>\n",
       "      <td>analysis</td>\n",
       "      <td>allignment</td>\n",
       "      <td>blowpipe</td>\n",
       "      <td>arrangement</td>\n",
       "      <td>actuated</td>\n",
       "      <td>activation</td>\n",
       "      <td>block</td>\n",
       "      <td>allignment</td>\n",
       "    </tr>\n",
       "    <tr>\n",
       "      <th>11</th>\n",
       "      <td>available</td>\n",
       "      <td>arrangement</td>\n",
       "      <td>adequate</td>\n",
       "      <td>backsplash</td>\n",
       "      <td>activity</td>\n",
       "      <td>analysis</td>\n",
       "      <td>bed</td>\n",
       "      <td>accumulation</td>\n",
       "      <td>assumed</td>\n",
       "      <td>bag</td>\n",
       "    </tr>\n",
       "    <tr>\n",
       "      <th>12</th>\n",
       "      <td>around</td>\n",
       "      <td>alignment</td>\n",
       "      <td>blast</td>\n",
       "      <td>accepted</td>\n",
       "      <td>accordingly</td>\n",
       "      <td>amount</td>\n",
       "      <td>blocked</td>\n",
       "      <td>although</td>\n",
       "      <td>board</td>\n",
       "      <td>avoid</td>\n",
       "    </tr>\n",
       "    <tr>\n",
       "      <th>13</th>\n",
       "      <td>accepted</td>\n",
       "      <td>blowpipe</td>\n",
       "      <td>bolts</td>\n",
       "      <td>blocked</td>\n",
       "      <td>arrest</td>\n",
       "      <td>accident</td>\n",
       "      <td>analyser</td>\n",
       "      <td>along</td>\n",
       "      <td>al</td>\n",
       "      <td>apply</td>\n",
       "    </tr>\n",
       "    <tr>\n",
       "      <th>14</th>\n",
       "      <td>area</td>\n",
       "      <td>already</td>\n",
       "      <td>blocked</td>\n",
       "      <td>auto</td>\n",
       "      <td>alley</td>\n",
       "      <td>attributed</td>\n",
       "      <td>away</td>\n",
       "      <td>blowpipe</td>\n",
       "      <td>backlash</td>\n",
       "      <td>barrier</td>\n",
       "    </tr>\n",
       "    <tr>\n",
       "      <th>15</th>\n",
       "      <td>al</td>\n",
       "      <td>adjusted</td>\n",
       "      <td>avoid</td>\n",
       "      <td>bed</td>\n",
       "      <td>accumulated</td>\n",
       "      <td>assemble</td>\n",
       "      <td>additional</td>\n",
       "      <td>always</td>\n",
       "      <td>alumina</td>\n",
       "      <td>accurate</td>\n",
       "    </tr>\n",
       "    <tr>\n",
       "      <th>16</th>\n",
       "      <td>absence</td>\n",
       "      <td>away</td>\n",
       "      <td>bags</td>\n",
       "      <td>attentive</td>\n",
       "      <td>barrication</td>\n",
       "      <td>able</td>\n",
       "      <td>apr</td>\n",
       "      <td>angle</td>\n",
       "      <td>already</td>\n",
       "      <td>back</td>\n",
       "    </tr>\n",
       "    <tr>\n",
       "      <th>17</th>\n",
       "      <td>availability</td>\n",
       "      <td>analyser</td>\n",
       "      <td>arm</td>\n",
       "      <td>additional</td>\n",
       "      <td>alumina</td>\n",
       "      <td>auto</td>\n",
       "      <td>april</td>\n",
       "      <td>action</td>\n",
       "      <td>barrication</td>\n",
       "      <td>arrest</td>\n",
       "    </tr>\n",
       "    <tr>\n",
       "      <th>18</th>\n",
       "      <td>blocked</td>\n",
       "      <td>board</td>\n",
       "      <td>actuated</td>\n",
       "      <td>barrier</td>\n",
       "      <td>adding</td>\n",
       "      <td>affected</td>\n",
       "      <td>block</td>\n",
       "      <td>blast</td>\n",
       "      <td>accident</td>\n",
       "      <td>addition</td>\n",
       "    </tr>\n",
       "    <tr>\n",
       "      <th>19</th>\n",
       "      <td>advance</td>\n",
       "      <td>application</td>\n",
       "      <td>back</td>\n",
       "      <td>baf</td>\n",
       "      <td>blocked</td>\n",
       "      <td>around</td>\n",
       "      <td>bags</td>\n",
       "      <td>better</td>\n",
       "      <td>aging</td>\n",
       "      <td>application</td>\n",
       "    </tr>\n",
       "  </tbody>\n",
       "</table>\n",
       "</div>"
      ],
      "text/plain": [
       "                0            1           2           3            4  \\\n",
       "0         assumed      barrier  activation      better  appropriate   \n",
       "1        adequate     affected      backup    adjusted        april   \n",
       "2             big         bolt      amount        blot  arrangement   \n",
       "3             bag  appropriate   bleaching         asc          big   \n",
       "4      attributed     blocking       badly   bleaching     although   \n",
       "5           board        badly     alumina    activity       alarms   \n",
       "6     accordingly     adequate      agency   assurance      absence   \n",
       "7        addition   additional       apply        also          baf   \n",
       "8        adjusted          bar    blocking       blown         auto   \n",
       "9   automatically  accumulated        blot    accident        badly   \n",
       "10     allignment        along    analysis  allignment     blowpipe   \n",
       "11      available  arrangement    adequate  backsplash     activity   \n",
       "12         around    alignment       blast    accepted  accordingly   \n",
       "13       accepted     blowpipe       bolts     blocked       arrest   \n",
       "14           area      already     blocked        auto        alley   \n",
       "15             al     adjusted       avoid         bed  accumulated   \n",
       "16        absence         away        bags   attentive  barrication   \n",
       "17   availability     analyser         arm  additional      alumina   \n",
       "18        blocked        board    actuated     barrier       adding   \n",
       "19        advance  application        back         baf      blocked   \n",
       "\n",
       "              5           6             7             8            9  \n",
       "0      actuated    blocking      assemble          also          arm  \n",
       "1             b     advance      accepted        beyond    assurance  \n",
       "2         addes    abnormal        agency  availability    attentive  \n",
       "3           apr      beyond   accumulated        amount    aluminium  \n",
       "4      addition    although         added     attentive        angle  \n",
       "5         badly         bar    adequately    attributed        april  \n",
       "6       already      always      backlash     bleaching         auto  \n",
       "7           asc   analyzing     analyzing         angle        alley  \n",
       "8         alley       aging         alarm       absence   backsplash  \n",
       "9      arrested   available      abnormal        accmon         able  \n",
       "10  arrangement    actuated    activation         block   allignment  \n",
       "11     analysis         bed  accumulation       assumed          bag  \n",
       "12       amount     blocked      although         board        avoid  \n",
       "13     accident    analyser         along            al        apply  \n",
       "14   attributed        away      blowpipe      backlash      barrier  \n",
       "15     assemble  additional        always       alumina     accurate  \n",
       "16         able         apr         angle       already         back  \n",
       "17         auto       april        action   barrication       arrest  \n",
       "18     affected       block         blast      accident     addition  \n",
       "19       around        bags        better         aging  application  "
      ]
     },
     "execution_count": 120,
     "metadata": {},
     "output_type": "execute_result"
    }
   ],
   "source": [
    "df_for_invest_kmeans"
   ]
  },
  {
   "cell_type": "code",
   "execution_count": 140,
   "metadata": {},
   "outputs": [
    {
     "data": {
      "text/html": [
       "<div>\n",
       "<style>\n",
       "    .dataframe thead tr:only-child th {\n",
       "        text-align: right;\n",
       "    }\n",
       "\n",
       "    .dataframe thead th {\n",
       "        text-align: left;\n",
       "    }\n",
       "\n",
       "    .dataframe tbody tr th {\n",
       "        vertical-align: top;\n",
       "    }\n",
       "</style>\n",
       "<table border=\"1\" class=\"dataframe\">\n",
       "  <thead>\n",
       "    <tr style=\"text-align: right;\">\n",
       "      <th></th>\n",
       "      <th>0</th>\n",
       "      <th>1</th>\n",
       "      <th>2</th>\n",
       "      <th>3</th>\n",
       "      <th>4</th>\n",
       "      <th>5</th>\n",
       "      <th>6</th>\n",
       "      <th>7</th>\n",
       "      <th>8</th>\n",
       "      <th>9</th>\n",
       "    </tr>\n",
       "  </thead>\n",
       "  <tbody>\n",
       "    <tr>\n",
       "      <th>0</th>\n",
       "      <td>\"hot\"</td>\n",
       "      <td>\"spillage\"</td>\n",
       "      <td>\"slag\"</td>\n",
       "      <td>\"hot\"</td>\n",
       "      <td>\"ladle\"</td>\n",
       "      <td>\"cast\"</td>\n",
       "      <td>\"spillage\"</td>\n",
       "      <td>\"tap\"</td>\n",
       "      <td>\"position\"</td>\n",
       "      <td>\"ladle\"</td>\n",
       "    </tr>\n",
       "    <tr>\n",
       "      <th>1</th>\n",
       "      <td>\"pit\"</td>\n",
       "      <td>\"ladle\"</td>\n",
       "      <td>\"ladle\"</td>\n",
       "      <td>\"slag\"</td>\n",
       "      <td>\"fire\"</td>\n",
       "      <td>\"got\"</td>\n",
       "      <td>\"due\"</td>\n",
       "      <td>\"hole\"</td>\n",
       "      <td>\"ladle\"</td>\n",
       "      <td>\"steel\"</td>\n",
       "    </tr>\n",
       "    <tr>\n",
       "      <th>2</th>\n",
       "      <td>\"torpedo\"</td>\n",
       "      <td>\"hot\"</td>\n",
       "      <td>\"hot\"</td>\n",
       "      <td>\"track\"</td>\n",
       "      <td>\"casting\"</td>\n",
       "      <td>\"hot\"</td>\n",
       "      <td>\"got\"</td>\n",
       "      <td>\"ladle\"</td>\n",
       "      <td>\"due\"</td>\n",
       "      <td>\"vessel\"</td>\n",
       "    </tr>\n",
       "    <tr>\n",
       "      <th>3</th>\n",
       "      <td>\"ladle\"</td>\n",
       "      <td>\"car\"</td>\n",
       "      <td>\"charging\"</td>\n",
       "      <td>\"cast\"</td>\n",
       "      <td>\"immediately\"</td>\n",
       "      <td>\"started\"</td>\n",
       "      <td>\"ladle\"</td>\n",
       "      <td>\"due\"</td>\n",
       "      <td>\"damaged\"</td>\n",
       "      <td>\"car\"</td>\n",
       "    </tr>\n",
       "    <tr>\n",
       "      <th>4</th>\n",
       "      <td>\"casting\"</td>\n",
       "      <td>\"injury\"</td>\n",
       "      <td>\"car\"</td>\n",
       "      <td>\"line\"</td>\n",
       "      <td>\"turret\"</td>\n",
       "      <td>\"closed\"</td>\n",
       "      <td>\"inside\"</td>\n",
       "      <td>\"cast\"</td>\n",
       "      <td>\"around\"</td>\n",
       "      <td>\"fell\"</td>\n",
       "    </tr>\n",
       "    <tr>\n",
       "      <th>5</th>\n",
       "      <td>\"steel\"</td>\n",
       "      <td>\"pit\"</td>\n",
       "      <td>\"steel\"</td>\n",
       "      <td>\"vessel\"</td>\n",
       "      <td>\"slag\"</td>\n",
       "      <td>\"stopped\"</td>\n",
       "      <td>\"damaged\"</td>\n",
       "      <td>\"opened\"</td>\n",
       "      <td>\"crane\"</td>\n",
       "      <td>\"crane\"</td>\n",
       "    </tr>\n",
       "    <tr>\n",
       "      <th>6</th>\n",
       "      <td>\"placed\"</td>\n",
       "      <td>\"due\"</td>\n",
       "      <td>\"tapping\"</td>\n",
       "      <td>\"trough\"</td>\n",
       "      <td>\"around\"</td>\n",
       "      <td>\"immediately\"</td>\n",
       "      <td>\"operator\"</td>\n",
       "      <td>\"hot\"</td>\n",
       "      <td>\"turret\"</td>\n",
       "      <td>\"slag\"</td>\n",
       "    </tr>\n",
       "    <tr>\n",
       "      <th>7</th>\n",
       "      <td>\"car\"</td>\n",
       "      <td>\"operator\"</td>\n",
       "      <td>\"got\"</td>\n",
       "      <td>\"closed\"</td>\n",
       "      <td>\"emergency\"</td>\n",
       "      <td>\"casting\"</td>\n",
       "      <td>\"near\"</td>\n",
       "      <td>\"towards\"</td>\n",
       "      <td>\"operator\"</td>\n",
       "      <td>\"tapping\"</td>\n",
       "    </tr>\n",
       "    <tr>\n",
       "      <th>8</th>\n",
       "      <td>\"track\"</td>\n",
       "      <td>\"got\"</td>\n",
       "      <td>\"vessel\"</td>\n",
       "      <td>\"house\"</td>\n",
       "      <td>\"caster\"</td>\n",
       "      <td>\"runner\"</td>\n",
       "      <td>\"time\"</td>\n",
       "      <td>\"torpedo\"</td>\n",
       "      <td>\"emergency\"</td>\n",
       "      <td>\"damage\"</td>\n",
       "    </tr>\n",
       "    <tr>\n",
       "      <th>9</th>\n",
       "      <td>\"tilting\"</td>\n",
       "      <td>\"crane\"</td>\n",
       "      <td>\"runner\"</td>\n",
       "      <td>\"charging\"</td>\n",
       "      <td>\"area\"</td>\n",
       "      <td>\"side\"</td>\n",
       "      <td>\"emergency\"</td>\n",
       "      <td>\"area\"</td>\n",
       "      <td>\"slide\"</td>\n",
       "      <td>\"gate\"</td>\n",
       "    </tr>\n",
       "  </tbody>\n",
       "</table>\n",
       "</div>"
      ],
      "text/plain": [
       "            0            1            2           3               4  \\\n",
       "0      \"hot\"   \"spillage\"       \"slag\"       \"hot\"         \"ladle\"    \n",
       "1      \"pit\"      \"ladle\"      \"ladle\"      \"slag\"          \"fire\"    \n",
       "2  \"torpedo\"        \"hot\"        \"hot\"     \"track\"       \"casting\"    \n",
       "3    \"ladle\"        \"car\"   \"charging\"      \"cast\"   \"immediately\"    \n",
       "4  \"casting\"     \"injury\"        \"car\"      \"line\"        \"turret\"    \n",
       "5    \"steel\"        \"pit\"      \"steel\"    \"vessel\"          \"slag\"    \n",
       "6   \"placed\"        \"due\"    \"tapping\"    \"trough\"        \"around\"    \n",
       "7      \"car\"   \"operator\"        \"got\"    \"closed\"     \"emergency\"    \n",
       "8    \"track\"        \"got\"     \"vessel\"     \"house\"        \"caster\"    \n",
       "9   \"tilting\"      \"crane\"     \"runner\"  \"charging\"          \"area\"   \n",
       "\n",
       "                5            6           7             8           9  \n",
       "0         \"cast\"   \"spillage\"       \"tap\"    \"position\"     \"ladle\"   \n",
       "1          \"got\"        \"due\"      \"hole\"       \"ladle\"     \"steel\"   \n",
       "2          \"hot\"        \"got\"     \"ladle\"         \"due\"    \"vessel\"   \n",
       "3      \"started\"      \"ladle\"       \"due\"     \"damaged\"       \"car\"   \n",
       "4       \"closed\"     \"inside\"      \"cast\"      \"around\"      \"fell\"   \n",
       "5      \"stopped\"    \"damaged\"    \"opened\"       \"crane\"     \"crane\"   \n",
       "6  \"immediately\"   \"operator\"       \"hot\"      \"turret\"      \"slag\"   \n",
       "7      \"casting\"       \"near\"   \"towards\"    \"operator\"   \"tapping\"   \n",
       "8       \"runner\"       \"time\"   \"torpedo\"   \"emergency\"    \"damage\"   \n",
       "9          \"side\"  \"emergency\"      \"area\"       \"slide\"      \"gate\"  "
      ]
     },
     "execution_count": 140,
     "metadata": {},
     "output_type": "execute_result"
    }
   ],
   "source": [
    "f = []\n",
    "for key, value in brief_d_lda.items():\n",
    "    f.append(value.split('+'))\n",
    "c= []\n",
    "for i in f:\n",
    "    a = []\n",
    "    for j in i:\n",
    "        a.append(j.split('*')[1])\n",
    "    c.append(a)\n",
    "df_for_brief_d_lda = pd.DataFrame()\n",
    "df_for_brief_d_lda = pd.DataFrame()\n",
    "for i in range(10):\n",
    "    df_for_brief_d_lda[i] = c[i]\n",
    "df_for_brief_d_lda"
   ]
  },
  {
   "cell_type": "code",
   "execution_count": 191,
   "metadata": {},
   "outputs": [
    {
     "data": {
      "text/html": [
       "<div>\n",
       "<style>\n",
       "    .dataframe thead tr:only-child th {\n",
       "        text-align: right;\n",
       "    }\n",
       "\n",
       "    .dataframe thead th {\n",
       "        text-align: left;\n",
       "    }\n",
       "\n",
       "    .dataframe tbody tr th {\n",
       "        vertical-align: top;\n",
       "    }\n",
       "</style>\n",
       "<table border=\"1\" class=\"dataframe\">\n",
       "  <thead>\n",
       "    <tr style=\"text-align: right;\">\n",
       "      <th></th>\n",
       "      <th>0</th>\n",
       "      <th>1</th>\n",
       "      <th>2</th>\n",
       "      <th>3</th>\n",
       "      <th>4</th>\n",
       "      <th>5</th>\n",
       "      <th>6</th>\n",
       "      <th>7</th>\n",
       "      <th>8</th>\n",
       "      <th>9</th>\n",
       "    </tr>\n",
       "  </thead>\n",
       "  <tbody>\n",
       "    <tr>\n",
       "      <th>0</th>\n",
       "      <td>\"casting\"</td>\n",
       "      <td>\"closed\"</td>\n",
       "      <td>\"charging\"</td>\n",
       "      <td>\"line\"</td>\n",
       "      <td>\"water\"</td>\n",
       "      <td>\"emergency\"</td>\n",
       "      <td>\"steel\"</td>\n",
       "      <td>\"vessel\"</td>\n",
       "      <td>\"moved\"</td>\n",
       "      <td>\"slag\"</td>\n",
       "    </tr>\n",
       "    <tr>\n",
       "      <th>1</th>\n",
       "      <td>\"placed\"</td>\n",
       "      <td>\"trough\"</td>\n",
       "      <td>\"crane\"</td>\n",
       "      <td>\"house\"</td>\n",
       "      <td>\"inside\"</td>\n",
       "      <td>\"immediately\"</td>\n",
       "      <td>\"ladle\"</td>\n",
       "      <td>\"tundish\"</td>\n",
       "      <td>\"slide\"</td>\n",
       "      <td>\"happened\"</td>\n",
       "    </tr>\n",
       "    <tr>\n",
       "      <th>2</th>\n",
       "      <td>\"started\"</td>\n",
       "      <td>\"due\"</td>\n",
       "      <td>\"vessel\"</td>\n",
       "      <td>\"slag\"</td>\n",
       "      <td>\"damage\"</td>\n",
       "      <td>\"heat\"</td>\n",
       "      <td>\"bay\"</td>\n",
       "      <td>\"position\"</td>\n",
       "      <td>\"gate\"</td>\n",
       "      <td>\"pit\"</td>\n",
       "    </tr>\n",
       "    <tr>\n",
       "      <th>3</th>\n",
       "      <td>\"pot\"</td>\n",
       "      <td>\"slag\"</td>\n",
       "      <td>\"started\"</td>\n",
       "      <td>\"track\"</td>\n",
       "      <td>\"could\"</td>\n",
       "      <td>\"got\"</td>\n",
       "      <td>\"car\"</td>\n",
       "      <td>\"caster\"</td>\n",
       "      <td>\"turret\"</td>\n",
       "      <td>\"area\"</td>\n",
       "    </tr>\n",
       "    <tr>\n",
       "      <th>4</th>\n",
       "      <td>\"track\"</td>\n",
       "      <td>\"runner\"</td>\n",
       "      <td>\"hot\"</td>\n",
       "      <td>\"pot\"</td>\n",
       "      <td>\"operator\"</td>\n",
       "      <td>\"found\"</td>\n",
       "      <td>\"crane\"</td>\n",
       "      <td>\"damage\"</td>\n",
       "      <td>\"casting\"</td>\n",
       "      <td>\"fire\"</td>\n",
       "    </tr>\n",
       "    <tr>\n",
       "      <th>5</th>\n",
       "      <td>\"line\"</td>\n",
       "      <td>\"spillage\"</td>\n",
       "      <td>\"around\"</td>\n",
       "      <td>\"hot\"</td>\n",
       "      <td>\"slag\"</td>\n",
       "      <td>\"tapping\"</td>\n",
       "      <td>\"torpedo\"</td>\n",
       "      <td>\"steel\"</td>\n",
       "      <td>\"towards\"</td>\n",
       "      <td>\"around\"</td>\n",
       "    </tr>\n",
       "    <tr>\n",
       "      <th>6</th>\n",
       "      <td>\"stopped\"</td>\n",
       "      <td>\"hot\"</td>\n",
       "      <td>\"torpedo\"</td>\n",
       "      <td>\"cast\"</td>\n",
       "      <td>\"leakage\"</td>\n",
       "      <td>\"tilting\"</td>\n",
       "      <td>\"occurred\"</td>\n",
       "      <td>\"liquid\"</td>\n",
       "      <td>\"emergency\"</td>\n",
       "      <td>\"hot\"</td>\n",
       "    </tr>\n",
       "    <tr>\n",
       "      <th>7</th>\n",
       "      <td>\"taken\"</td>\n",
       "      <td>\"tilting\"</td>\n",
       "      <td>\"flow\"</td>\n",
       "      <td>\"spillage\"</td>\n",
       "      <td>\"crane\"</td>\n",
       "      <td>\"tundish\"</td>\n",
       "      <td>\"hot\"</td>\n",
       "      <td>\"pit\"</td>\n",
       "      <td>\"ladle\"</td>\n",
       "      <td>\"tap\"</td>\n",
       "    </tr>\n",
       "    <tr>\n",
       "      <th>8</th>\n",
       "      <td>\"side\"</td>\n",
       "      <td>\"cast\"</td>\n",
       "      <td>\"opened\"</td>\n",
       "      <td>\"got\"</td>\n",
       "      <td>\"runner\"</td>\n",
       "      <td>\"liquid\"</td>\n",
       "      <td>\"pit\"</td>\n",
       "      <td>\"car\"</td>\n",
       "      <td>\"operator\"</td>\n",
       "      <td>\"heat\"</td>\n",
       "    </tr>\n",
       "    <tr>\n",
       "      <th>9</th>\n",
       "      <td>\"pit\"</td>\n",
       "      <td>\"inside\"</td>\n",
       "      <td>\"tap\"</td>\n",
       "      <td>\"hole\"</td>\n",
       "      <td>\"fell\"</td>\n",
       "      <td>\"closed\"</td>\n",
       "      <td>\"charging\"</td>\n",
       "      <td>\"around\"</td>\n",
       "      <td>\"damaged\"</td>\n",
       "      <td>\"ladle\"</td>\n",
       "    </tr>\n",
       "  </tbody>\n",
       "</table>\n",
       "</div>"
      ],
      "text/plain": [
       "            0            1            2            3            4  \\\n",
       "0  \"casting\"     \"closed\"   \"charging\"       \"line\"      \"water\"    \n",
       "1   \"placed\"     \"trough\"      \"crane\"      \"house\"     \"inside\"    \n",
       "2  \"started\"        \"due\"     \"vessel\"       \"slag\"     \"damage\"    \n",
       "3      \"pot\"       \"slag\"    \"started\"      \"track\"      \"could\"    \n",
       "4    \"track\"     \"runner\"        \"hot\"        \"pot\"   \"operator\"    \n",
       "5     \"line\"   \"spillage\"     \"around\"        \"hot\"       \"slag\"    \n",
       "6  \"stopped\"        \"hot\"    \"torpedo\"       \"cast\"    \"leakage\"    \n",
       "7    \"taken\"    \"tilting\"       \"flow\"   \"spillage\"      \"crane\"    \n",
       "8     \"side\"       \"cast\"     \"opened\"        \"got\"     \"runner\"    \n",
       "9       \"pit\"     \"inside\"        \"tap\"       \"hole\"       \"fell\"   \n",
       "\n",
       "                5            6            7             8            9  \n",
       "0    \"emergency\"      \"steel\"     \"vessel\"       \"moved\"       \"slag\"   \n",
       "1  \"immediately\"      \"ladle\"    \"tundish\"       \"slide\"   \"happened\"   \n",
       "2         \"heat\"        \"bay\"   \"position\"        \"gate\"        \"pit\"   \n",
       "3          \"got\"        \"car\"     \"caster\"      \"turret\"       \"area\"   \n",
       "4        \"found\"      \"crane\"     \"damage\"     \"casting\"       \"fire\"   \n",
       "5      \"tapping\"    \"torpedo\"      \"steel\"     \"towards\"     \"around\"   \n",
       "6      \"tilting\"   \"occurred\"     \"liquid\"   \"emergency\"        \"hot\"   \n",
       "7      \"tundish\"        \"hot\"        \"pit\"       \"ladle\"        \"tap\"   \n",
       "8       \"liquid\"        \"pit\"        \"car\"    \"operator\"       \"heat\"   \n",
       "9        \"closed\"   \"charging\"     \"around\"     \"damaged\"      \"ladle\"  "
      ]
     },
     "execution_count": 191,
     "metadata": {},
     "output_type": "execute_result"
    }
   ],
   "source": [
    "f = []\n",
    "for key, value in brief_d_lda_tfidf.items():\n",
    "    f.append(value.split('+'))\n",
    "c= []\n",
    "for i in f:\n",
    "    a = []\n",
    "    for j in i:\n",
    "        a.append(j.split('*')[1])\n",
    "    c.append(a)\n",
    "df_for_brief_d_lda_tfidf = pd.DataFrame()\n",
    "for i in range(10):\n",
    "    df_for_brief_d_lda_tfidf[i] = c[i]\n",
    "df_for_brief_d_lda_tfidf"
   ]
  },
  {
   "cell_type": "code",
   "execution_count": 192,
   "metadata": {},
   "outputs": [
    {
     "data": {
      "text/html": [
       "<div>\n",
       "<style>\n",
       "    .dataframe thead tr:only-child th {\n",
       "        text-align: right;\n",
       "    }\n",
       "\n",
       "    .dataframe thead th {\n",
       "        text-align: left;\n",
       "    }\n",
       "\n",
       "    .dataframe tbody tr th {\n",
       "        vertical-align: top;\n",
       "    }\n",
       "</style>\n",
       "<table border=\"1\" class=\"dataframe\">\n",
       "  <thead>\n",
       "    <tr style=\"text-align: right;\">\n",
       "      <th></th>\n",
       "      <th>0</th>\n",
       "      <th>1</th>\n",
       "      <th>2</th>\n",
       "      <th>3</th>\n",
       "      <th>4</th>\n",
       "      <th>5</th>\n",
       "      <th>6</th>\n",
       "      <th>7</th>\n",
       "      <th>8</th>\n",
       "      <th>9</th>\n",
       "    </tr>\n",
       "  </thead>\n",
       "  <tbody>\n",
       "    <tr>\n",
       "      <th>0</th>\n",
       "      <td>\"metal\"</td>\n",
       "      <td>\"due\"</td>\n",
       "      <td>\"slag\"</td>\n",
       "      <td>\"operator\"</td>\n",
       "      <td>\"water\"</td>\n",
       "      <td>\"metal\"</td>\n",
       "      <td>\"slag\"</td>\n",
       "      <td>\"slag\"</td>\n",
       "      <td>\"metal\"</td>\n",
       "      <td>\"ladle\"</td>\n",
       "    </tr>\n",
       "    <tr>\n",
       "      <th>1</th>\n",
       "      <td>\"due\"</td>\n",
       "      <td>\"metal\"</td>\n",
       "      <td>\"metal\"</td>\n",
       "      <td>\"metal\"</td>\n",
       "      <td>\"slag\"</td>\n",
       "      <td>\"due\"</td>\n",
       "      <td>\"operator\"</td>\n",
       "      <td>\"metal\"</td>\n",
       "      <td>\"ladle\"</td>\n",
       "      <td>\"metal\"</td>\n",
       "    </tr>\n",
       "    <tr>\n",
       "      <th>2</th>\n",
       "      <td>\"slag\"</td>\n",
       "      <td>\"operator\"</td>\n",
       "      <td>\"operator\"</td>\n",
       "      <td>\"due\"</td>\n",
       "      <td>\"due\"</td>\n",
       "      <td>\"equipment\"</td>\n",
       "      <td>\"metal\"</td>\n",
       "      <td>\"due\"</td>\n",
       "      <td>\"operator\"</td>\n",
       "      <td>\"slag\"</td>\n",
       "    </tr>\n",
       "    <tr>\n",
       "      <th>3</th>\n",
       "      <td>\"ladle\"</td>\n",
       "      <td>\"water\"</td>\n",
       "      <td>\"ladle\"</td>\n",
       "      <td>\"ladle\"</td>\n",
       "      <td>\"metal\"</td>\n",
       "      <td>\"ladle\"</td>\n",
       "      <td>\"ladle\"</td>\n",
       "      <td>\"ladle\"</td>\n",
       "      <td>\"due\"</td>\n",
       "      <td>\"due\"</td>\n",
       "    </tr>\n",
       "    <tr>\n",
       "      <th>4</th>\n",
       "      <td>\"operator\"</td>\n",
       "      <td>\"ladle\"</td>\n",
       "      <td>\"due\"</td>\n",
       "      <td>\"slag\"</td>\n",
       "      <td>\"maintenance\"</td>\n",
       "      <td>\"slag\"</td>\n",
       "      <td>\"sop\"</td>\n",
       "      <td>\"water\"</td>\n",
       "      <td>\"slag\"</td>\n",
       "      <td>\"operator\"</td>\n",
       "    </tr>\n",
       "    <tr>\n",
       "      <th>5</th>\n",
       "      <td>\"water\"</td>\n",
       "      <td>\"equipment\"</td>\n",
       "      <td>\"water\"</td>\n",
       "      <td>\"water\"</td>\n",
       "      <td>\"ladle\"</td>\n",
       "      <td>\"operator\"</td>\n",
       "      <td>\"equipment\"</td>\n",
       "      <td>\"work\"</td>\n",
       "      <td>\"work\"</td>\n",
       "      <td>\"sop\"</td>\n",
       "    </tr>\n",
       "    <tr>\n",
       "      <th>6</th>\n",
       "      <td>\"equipment\"</td>\n",
       "      <td>\"slag\"</td>\n",
       "      <td>\"equipment\"</td>\n",
       "      <td>\"equipment\"</td>\n",
       "      <td>\"operator\"</td>\n",
       "      <td>\"water\"</td>\n",
       "      <td>\"work\"</td>\n",
       "      <td>\"operator\"</td>\n",
       "      <td>\"water\"</td>\n",
       "      <td>\"equipment\"</td>\n",
       "    </tr>\n",
       "    <tr>\n",
       "      <th>7</th>\n",
       "      <td>\"work\"</td>\n",
       "      <td>\"work\"</td>\n",
       "      <td>\"work\"</td>\n",
       "      <td>\"work\"</td>\n",
       "      <td>\"sop\"</td>\n",
       "      <td>\"sop\"</td>\n",
       "      <td>\"due\"</td>\n",
       "      <td>\"maintenance\"</td>\n",
       "      <td>\"equipment\"</td>\n",
       "      <td>\"water\"</td>\n",
       "    </tr>\n",
       "    <tr>\n",
       "      <th>8</th>\n",
       "      <td>\"sop\"</td>\n",
       "      <td>\"sop\"</td>\n",
       "      <td>\"sop\"</td>\n",
       "      <td>\"sop\"</td>\n",
       "      <td>\"equipment\"</td>\n",
       "      <td>\"work\"</td>\n",
       "      <td>\"water\"</td>\n",
       "      <td>\"sop\"</td>\n",
       "      <td>\"sop\"</td>\n",
       "      <td>\"work\"</td>\n",
       "    </tr>\n",
       "    <tr>\n",
       "      <th>9</th>\n",
       "      <td>\"maintenance\"</td>\n",
       "      <td>\"maintenance\"</td>\n",
       "      <td>\"maintenance\"</td>\n",
       "      <td>\"maintenance\"</td>\n",
       "      <td>\"work\"</td>\n",
       "      <td>\"maintenance\"</td>\n",
       "      <td>\"maintenance\"</td>\n",
       "      <td>\"equipment\"</td>\n",
       "      <td>\"maintenance\"</td>\n",
       "      <td>\"maintenance\"</td>\n",
       "    </tr>\n",
       "  </tbody>\n",
       "</table>\n",
       "</div>"
      ],
      "text/plain": [
       "               0              1              2              3               4  \\\n",
       "0       \"metal\"          \"due\"         \"slag\"     \"operator\"         \"water\"    \n",
       "1         \"due\"        \"metal\"        \"metal\"        \"metal\"          \"slag\"    \n",
       "2        \"slag\"     \"operator\"     \"operator\"          \"due\"           \"due\"    \n",
       "3       \"ladle\"        \"water\"        \"ladle\"        \"ladle\"         \"metal\"    \n",
       "4    \"operator\"        \"ladle\"          \"due\"         \"slag\"   \"maintenance\"    \n",
       "5       \"water\"    \"equipment\"        \"water\"        \"water\"         \"ladle\"    \n",
       "6   \"equipment\"         \"slag\"    \"equipment\"    \"equipment\"      \"operator\"    \n",
       "7        \"work\"         \"work\"         \"work\"         \"work\"           \"sop\"    \n",
       "8         \"sop\"          \"sop\"          \"sop\"          \"sop\"     \"equipment\"    \n",
       "9  \"maintenance\"  \"maintenance\"  \"maintenance\"  \"maintenance\"          \"work\"   \n",
       "\n",
       "               5              6               7              8              9  \n",
       "0       \"metal\"         \"slag\"          \"slag\"        \"metal\"        \"ladle\"   \n",
       "1         \"due\"     \"operator\"         \"metal\"        \"ladle\"        \"metal\"   \n",
       "2   \"equipment\"        \"metal\"           \"due\"     \"operator\"         \"slag\"   \n",
       "3       \"ladle\"        \"ladle\"         \"ladle\"          \"due\"          \"due\"   \n",
       "4        \"slag\"          \"sop\"         \"water\"         \"slag\"     \"operator\"   \n",
       "5    \"operator\"    \"equipment\"          \"work\"         \"work\"          \"sop\"   \n",
       "6       \"water\"         \"work\"      \"operator\"        \"water\"    \"equipment\"   \n",
       "7         \"sop\"          \"due\"   \"maintenance\"    \"equipment\"        \"water\"   \n",
       "8        \"work\"        \"water\"           \"sop\"          \"sop\"         \"work\"   \n",
       "9  \"maintenance\"  \"maintenance\"     \"equipment\"  \"maintenance\"  \"maintenance\"  "
      ]
     },
     "execution_count": 192,
     "metadata": {},
     "output_type": "execute_result"
    }
   ],
   "source": [
    "f = []\n",
    "for key, value in invest_lda.items():\n",
    "    f.append(value.split('+'))\n",
    "c= []\n",
    "for i in f:\n",
    "    a = []\n",
    "    for j in i:\n",
    "        a.append(j.split('*')[1])\n",
    "    c.append(a)\n",
    "df_for_invest_lda = pd.DataFrame()\n",
    "for i in range(10):\n",
    "    df_for_invest_lda[i] = c[i]\n",
    "df_for_invest_lda"
   ]
  },
  {
   "cell_type": "code",
   "execution_count": 193,
   "metadata": {},
   "outputs": [
    {
     "data": {
      "text/html": [
       "<div>\n",
       "<style>\n",
       "    .dataframe thead tr:only-child th {\n",
       "        text-align: right;\n",
       "    }\n",
       "\n",
       "    .dataframe thead th {\n",
       "        text-align: left;\n",
       "    }\n",
       "\n",
       "    .dataframe tbody tr th {\n",
       "        vertical-align: top;\n",
       "    }\n",
       "</style>\n",
       "<table border=\"1\" class=\"dataframe\">\n",
       "  <thead>\n",
       "    <tr style=\"text-align: right;\">\n",
       "      <th></th>\n",
       "      <th>0</th>\n",
       "      <th>1</th>\n",
       "      <th>2</th>\n",
       "      <th>3</th>\n",
       "      <th>4</th>\n",
       "      <th>5</th>\n",
       "      <th>6</th>\n",
       "      <th>7</th>\n",
       "      <th>8</th>\n",
       "      <th>9</th>\n",
       "    </tr>\n",
       "  </thead>\n",
       "  <tbody>\n",
       "    <tr>\n",
       "      <th>0</th>\n",
       "      <td>\"due\"</td>\n",
       "      <td>\"operator\"</td>\n",
       "      <td>\"water\"</td>\n",
       "      <td>\"ladle\"</td>\n",
       "      <td>\"metal\"</td>\n",
       "      <td>\"metal\"</td>\n",
       "      <td>\"equipment\"</td>\n",
       "      <td>\"ladle\"</td>\n",
       "      <td>\"slag\"</td>\n",
       "      <td>\"ladle\"</td>\n",
       "    </tr>\n",
       "    <tr>\n",
       "      <th>1</th>\n",
       "      <td>\"metal\"</td>\n",
       "      <td>\"slag\"</td>\n",
       "      <td>\"slag\"</td>\n",
       "      <td>\"metal\"</td>\n",
       "      <td>\"due\"</td>\n",
       "      <td>\"ladle\"</td>\n",
       "      <td>\"ladle\"</td>\n",
       "      <td>\"operator\"</td>\n",
       "      <td>\"metal\"</td>\n",
       "      <td>\"metal\"</td>\n",
       "    </tr>\n",
       "    <tr>\n",
       "      <th>2</th>\n",
       "      <td>\"slag\"</td>\n",
       "      <td>\"due\"</td>\n",
       "      <td>\"sop\"</td>\n",
       "      <td>\"water\"</td>\n",
       "      <td>\"slag\"</td>\n",
       "      <td>\"slag\"</td>\n",
       "      <td>\"slag\"</td>\n",
       "      <td>\"due\"</td>\n",
       "      <td>\"ladle\"</td>\n",
       "      <td>\"slag\"</td>\n",
       "    </tr>\n",
       "    <tr>\n",
       "      <th>3</th>\n",
       "      <td>\"ladle\"</td>\n",
       "      <td>\"water\"</td>\n",
       "      <td>\"metal\"</td>\n",
       "      <td>\"operator\"</td>\n",
       "      <td>\"ladle\"</td>\n",
       "      <td>\"due\"</td>\n",
       "      <td>\"metal\"</td>\n",
       "      <td>\"metal\"</td>\n",
       "      <td>\"operator\"</td>\n",
       "      <td>\"operator\"</td>\n",
       "    </tr>\n",
       "    <tr>\n",
       "      <th>4</th>\n",
       "      <td>\"work\"</td>\n",
       "      <td>\"metal\"</td>\n",
       "      <td>\"ladle\"</td>\n",
       "      <td>\"slag\"</td>\n",
       "      <td>\"operator\"</td>\n",
       "      <td>\"operator\"</td>\n",
       "      <td>\"due\"</td>\n",
       "      <td>\"slag\"</td>\n",
       "      <td>\"due\"</td>\n",
       "      <td>\"due\"</td>\n",
       "    </tr>\n",
       "    <tr>\n",
       "      <th>5</th>\n",
       "      <td>\"operator\"</td>\n",
       "      <td>\"ladle\"</td>\n",
       "      <td>\"operator\"</td>\n",
       "      <td>\"due\"</td>\n",
       "      <td>\"water\"</td>\n",
       "      <td>\"water\"</td>\n",
       "      <td>\"operator\"</td>\n",
       "      <td>\"equipment\"</td>\n",
       "      <td>\"water\"</td>\n",
       "      <td>\"water\"</td>\n",
       "    </tr>\n",
       "    <tr>\n",
       "      <th>6</th>\n",
       "      <td>\"maintenance\"</td>\n",
       "      <td>\"work\"</td>\n",
       "      <td>\"work\"</td>\n",
       "      <td>\"work\"</td>\n",
       "      <td>\"equipment\"</td>\n",
       "      <td>\"equipment\"</td>\n",
       "      <td>\"water\"</td>\n",
       "      <td>\"work\"</td>\n",
       "      <td>\"equipment\"</td>\n",
       "      <td>\"equipment\"</td>\n",
       "    </tr>\n",
       "    <tr>\n",
       "      <th>7</th>\n",
       "      <td>\"water\"</td>\n",
       "      <td>\"equipment\"</td>\n",
       "      <td>\"due\"</td>\n",
       "      <td>\"equipment\"</td>\n",
       "      <td>\"work\"</td>\n",
       "      <td>\"work\"</td>\n",
       "      <td>\"sop\"</td>\n",
       "      <td>\"maintenance\"</td>\n",
       "      <td>\"work\"</td>\n",
       "      <td>\"work\"</td>\n",
       "    </tr>\n",
       "    <tr>\n",
       "      <th>8</th>\n",
       "      <td>\"equipment\"</td>\n",
       "      <td>\"sop\"</td>\n",
       "      <td>\"equipment\"</td>\n",
       "      <td>\"sop\"</td>\n",
       "      <td>\"sop\"</td>\n",
       "      <td>\"sop\"</td>\n",
       "      <td>\"work\"</td>\n",
       "      <td>\"sop\"</td>\n",
       "      <td>\"sop\"</td>\n",
       "      <td>\"sop\"</td>\n",
       "    </tr>\n",
       "    <tr>\n",
       "      <th>9</th>\n",
       "      <td>\"sop\"</td>\n",
       "      <td>\"maintenance\"</td>\n",
       "      <td>\"maintenance\"</td>\n",
       "      <td>\"maintenance\"</td>\n",
       "      <td>\"maintenance\"</td>\n",
       "      <td>\"maintenance\"</td>\n",
       "      <td>\"maintenance\"</td>\n",
       "      <td>\"water\"</td>\n",
       "      <td>\"maintenance\"</td>\n",
       "      <td>\"maintenance\"</td>\n",
       "    </tr>\n",
       "  </tbody>\n",
       "</table>\n",
       "</div>"
      ],
      "text/plain": [
       "                0              1              2              3              4  \\\n",
       "0          \"due\"     \"operator\"        \"water\"        \"ladle\"        \"metal\"    \n",
       "1        \"metal\"         \"slag\"         \"slag\"        \"metal\"          \"due\"    \n",
       "2         \"slag\"          \"due\"          \"sop\"        \"water\"         \"slag\"    \n",
       "3        \"ladle\"        \"water\"        \"metal\"     \"operator\"        \"ladle\"    \n",
       "4         \"work\"        \"metal\"        \"ladle\"         \"slag\"     \"operator\"    \n",
       "5     \"operator\"        \"ladle\"     \"operator\"          \"due\"        \"water\"    \n",
       "6  \"maintenance\"         \"work\"         \"work\"         \"work\"    \"equipment\"    \n",
       "7        \"water\"    \"equipment\"          \"due\"    \"equipment\"         \"work\"    \n",
       "8    \"equipment\"          \"sop\"    \"equipment\"          \"sop\"          \"sop\"    \n",
       "9           \"sop\"  \"maintenance\"  \"maintenance\"  \"maintenance\"  \"maintenance\"   \n",
       "\n",
       "               5              6               7              8              9  \n",
       "0       \"metal\"    \"equipment\"         \"ladle\"         \"slag\"        \"ladle\"   \n",
       "1       \"ladle\"        \"ladle\"      \"operator\"        \"metal\"        \"metal\"   \n",
       "2        \"slag\"         \"slag\"           \"due\"        \"ladle\"         \"slag\"   \n",
       "3         \"due\"        \"metal\"         \"metal\"     \"operator\"     \"operator\"   \n",
       "4    \"operator\"          \"due\"          \"slag\"          \"due\"          \"due\"   \n",
       "5       \"water\"     \"operator\"     \"equipment\"        \"water\"        \"water\"   \n",
       "6   \"equipment\"        \"water\"          \"work\"    \"equipment\"    \"equipment\"   \n",
       "7        \"work\"          \"sop\"   \"maintenance\"         \"work\"         \"work\"   \n",
       "8         \"sop\"         \"work\"           \"sop\"          \"sop\"          \"sop\"   \n",
       "9  \"maintenance\"  \"maintenance\"         \"water\"  \"maintenance\"  \"maintenance\"  "
      ]
     },
     "execution_count": 193,
     "metadata": {},
     "output_type": "execute_result"
    }
   ],
   "source": [
    "f = []\n",
    "for key, value in invest_lda_tfidf.items():\n",
    "    f.append(value.split('+'))\n",
    "c= []\n",
    "for i in f:\n",
    "    a = []\n",
    "    for j in i:\n",
    "        a.append(j.split('*')[1])\n",
    "    c.append(a)\n",
    "df_for_invest_lda_tfidf = pd.DataFrame()\n",
    "for i in range(10):\n",
    "    df_for_invest_lda_tfidf[i] = c[i]\n",
    "df_for_invest_lda_tfidf"
   ]
  },
  {
   "cell_type": "code",
   "execution_count": 210,
   "metadata": {},
   "outputs": [
    {
     "data": {
      "text/html": [
       "<div>\n",
       "<style>\n",
       "    .dataframe thead tr:only-child th {\n",
       "        text-align: right;\n",
       "    }\n",
       "\n",
       "    .dataframe thead th {\n",
       "        text-align: left;\n",
       "    }\n",
       "\n",
       "    .dataframe tbody tr th {\n",
       "        vertical-align: top;\n",
       "    }\n",
       "</style>\n",
       "<table border=\"1\" class=\"dataframe\">\n",
       "  <thead>\n",
       "    <tr style=\"text-align: right;\">\n",
       "      <th></th>\n",
       "      <th>0</th>\n",
       "      <th>1</th>\n",
       "      <th>2</th>\n",
       "      <th>3</th>\n",
       "      <th>4</th>\n",
       "      <th>5</th>\n",
       "      <th>6</th>\n",
       "      <th>7</th>\n",
       "      <th>8</th>\n",
       "      <th>9</th>\n",
       "    </tr>\n",
       "  </thead>\n",
       "  <tbody>\n",
       "    <tr>\n",
       "      <th>0</th>\n",
       "      <td>\"ladle\"</td>\n",
       "      <td>\"work\"</td>\n",
       "      <td>\"equipment\"</td>\n",
       "      <td>\"ladle\"</td>\n",
       "      <td>\"maintenance\"</td>\n",
       "      <td>\"work\"</td>\n",
       "      <td>\"slag\"</td>\n",
       "      <td>\"improper\"</td>\n",
       "      <td>\"maintenance\"</td>\n",
       "      <td>\"metal\"</td>\n",
       "    </tr>\n",
       "    <tr>\n",
       "      <th>1</th>\n",
       "      <td>\"operator\"</td>\n",
       "      <td>\"worker\"</td>\n",
       "      <td>\"work\"</td>\n",
       "      <td>\"maintenance\"</td>\n",
       "      <td>\"nan\"</td>\n",
       "      <td>\"operator\"</td>\n",
       "      <td>\"worker\"</td>\n",
       "      <td>\"worker\"</td>\n",
       "      <td>\"water\"</td>\n",
       "      <td>\"operator\"</td>\n",
       "    </tr>\n",
       "    <tr>\n",
       "      <th>2</th>\n",
       "      <td>\"due\"</td>\n",
       "      <td>\"improper\"</td>\n",
       "      <td>\"improper\"</td>\n",
       "      <td>\"equipment\"</td>\n",
       "      <td>\"sop\"</td>\n",
       "      <td>\"water\"</td>\n",
       "      <td>\"inadequate\"</td>\n",
       "      <td>\"slag\"</td>\n",
       "      <td>\"worker\"</td>\n",
       "      <td>\"poor\"</td>\n",
       "    </tr>\n",
       "    <tr>\n",
       "      <th>3</th>\n",
       "      <td>\"improper\"</td>\n",
       "      <td>\"metal\"</td>\n",
       "      <td>\"slag\"</td>\n",
       "      <td>\"nan\"</td>\n",
       "      <td>\"due\"</td>\n",
       "      <td>\"nan\"</td>\n",
       "      <td>\"water\"</td>\n",
       "      <td>\"metal\"</td>\n",
       "      <td>\"sop\"</td>\n",
       "      <td>\"equipment\"</td>\n",
       "    </tr>\n",
       "    <tr>\n",
       "      <th>4</th>\n",
       "      <td>\"maintenance\"</td>\n",
       "      <td>\"operator\"</td>\n",
       "      <td>\"sop\"</td>\n",
       "      <td>\"operator\"</td>\n",
       "      <td>\"improper\"</td>\n",
       "      <td>\"due\"</td>\n",
       "      <td>\"ladle\"</td>\n",
       "      <td>\"inadequate\"</td>\n",
       "      <td>\"operator\"</td>\n",
       "      <td>\"sop\"</td>\n",
       "    </tr>\n",
       "    <tr>\n",
       "      <th>5</th>\n",
       "      <td>\"sop\"</td>\n",
       "      <td>\"poor\"</td>\n",
       "      <td>\"water\"</td>\n",
       "      <td>\"metal\"</td>\n",
       "      <td>\"poor\"</td>\n",
       "      <td>\"inadequate\"</td>\n",
       "      <td>\"sop\"</td>\n",
       "      <td>\"ladle\"</td>\n",
       "      <td>\"nan\"</td>\n",
       "      <td>\"worker\"</td>\n",
       "    </tr>\n",
       "    <tr>\n",
       "      <th>6</th>\n",
       "      <td>\"slag\"</td>\n",
       "      <td>\"slag\"</td>\n",
       "      <td>\"ladle\"</td>\n",
       "      <td>\"sop\"</td>\n",
       "      <td>\"inadequate\"</td>\n",
       "      <td>\"poor\"</td>\n",
       "      <td>\"improper\"</td>\n",
       "      <td>\"sop\"</td>\n",
       "      <td>\"equipment\"</td>\n",
       "      <td>\"improper\"</td>\n",
       "    </tr>\n",
       "    <tr>\n",
       "      <th>7</th>\n",
       "      <td>\"inadequate\"</td>\n",
       "      <td>\"due\"</td>\n",
       "      <td>\"worker\"</td>\n",
       "      <td>\"water\"</td>\n",
       "      <td>\"operator\"</td>\n",
       "      <td>\"maintenance\"</td>\n",
       "      <td>\"due\"</td>\n",
       "      <td>\"operator\"</td>\n",
       "      <td>\"ladle\"</td>\n",
       "      <td>\"ladle\"</td>\n",
       "    </tr>\n",
       "    <tr>\n",
       "      <th>8</th>\n",
       "      <td>\"work\"</td>\n",
       "      <td>\"water\"</td>\n",
       "      <td>\"operator\"</td>\n",
       "      <td>\"work\"</td>\n",
       "      <td>\"equipment\"</td>\n",
       "      <td>\"equipment\"</td>\n",
       "      <td>\"equipment\"</td>\n",
       "      <td>\"water\"</td>\n",
       "      <td>\"poor\"</td>\n",
       "      <td>\"water\"</td>\n",
       "    </tr>\n",
       "    <tr>\n",
       "      <th>9</th>\n",
       "      <td>\"equipment\"</td>\n",
       "      <td>\"equipment\"</td>\n",
       "      <td>\"maintenance\"</td>\n",
       "      <td>\"worker\"</td>\n",
       "      <td>\"slag\"</td>\n",
       "      <td>\"slag\"</td>\n",
       "      <td>\"poor\"</td>\n",
       "      <td>\"due\"</td>\n",
       "      <td>\"work\"</td>\n",
       "      <td>\"inadequate\"</td>\n",
       "    </tr>\n",
       "  </tbody>\n",
       "</table>\n",
       "</div>"
      ],
      "text/plain": [
       "                0            1              2               3               4  \\\n",
       "0        \"ladle\"       \"work\"    \"equipment\"         \"ladle\"   \"maintenance\"    \n",
       "1     \"operator\"     \"worker\"         \"work\"   \"maintenance\"           \"nan\"    \n",
       "2          \"due\"   \"improper\"     \"improper\"     \"equipment\"           \"sop\"    \n",
       "3     \"improper\"      \"metal\"         \"slag\"           \"nan\"           \"due\"    \n",
       "4  \"maintenance\"   \"operator\"          \"sop\"      \"operator\"      \"improper\"    \n",
       "5          \"sop\"       \"poor\"        \"water\"         \"metal\"          \"poor\"    \n",
       "6         \"slag\"       \"slag\"        \"ladle\"           \"sop\"    \"inadequate\"    \n",
       "7   \"inadequate\"        \"due\"       \"worker\"         \"water\"      \"operator\"    \n",
       "8         \"work\"      \"water\"     \"operator\"          \"work\"     \"equipment\"    \n",
       "9     \"equipment\"  \"equipment\"  \"maintenance\"        \"worker\"          \"slag\"   \n",
       "\n",
       "                5              6              7               8             9  \n",
       "0         \"work\"         \"slag\"     \"improper\"   \"maintenance\"       \"metal\"   \n",
       "1     \"operator\"       \"worker\"       \"worker\"         \"water\"    \"operator\"   \n",
       "2        \"water\"   \"inadequate\"         \"slag\"        \"worker\"        \"poor\"   \n",
       "3          \"nan\"        \"water\"        \"metal\"           \"sop\"   \"equipment\"   \n",
       "4          \"due\"        \"ladle\"   \"inadequate\"      \"operator\"         \"sop\"   \n",
       "5   \"inadequate\"          \"sop\"        \"ladle\"           \"nan\"      \"worker\"   \n",
       "6         \"poor\"     \"improper\"          \"sop\"     \"equipment\"    \"improper\"   \n",
       "7  \"maintenance\"          \"due\"     \"operator\"         \"ladle\"       \"ladle\"   \n",
       "8    \"equipment\"    \"equipment\"        \"water\"          \"poor\"       \"water\"   \n",
       "9          \"slag\"         \"poor\"          \"due\"          \"work\"  \"inadequate\"  "
      ]
     },
     "execution_count": 210,
     "metadata": {},
     "output_type": "execute_result"
    }
   ],
   "source": [
    "f = []\n",
    "for key, value in invest_lda_2.items():\n",
    "    f.append(value.split('+'))\n",
    "c= []\n",
    "for i in f:\n",
    "    a = []\n",
    "    for j in i:\n",
    "        a.append(j.split('*')[1])\n",
    "    c.append(a)\n",
    "df_for_invest_lda_2 = pd.DataFrame()\n",
    "for i in range(10):\n",
    "    df_for_invest_lda_2[i] = c[i]\n",
    "df_for_invest_lda_2"
   ]
  },
  {
   "cell_type": "code",
   "execution_count": 229,
   "metadata": {},
   "outputs": [
    {
     "data": {
      "text/html": [
       "<div>\n",
       "<style>\n",
       "    .dataframe thead tr:only-child th {\n",
       "        text-align: right;\n",
       "    }\n",
       "\n",
       "    .dataframe thead th {\n",
       "        text-align: left;\n",
       "    }\n",
       "\n",
       "    .dataframe tbody tr th {\n",
       "        vertical-align: top;\n",
       "    }\n",
       "</style>\n",
       "<table border=\"1\" class=\"dataframe\">\n",
       "  <thead>\n",
       "    <tr style=\"text-align: right;\">\n",
       "      <th></th>\n",
       "      <th>0</th>\n",
       "      <th>1</th>\n",
       "      <th>2</th>\n",
       "      <th>3</th>\n",
       "      <th>4</th>\n",
       "      <th>5</th>\n",
       "      <th>6</th>\n",
       "      <th>7</th>\n",
       "      <th>8</th>\n",
       "      <th>9</th>\n",
       "    </tr>\n",
       "  </thead>\n",
       "  <tbody>\n",
       "    <tr>\n",
       "      <th>0</th>\n",
       "      <td>\"line\"</td>\n",
       "      <td>\"trough\"</td>\n",
       "      <td>\"charging\"</td>\n",
       "      <td>\"damage\"</td>\n",
       "      <td>\"opened\"</td>\n",
       "      <td>\"found\"</td>\n",
       "      <td>\"placed\"</td>\n",
       "      <td>\"tundish\"</td>\n",
       "      <td>\"emergency\"</td>\n",
       "      <td>\"happened\"</td>\n",
       "    </tr>\n",
       "    <tr>\n",
       "      <th>1</th>\n",
       "      <td>\"casting\"</td>\n",
       "      <td>\"closed\"</td>\n",
       "      <td>\"tundish\"</td>\n",
       "      <td>\"spillage\"</td>\n",
       "      <td>\"flow\"</td>\n",
       "      <td>\"tilting\"</td>\n",
       "      <td>\"water\"</td>\n",
       "      <td>\"side\"</td>\n",
       "      <td>\"cast\"</td>\n",
       "      <td>\"opened\"</td>\n",
       "    </tr>\n",
       "    <tr>\n",
       "      <th>2</th>\n",
       "      <td>\"happened\"</td>\n",
       "      <td>\"ladle\"</td>\n",
       "      <td>\"around\"</td>\n",
       "      <td>\"house\"</td>\n",
       "      <td>\"could\"</td>\n",
       "      <td>\"steel\"</td>\n",
       "      <td>\"steel\"</td>\n",
       "      <td>\"taken\"</td>\n",
       "      <td>\"near\"</td>\n",
       "      <td>\"ladle\"</td>\n",
       "    </tr>\n",
       "    <tr>\n",
       "      <th>3</th>\n",
       "      <td>\"stopped\"</td>\n",
       "      <td>\"inside\"</td>\n",
       "      <td>\"cast\"</td>\n",
       "      <td>\"turret\"</td>\n",
       "      <td>\"side\"</td>\n",
       "      <td>\"gate\"</td>\n",
       "      <td>\"caster\"</td>\n",
       "      <td>\"moved\"</td>\n",
       "      <td>\"moved\"</td>\n",
       "      <td>\"around\"</td>\n",
       "    </tr>\n",
       "    <tr>\n",
       "      <th>4</th>\n",
       "      <td>\"started\"</td>\n",
       "      <td>\"flow\"</td>\n",
       "      <td>\"tap\"</td>\n",
       "      <td>\"ladle\"</td>\n",
       "      <td>\"fell\"</td>\n",
       "      <td>\"immediately\"</td>\n",
       "      <td>\"due\"</td>\n",
       "      <td>\"ladle\"</td>\n",
       "      <td>\"fire\"</td>\n",
       "      <td>\"area\"</td>\n",
       "    </tr>\n",
       "    <tr>\n",
       "      <th>5</th>\n",
       "      <td>\"occurred\"</td>\n",
       "      <td>\"injury\"</td>\n",
       "      <td>\"filled\"</td>\n",
       "      <td>\"trough\"</td>\n",
       "      <td>\"bay\"</td>\n",
       "      <td>\"spillage\"</td>\n",
       "      <td>\"tundish\"</td>\n",
       "      <td>\"caster\"</td>\n",
       "      <td>\"immediately\"</td>\n",
       "      <td>\"operator\"</td>\n",
       "    </tr>\n",
       "    <tr>\n",
       "      <th>6</th>\n",
       "      <td>\"house\"</td>\n",
       "      <td>\"steel\"</td>\n",
       "      <td>\"found\"</td>\n",
       "      <td>\"track\"</td>\n",
       "      <td>\"track\"</td>\n",
       "      <td>\"tundish\"</td>\n",
       "      <td>\"pit\"</td>\n",
       "      <td>\"started\"</td>\n",
       "      <td>\"got\"</td>\n",
       "      <td>\"damage\"</td>\n",
       "    </tr>\n",
       "    <tr>\n",
       "      <th>7</th>\n",
       "      <td>\"placed\"</td>\n",
       "      <td>\"line\"</td>\n",
       "      <td>\"fire\"</td>\n",
       "      <td>\"tap\"</td>\n",
       "      <td>\"house\"</td>\n",
       "      <td>\"leakage\"</td>\n",
       "      <td>\"occurred\"</td>\n",
       "      <td>\"fell\"</td>\n",
       "      <td>\"time\"</td>\n",
       "      <td>\"tilting\"</td>\n",
       "    </tr>\n",
       "    <tr>\n",
       "      <th>8</th>\n",
       "      <td>\"caster\"</td>\n",
       "      <td>\"leakage\"</td>\n",
       "      <td>\"observed\"</td>\n",
       "      <td>\"immediately\"</td>\n",
       "      <td>\"caster\"</td>\n",
       "      <td>\"damaged\"</td>\n",
       "      <td>\"time\"</td>\n",
       "      <td>\"torpedo\"</td>\n",
       "      <td>\"operator\"</td>\n",
       "      <td>\"slag\"</td>\n",
       "    </tr>\n",
       "    <tr>\n",
       "      <th>9</th>\n",
       "      <td>\"car\"</td>\n",
       "      <td>\"placed\"</td>\n",
       "      <td>\"emergency\"</td>\n",
       "      <td>\"happened\"</td>\n",
       "      <td>\"immediately\"</td>\n",
       "      <td>\"cast\"</td>\n",
       "      <td>\"towards\"</td>\n",
       "      <td>\"tap\"</td>\n",
       "      <td>\"damaged\"</td>\n",
       "      <td>\"emergency\"</td>\n",
       "    </tr>\n",
       "  </tbody>\n",
       "</table>\n",
       "</div>"
      ],
      "text/plain": [
       "             0           1            2               3              4  \\\n",
       "0      \"line\"    \"trough\"   \"charging\"        \"damage\"       \"opened\"    \n",
       "1   \"casting\"    \"closed\"    \"tundish\"      \"spillage\"         \"flow\"    \n",
       "2  \"happened\"     \"ladle\"     \"around\"         \"house\"        \"could\"    \n",
       "3   \"stopped\"    \"inside\"       \"cast\"        \"turret\"         \"side\"    \n",
       "4   \"started\"      \"flow\"        \"tap\"         \"ladle\"         \"fell\"    \n",
       "5  \"occurred\"    \"injury\"     \"filled\"        \"trough\"          \"bay\"    \n",
       "6     \"house\"     \"steel\"      \"found\"         \"track\"        \"track\"    \n",
       "7    \"placed\"      \"line\"       \"fire\"           \"tap\"        \"house\"    \n",
       "8    \"caster\"   \"leakage\"   \"observed\"   \"immediately\"       \"caster\"    \n",
       "9        \"car\"    \"placed\"  \"emergency\"      \"happened\"  \"immediately\"   \n",
       "\n",
       "                5            6           7               8            9  \n",
       "0        \"found\"     \"placed\"   \"tundish\"     \"emergency\"   \"happened\"   \n",
       "1      \"tilting\"      \"water\"      \"side\"          \"cast\"     \"opened\"   \n",
       "2        \"steel\"      \"steel\"     \"taken\"          \"near\"      \"ladle\"   \n",
       "3         \"gate\"     \"caster\"     \"moved\"         \"moved\"     \"around\"   \n",
       "4  \"immediately\"        \"due\"     \"ladle\"          \"fire\"       \"area\"   \n",
       "5     \"spillage\"    \"tundish\"    \"caster\"   \"immediately\"   \"operator\"   \n",
       "6      \"tundish\"        \"pit\"   \"started\"           \"got\"     \"damage\"   \n",
       "7      \"leakage\"   \"occurred\"      \"fell\"          \"time\"    \"tilting\"   \n",
       "8      \"damaged\"       \"time\"   \"torpedo\"      \"operator\"       \"slag\"   \n",
       "9          \"cast\"    \"towards\"       \"tap\"       \"damaged\"  \"emergency\"  "
      ]
     },
     "execution_count": 229,
     "metadata": {},
     "output_type": "execute_result"
    }
   ],
   "source": [
    "f = []\n",
    "for key, value in brief_d_lda_2.items():\n",
    "    f.append(value.split('+'))\n",
    "c= []\n",
    "for i in f:\n",
    "    a = []\n",
    "    for j in i:\n",
    "        a.append(j.split('*')[1])\n",
    "    c.append(a)\n",
    "df_for_brief_lda_2 = pd.DataFrame()\n",
    "for i in range(10):\n",
    "    df_for_brief_lda_2[i] = c[i]\n",
    "df_for_brief_lda_2"
   ]
  },
  {
   "cell_type": "markdown",
   "metadata": {},
   "source": [
    "### To excel\n"
   ]
  },
  {
   "cell_type": "code",
   "execution_count": 231,
   "metadata": {
    "collapsed": true
   },
   "outputs": [],
   "source": [
    "writer = pd.ExcelWriter('test.xlsx',engine='xlsxwriter')   \n",
    "workbook=writer.book\n",
    "worksheet=workbook.add_worksheet('Validation')\n",
    "writer.sheets['Validation'] = worksheet\n",
    "df_for_brief_d_kmeans.to_excel(writer,sheet_name='Validation',startrow=0 , startcol=0)   \n",
    "df_for_brief_d_lda.to_excel(writer,sheet_name='Validation',startrow=30, startcol=0)\n",
    "df_for_brief_d_lda_tfidf.to_excel(writer,sheet_name='Validation',startrow=50, startcol=0)\n",
    "df_for_brief_lda_2.to_excel(writer,sheet_name='Validation',startrow=70, startcol=0)"
   ]
  },
  {
   "cell_type": "markdown",
   "metadata": {},
   "source": [
    "##### OR"
   ]
  },
  {
   "cell_type": "code",
   "execution_count": 233,
   "metadata": {
    "collapsed": true
   },
   "outputs": [],
   "source": [
    "def dfs_tabs(df_list, sheet_list, file_name):\n",
    "    writer = pd.ExcelWriter(file_name,engine='xlsxwriter')   \n",
    "    for dataframe, sheet in zip(df_list, sheet_list):\n",
    "        dataframe.to_excel(writer, sheet_name=sheet, startrow=0 , startcol=0)   \n",
    "    writer.save()\n",
    "\n",
    "# list of dataframes and sheet names\n",
    "dfs = [df_for_brief_d_kmeans,df_for_brief_d_lda, df_for_brief_d_lda_tfidf, df_for_brief_lda_2]\n",
    "sheets = ['Kmeans','lda','lda_tfidf', 'lda_2']    \n",
    "\n",
    "# run function\n",
    "dfs_tabs(dfs, sheets, 'brief_d.xlsx')"
   ]
  },
  {
   "cell_type": "code",
   "execution_count": 234,
   "metadata": {
    "collapsed": true
   },
   "outputs": [],
   "source": [
    "def dfs_tabs(df_list, sheet_list, file_name):\n",
    "    writer = pd.ExcelWriter(file_name,engine='xlsxwriter')   \n",
    "    for dataframe, sheet in zip(df_list, sheet_list):\n",
    "        dataframe.to_excel(writer, sheet_name=sheet, startrow=0 , startcol=0)   \n",
    "    writer.save()\n",
    "\n",
    "# list of dataframes and sheet names\n",
    "dfs = [df_for_invest_kmeans,df_for_invest_lda, df_for_invest_lda_tfidf, df_for_invest_lda_2]\n",
    "sheets = ['Kmeans','lda','lda_tfidf', 'lda_2']    \n",
    "\n",
    "# run function\n",
    "dfs_tabs(dfs, sheets, 'invest.xlsx')"
   ]
  },
  {
   "cell_type": "markdown",
   "metadata": {},
   "source": [
    "#### Read Data"
   ]
  },
  {
   "cell_type": "code",
   "execution_count": 245,
   "metadata": {
    "collapsed": true
   },
   "outputs": [],
   "source": [
    "brief_d = pd.read_csv(r'F:\\Winter pack\\Introduction to Game Development\\Project on DA\\Projects\\Project_3(Concept Map)\\result\\New folder\\Brief Data.csv')\n",
    "invest_d = pd.read_csv(r'F:\\Winter pack\\Introduction to Game Development\\Project on DA\\Projects\\Project_3(Concept Map)\\result\\New folder\\invest Data.csv')"
   ]
  },
  {
   "cell_type": "code",
   "execution_count": 254,
   "metadata": {
    "collapsed": true
   },
   "outputs": [],
   "source": [
    "for i in brief_d.columns:\n",
    "    for j in range(len(brief_d[i])):\n",
    "        brief_d[i].values[j] = brief_d[i].values[j].replace('\"', '')\n",
    "        brief_d[i].values[j] = brief_d[i].values[j].replace(' ', '')"
   ]
  },
  {
   "cell_type": "code",
   "execution_count": 257,
   "metadata": {
    "collapsed": true
   },
   "outputs": [],
   "source": [
    "for i in invest_d.columns:\n",
    "    for j in range(len(invest_d[i])):\n",
    "        invest_d[i].values[j] = invest_d[i].values[j].replace('\"', '')\n",
    "        invest_d[i].values[j] = invest_d[i].values[j].replace(' ', '')"
   ]
  },
  {
   "cell_type": "markdown",
   "metadata": {},
   "source": [
    "### Starting Graph"
   ]
  },
  {
   "cell_type": "code",
   "execution_count": 43,
   "metadata": {
    "collapsed": true
   },
   "outputs": [],
   "source": [
    "import warnings\n",
    "warnings.filterwarnings('ignore')\n",
    "import networkx as nx\n",
    "import pandas as pd\n",
    "import matplotlib.pyplot as plt\n",
    "G = nx.Graph()"
   ]
  },
  {
   "cell_type": "code",
   "execution_count": 44,
   "metadata": {
    "collapsed": true
   },
   "outputs": [],
   "source": [
    "node0 = data['Hazardous Element'].unique().tolist()\n",
    "node1 = data['Initiating mechanism'].unique().tolist()\n",
    "node2 = data['Accident/ incident'].unique().tolist()"
   ]
  },
  {
   "cell_type": "code",
   "execution_count": 45,
   "metadata": {},
   "outputs": [
    {
     "data": {
      "text/html": [
       "<div>\n",
       "<style>\n",
       "    .dataframe thead tr:only-child th {\n",
       "        text-align: right;\n",
       "    }\n",
       "\n",
       "    .dataframe thead th {\n",
       "        text-align: left;\n",
       "    }\n",
       "\n",
       "    .dataframe tbody tr th {\n",
       "        vertical-align: top;\n",
       "    }\n",
       "</style>\n",
       "<table border=\"1\" class=\"dataframe\">\n",
       "  <thead>\n",
       "    <tr style=\"text-align: right;\">\n",
       "      <th></th>\n",
       "      <th>Brief Description</th>\n",
       "      <th>Investigation Report</th>\n",
       "      <th>Hazardous Element</th>\n",
       "      <th>Initiating mechanism</th>\n",
       "      <th>Accident/ incident</th>\n",
       "      <th>investigation Report</th>\n",
       "    </tr>\n",
       "  </thead>\n",
       "  <tbody>\n",
       "    <tr>\n",
       "      <th>0</th>\n",
       "      <td>Cast House #2 Main Trough puncher and hot meta...</td>\n",
       "      <td>Metal have passed through the gap between ACCM...</td>\n",
       "      <td>Hot metal/ steel/slag</td>\n",
       "      <td>failure/malfunctioning of equipment</td>\n",
       "      <td>spillage of hazardous material</td>\n",
       "      <td>None</td>\n",
       "    </tr>\n",
       "    <tr>\n",
       "      <th>1</th>\n",
       "      <td>After purging of H.No. T39845 when purging lan...</td>\n",
       "      <td>An investigation was carried out with cross fu...</td>\n",
       "      <td>Hot metal/ steel/slag</td>\n",
       "      <td>failure/malfunctioning of equipment</td>\n",
       "      <td>spillage of hazardous material</td>\n",
       "      <td>None</td>\n",
       "    </tr>\n",
       "    <tr>\n",
       "      <th>2</th>\n",
       "      <td>During Tapping from tap hole no #1, slag was d...</td>\n",
       "      <td>improper work by operator (clay intrapped with...</td>\n",
       "      <td>Hot metal/ steel/slag</td>\n",
       "      <td>improper work by operator/worker</td>\n",
       "      <td>Explosion</td>\n",
       "      <td>None</td>\n",
       "    </tr>\n",
       "    <tr>\n",
       "      <th>3</th>\n",
       "      <td>Huge skirt leakage in vessel #1 after jam fell...</td>\n",
       "      <td>Prior to breakdown on 10th Apr’15 there were e...</td>\n",
       "      <td>Hot metal/ steel/slag</td>\n",
       "      <td>presence of unwanted/flammable material</td>\n",
       "      <td>Leakage of hazardous material</td>\n",
       "      <td>None</td>\n",
       "    </tr>\n",
       "    <tr>\n",
       "      <th>4</th>\n",
       "      <td>Ladle # 9 Slide gate failed to operate. There ...</td>\n",
       "      <td>malfunction of equipment/machine</td>\n",
       "      <td>Hot metal/ steel/slag</td>\n",
       "      <td>failure/malfunctioning of equipment</td>\n",
       "      <td>Leakage of hazardous material</td>\n",
       "      <td>None</td>\n",
       "    </tr>\n",
       "  </tbody>\n",
       "</table>\n",
       "</div>"
      ],
      "text/plain": [
       "                                   Brief Description  \\\n",
       "0  Cast House #2 Main Trough puncher and hot meta...   \n",
       "1  After purging of H.No. T39845 when purging lan...   \n",
       "2  During Tapping from tap hole no #1, slag was d...   \n",
       "3  Huge skirt leakage in vessel #1 after jam fell...   \n",
       "4  Ladle # 9 Slide gate failed to operate. There ...   \n",
       "\n",
       "                                Investigation Report      Hazardous Element  \\\n",
       "0  Metal have passed through the gap between ACCM...  Hot metal/ steel/slag   \n",
       "1  An investigation was carried out with cross fu...  Hot metal/ steel/slag   \n",
       "2  improper work by operator (clay intrapped with...  Hot metal/ steel/slag   \n",
       "3  Prior to breakdown on 10th Apr’15 there were e...  Hot metal/ steel/slag   \n",
       "4                   malfunction of equipment/machine  Hot metal/ steel/slag   \n",
       "\n",
       "                      Initiating mechanism              Accident/ incident  \\\n",
       "0      failure/malfunctioning of equipment  spillage of hazardous material   \n",
       "1      failure/malfunctioning of equipment  spillage of hazardous material   \n",
       "2         improper work by operator/worker                       Explosion   \n",
       "3  presence of unwanted/flammable material   Leakage of hazardous material   \n",
       "4      failure/malfunctioning of equipment   Leakage of hazardous material   \n",
       "\n",
       "  investigation Report  \n",
       "0                 None  \n",
       "1                 None  \n",
       "2                 None  \n",
       "3                 None  \n",
       "4                 None  "
      ]
     },
     "execution_count": 45,
     "metadata": {},
     "output_type": "execute_result"
    }
   ],
   "source": [
    "data.head()"
   ]
  },
  {
   "cell_type": "code",
   "execution_count": 46,
   "metadata": {
    "collapsed": true
   },
   "outputs": [],
   "source": [
    "in_dict = {}\n",
    "for i in node1:\n",
    "    a = []\n",
    "    for j in range(len(data)):\n",
    "        if data['Initiating mechanism'][j] == i:\n",
    "            a.append(data['Accident/ incident'][j])\n",
    "    in_dict[i] = a"
   ]
  },
  {
   "cell_type": "code",
   "execution_count": 47,
   "metadata": {
    "collapsed": true
   },
   "outputs": [],
   "source": [
    "node = [node0,node1,node2]"
   ]
  },
  {
   "cell_type": "code",
   "execution_count": 48,
   "metadata": {
    "collapsed": true
   },
   "outputs": [],
   "source": [
    "G = nx.Graph()\n",
    "for i in node:\n",
    "    for j in i:\n",
    "        G.add_node(j)"
   ]
  },
  {
   "cell_type": "code",
   "execution_count": 49,
   "metadata": {
    "collapsed": true
   },
   "outputs": [],
   "source": [
    "c_value = []\n",
    "for i in range(len(G.nodes())):\n",
    "    if G.nodes()[i] != G.nodes()[0] and (i<11):  \n",
    "        c_value.append([G.nodes()[0], G.nodes()[i]])"
   ]
  },
  {
   "cell_type": "code",
   "execution_count": 50,
   "metadata": {},
   "outputs": [
    {
     "data": {
      "text/plain": [
       "[['Hot metal/ steel/slag', 'failure/malfunctioning of equipment'],\n",
       " ['Hot metal/ steel/slag', 'improper work by operator/worker'],\n",
       " ['Hot metal/ steel/slag', 'presence of unwanted/flammable material'],\n",
       " ['Hot metal/ steel/slag', 'damaged/degraded/poorly maintained equipment'],\n",
       " ['Hot metal/ steel/slag',\n",
       "  'improper material/material quality/equipment design'],\n",
       " ['Hot metal/ steel/slag', 'lack of commnication/supervision'],\n",
       " ['Hot metal/ steel/slag', 'improper/exceeded process/operating parameters'],\n",
       " ['Hot metal/ steel/slag', 'Inadequate/ unavailable SOP'],\n",
       " ['Hot metal/ steel/slag', 'improper working environment'],\n",
       " ['Hot metal/ steel/slag', 'Abnormal process parameter']]"
      ]
     },
     "execution_count": 50,
     "metadata": {},
     "output_type": "execute_result"
    }
   ],
   "source": [
    "c_value"
   ]
  },
  {
   "cell_type": "code",
   "execution_count": 51,
   "metadata": {
    "collapsed": true
   },
   "outputs": [],
   "source": [
    "o_value = []\n",
    "for key,value in in_dict.items():\n",
    "    b = []\n",
    "    for j in value:\n",
    "        o_value.append([key, j])"
   ]
  },
  {
   "cell_type": "code",
   "execution_count": 52,
   "metadata": {
    "collapsed": true
   },
   "outputs": [],
   "source": [
    "for i in o_value:\n",
    "    c_value.append(o_value)"
   ]
  },
  {
   "cell_type": "code",
   "execution_count": 710,
   "metadata": {
    "collapsed": true
   },
   "outputs": [],
   "source": [
    "G.add_edges_from(o_value)"
   ]
  },
  {
   "cell_type": "code",
   "execution_count": 612,
   "metadata": {
    "collapsed": true
   },
   "outputs": [],
   "source": [
    "nx.write_edgelist(G, \"test_edgelist.txt\")\n",
    "\n",
    "options = {\n",
    "    'edge_color': '#ffdf55',\n",
    "    'width': 5,\n",
    "    'with_labels': True,\n",
    "    'font_weight': 'regular',\n",
    "    #'edge_labels': 'edge_labels'\n",
    "}"
   ]
  },
  {
   "cell_type": "code",
   "execution_count": 721,
   "metadata": {
    "collapsed": true
   },
   "outputs": [],
   "source": [
    "value = []\n",
    "for i in range(len(G.nodes())):\n",
    "    if i==0:\n",
    "        value.append('#FF0000')\n",
    "    elif i>0 and i<11:\n",
    "        value.append('#FF8C00')\n",
    "    else:\n",
    "        value.append('#FFFF00')"
   ]
  },
  {
   "cell_type": "code",
   "execution_count": 715,
   "metadata": {
    "collapsed": true
   },
   "outputs": [],
   "source": [
    "edges = []\n",
    "for edge in G.edges():\n",
    "    edges.append(edge[0])\n",
    "my_dict = {i:edges.count(i) for i in edges}\n",
    "size = []\n",
    "for key, value in my_dict.items():\n",
    "        size.append(value)"
   ]
  },
  {
   "cell_type": "code",
   "execution_count": 716,
   "metadata": {
    "collapsed": true
   },
   "outputs": [],
   "source": [
    "secondary_edge = []\n",
    "for i in range(len(G.edges())):\n",
    "    if i>10:\n",
    "        secondary_edge.append(G.edges()[i][1])"
   ]
  },
  {
   "cell_type": "code",
   "execution_count": 717,
   "metadata": {
    "collapsed": true
   },
   "outputs": [],
   "source": [
    "secondary = []\n",
    "my_dict = {i:secondary_edge.count(i) for i in secondary_edge}"
   ]
  },
  {
   "cell_type": "code",
   "execution_count": 718,
   "metadata": {
    "collapsed": true
   },
   "outputs": [],
   "source": [
    "s = []\n",
    "for  i in range(len(G.nodes())):\n",
    "    if i>10:\n",
    "        s.append(my_dict[G.nodes()[i]])\n",
    "for i in s:\n",
    "    size.append(i)"
   ]
  },
  {
   "cell_type": "code",
   "execution_count": 719,
   "metadata": {
    "collapsed": true
   },
   "outputs": [],
   "source": [
    "for i in range(len(size)):\n",
    "    size[i] = size[i]*1500"
   ]
  },
  {
   "cell_type": "code",
   "execution_count": null,
   "metadata": {
    "collapsed": true,
    "scrolled": true
   },
   "outputs": [],
   "source": []
  },
  {
   "cell_type": "code",
   "execution_count": 620,
   "metadata": {},
   "outputs": [
    {
     "data": {
      "text/plain": [
       "'nx.draw(G)  \\nnx.draw_random(G)  \\nnx.draw_circular(G)  \\nnx.draw_spectral(G)  \\nnx.draw_spring(G)\\ncircular_layout(G)'"
      ]
     },
     "execution_count": 620,
     "metadata": {},
     "output_type": "execute_result"
    }
   ],
   "source": [
    "'''nx.draw(G)  \n",
    "nx.draw_random(G)  \n",
    "nx.draw_circular(G)  \n",
    "nx.draw_spectral(G)  \n",
    "nx.draw_spring(G)\n",
    "circular_layout(G)'''"
   ]
  },
  {
   "cell_type": "code",
   "execution_count": 724,
   "metadata": {
    "scrolled": false
   },
   "outputs": [
    {
     "data": {
      "image/png": "[encoded data removed]",
      "text/plain": [
       "<Figure size 1800x1800 with 1 Axes>"
      ]
     },
     "metadata": {},
     "output_type": "display_data"
    },
    {
     "data": {
      "text/plain": [
       "<Figure size 432x288 with 0 Axes>"
      ]
     },
     "metadata": {},
     "output_type": "display_data"
    }
   ],
   "source": [
    "%matplotlib inline\n",
    "import pylab\n",
    "from matplotlib.pyplot import figure\n",
    "pos=nx.spring_layout(G)\n",
    "plt.figure(figsize=(25,25))\n",
    "nx.draw(G,pos, node_size=size,node_color=value, with_labels = True,arrowsize=5, font_size = 20,  arrows = True)\n",
    "#edge_labels=dict([((u,v,),d['weight'])\n",
    "                 #for u,v,d in G.edges(data=True)]\n",
    "plt.show()\n",
    "#plt.axis('off')\n",
    "pylab.savefig(\"foo.png\")"
   ]
  },
  {
   "cell_type": "markdown",
   "metadata": {},
   "source": [
    "#### Word graph"
   ]
  },
  {
   "cell_type": "code",
   "execution_count": 53,
   "metadata": {
    "collapsed": true
   },
   "outputs": [],
   "source": [
    "brief_d = pd.read_csv(r'F:\\Winter pack\\Introduction to Game Development\\Project on DA\\Projects\\Project_3(Concept Map)\\result\\New folder\\Brief Data.csv')\n",
    "invest_d = pd.read_csv(r'F:\\Winter pack\\Introduction to Game Development\\Project on DA\\Projects\\Project_3(Concept Map)\\result\\New folder\\invest Data.csv')"
   ]
  },
  {
   "cell_type": "code",
   "execution_count": 54,
   "metadata": {
    "collapsed": true
   },
   "outputs": [],
   "source": [
    "for i in brief_d.columns:\n",
    "    for j in range(len(brief_d[i])):\n",
    "        brief_d[i].values[j] = brief_d[i].values[j].replace('\"', '')\n",
    "        brief_d[i].values[j] = brief_d[i].values[j].replace(' ', '')\n",
    "\n",
    "for i in invest_d.columns:\n",
    "    for j in range(len(invest_d[i])):\n",
    "        invest_d[i].values[j] = invest_d[i].values[j].replace('\"', '')\n",
    "        invest_d[i].values[j] = invest_d[i].values[j].replace(' ', '')"
   ]
  }
 ],
 "metadata": {
  "kernelspec": {
   "display_name": "Python 3",
   "language": "python",
   "name": "python3"
  },
  "language_info": {
   "codemirror_mode": {
    "name": "ipython",
    "version": 3
   },
   "file_extension": ".py",
   "mimetype": "text/x-python",
   "name": "python",
   "nbconvert_exporter": "python",
   "pygments_lexer": "ipython3",
   "version": "3.6.2"
  }
 },
 "nbformat": 4,
 "nbformat_minor": 2
}
